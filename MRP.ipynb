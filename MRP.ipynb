{
  "nbformat": 4,
  "nbformat_minor": 0,
  "metadata": {
    "colab": {
      "name": "MRP.ipynb",
      "provenance": [],
      "collapsed_sections": [],
      "authorship_tag": "ABX9TyPNAi0aaH3zaHNGrNit5flp",
      "include_colab_link": true
    },
    "kernelspec": {
      "name": "python3",
      "display_name": "Python 3"
    },
    "language_info": {
      "name": "python"
    },
    "accelerator": "TPU"
  },
  "cells": [
    {
      "cell_type": "markdown",
      "metadata": {
        "id": "view-in-github",
        "colab_type": "text"
      },
      "source": [
        "<a href=\"https://colab.research.google.com/github/richa12717/MRP2021/blob/main/MRP.ipynb\" target=\"_parent\"><img src=\"https://colab.research.google.com/assets/colab-badge.svg\" alt=\"Open In Colab\"/></a>"
      ]
    },
    {
      "cell_type": "markdown",
      "metadata": {
        "id": "ISVxw5V-DlzH"
      },
      "source": [
        "### ***Predicting carbon dioxide emission from sustainable smart city environment perspective and its effect on the environment. This project uses the Canadian Government dataset.***"
      ]
    },
    {
      "cell_type": "markdown",
      "metadata": {
        "id": "Jn2fxteSC7pG"
      },
      "source": [
        "***Introduction:***"
      ]
    },
    {
      "cell_type": "markdown",
      "metadata": {
        "id": "bnaKFuz6CqGe"
      },
      "source": [
        "Carbon dioxide emissions are the primary driver of global climate change. It’s widely recognised that to avoid the worst impacts of climate change, the world needs to urgently reduce the carbon footprint. We are moving closer to the planet’s 2030 deadline, after which the damage done from climate change may be irreversible. \n",
        "\n",
        "The push toward a sustanable smart society has led many manufacturers to create more sustainable automobiles-a plug-in hybrid, a hybrid and electric.\n",
        "This is the data of CO2 Emission by the canadian vehicles for year 1995-2014. I am using this data to create the models that will give 85-100% accuracy in forcasting the near future CO2 emmission. \n"
      ]
    },
    {
      "cell_type": "markdown",
      "metadata": {
        "id": "J6XivbT2yaVL"
      },
      "source": [
        "Environment Setup"
      ]
    },
    {
      "cell_type": "code",
      "metadata": {
        "id": "rfuFH3RUOqK9"
      },
      "source": [
        "#import Libraries\n",
        "## For data\n",
        "import numpy as np \n",
        "import pandas as pd \n",
        "pd.set_option('display.max_columns', None)\n",
        "\n",
        "## For plotting\n",
        "import seaborn as sns\n",
        "%matplotlib inline\n",
        "import matplotlib.pyplot as plt\n",
        "import matplotlib.animation as animation\n",
        "from matplotlib.animation import FuncAnimation\n",
        "\n",
        "## For machine learning\n",
        "from sklearn.model_selection import train_test_split\n",
        "\n",
        "## for Time\n",
        "import time\n",
        "\n",
        "## To standardise the data input\n",
        "from sklearn.preprocessing import StandardScaler"
      ],
      "execution_count": null,
      "outputs": []
    },
    {
      "cell_type": "markdown",
      "metadata": {
        "id": "9TSABcaKdVqq"
      },
      "source": [
        "**Load the first file that contains the data for year 1995-1999**"
      ]
    },
    {
      "cell_type": "code",
      "metadata": {
        "id": "IZGKZfvRJYPL",
        "colab": {
          "base_uri": "https://localhost:8080/"
        },
        "outputId": "f92d2668-a490-42f7-fbbf-42e1b377a2db"
      },
      "source": [
        "#Read data\n",
        "df1=pd.read_csv(\"Original_1995-1999_Fuel_Consumption_Ratings_(2-cycle).csv\", skiprows=[i for i in range(3521,3542)]) \n",
        "# Remove first row after the heading that contain partial headings and nans\n",
        "df1.drop(index=0,axis=1, inplace=True)\n",
        "print(df1.head(10))\n",
        "#np.savetxt('path/filename.extension', numpy_array_name_to_be_stored_as_file, delimiter=',', newline='\\n')"
      ],
      "execution_count": null,
      "outputs": [
        {
          "output_type": "stream",
          "name": "stdout",
          "text": [
            "   MODEL        MAKE       MODEL.1 VEHICLE CLASS ENGINE SIZE  CYLINDERS  \\\n",
            "1   1995       ACURA       INTEGRA    SUBCOMPACT         1.8        4.0   \n",
            "2   1995       ACURA       INTEGRA    SUBCOMPACT         1.8        4.0   \n",
            "3   1995       ACURA  INTEGRA GS-R    SUBCOMPACT         1.8        4.0   \n",
            "4   1995       ACURA        LEGEND       COMPACT         3.2        6.0   \n",
            "5   1995       ACURA  LEGEND COUPE       COMPACT         3.2        6.0   \n",
            "6   1995       ACURA  LEGEND COUPE       COMPACT         3.2        6.0   \n",
            "7   1995       ACURA           NSX    TWO-SEATER         3.0        6.0   \n",
            "8   1995       ACURA           NSX    TWO-SEATER         3.0        6.0   \n",
            "9   1995  ALFA ROMEO        164 LS       COMPACT         3.0        6.0   \n",
            "10  1995  ALFA ROMEO        164 LS       COMPACT         3.0        6.0   \n",
            "\n",
            "   TRANSMISSION FUEL FUEL CONSUMPTION Unnamed: 9 Unnamed: 10 Unnamed: 11  \\\n",
            "1            A4    X             10.2        7.0         8.8          32   \n",
            "2            M5    X              9.6        7.0         8.4          34   \n",
            "3            M5    Z              9.4        7.0         8.3          34   \n",
            "4            A4    Z             12.6        8.9        10.9          26   \n",
            "5            A4    Z             13.0        9.3        11.3          25   \n",
            "6            M6    Z             13.4        8.4        11.2          25   \n",
            "7            A4    Z             13.5        9.2        11.6          24   \n",
            "8            M5    Z             12.9        9.0        11.1          25   \n",
            "9            A4    Z             15.7       10.0        13.1          22   \n",
            "10           M5    Z             13.8        9.0        11.6          24   \n",
            "\n",
            "   CO2 EMISSIONS   \n",
            "1             202  \n",
            "2             193  \n",
            "3             191  \n",
            "4             251  \n",
            "5             260  \n",
            "6             258  \n",
            "7             267  \n",
            "8             255  \n",
            "9             301  \n",
            "10            267  \n"
          ]
        }
      ]
    },
    {
      "cell_type": "code",
      "metadata": {
        "colab": {
          "base_uri": "https://localhost:8080/",
          "height": 300
        },
        "id": "0-DuLSrQJ1g0",
        "outputId": "097cdee2-b1c6-4c1a-a5a2-c94c4ffe5dd2"
      },
      "source": [
        "df1[\"CO2 EMISSIONS \"]=df1[\"CO2 EMISSIONS \"].astype('float64')\n",
        "df1.describe()"
      ],
      "execution_count": null,
      "outputs": [
        {
          "output_type": "execute_result",
          "data": {
            "text/html": [
              "<div>\n",
              "<style scoped>\n",
              "    .dataframe tbody tr th:only-of-type {\n",
              "        vertical-align: middle;\n",
              "    }\n",
              "\n",
              "    .dataframe tbody tr th {\n",
              "        vertical-align: top;\n",
              "    }\n",
              "\n",
              "    .dataframe thead th {\n",
              "        text-align: right;\n",
              "    }\n",
              "</style>\n",
              "<table border=\"1\" class=\"dataframe\">\n",
              "  <thead>\n",
              "    <tr style=\"text-align: right;\">\n",
              "      <th></th>\n",
              "      <th>CYLINDERS</th>\n",
              "      <th>CO2 EMISSIONS</th>\n",
              "    </tr>\n",
              "  </thead>\n",
              "  <tbody>\n",
              "    <tr>\n",
              "      <th>count</th>\n",
              "      <td>3519.000000</td>\n",
              "      <td>3519.000000</td>\n",
              "    </tr>\n",
              "    <tr>\n",
              "      <th>mean</th>\n",
              "      <td>5.780904</td>\n",
              "      <td>261.757602</td>\n",
              "    </tr>\n",
              "    <tr>\n",
              "      <th>std</th>\n",
              "      <td>1.641738</td>\n",
              "      <td>63.564076</td>\n",
              "    </tr>\n",
              "    <tr>\n",
              "      <th>min</th>\n",
              "      <td>2.000000</td>\n",
              "      <td>113.000000</td>\n",
              "    </tr>\n",
              "    <tr>\n",
              "      <th>25%</th>\n",
              "      <td>4.000000</td>\n",
              "      <td>216.000000</td>\n",
              "    </tr>\n",
              "    <tr>\n",
              "      <th>50%</th>\n",
              "      <td>6.000000</td>\n",
              "      <td>253.000000</td>\n",
              "    </tr>\n",
              "    <tr>\n",
              "      <th>75%</th>\n",
              "      <td>6.000000</td>\n",
              "      <td>304.000000</td>\n",
              "    </tr>\n",
              "    <tr>\n",
              "      <th>max</th>\n",
              "      <td>12.000000</td>\n",
              "      <td>490.000000</td>\n",
              "    </tr>\n",
              "  </tbody>\n",
              "</table>\n",
              "</div>"
            ],
            "text/plain": [
              "         CYLINDERS  CO2 EMISSIONS \n",
              "count  3519.000000     3519.000000\n",
              "mean      5.780904      261.757602\n",
              "std       1.641738       63.564076\n",
              "min       2.000000      113.000000\n",
              "25%       4.000000      216.000000\n",
              "50%       6.000000      253.000000\n",
              "75%       6.000000      304.000000\n",
              "max      12.000000      490.000000"
            ]
          },
          "metadata": {},
          "execution_count": 3
        }
      ]
    },
    {
      "cell_type": "markdown",
      "metadata": {
        "id": "8XGWLyduZHS1"
      },
      "source": [
        "Average CO2 Emmision produced with the vehicles for year 1995-1999 is 261.758 grams per kilometre. \n",
        "\n",
        "\n",
        "\n",
        "Companies has come up with fact that CO2 emmision can be reduced by introducing the new technologies."
      ]
    },
    {
      "cell_type": "markdown",
      "metadata": {
        "id": "1ak3IZ_EC0Xa"
      },
      "source": [
        "**Load the second file that contains the data for year 2000-2014**"
      ]
    },
    {
      "cell_type": "code",
      "metadata": {
        "colab": {
          "base_uri": "https://localhost:8080/"
        },
        "id": "fHVVX-FxI9hf",
        "outputId": "0d9b06d4-e987-41d3-9291-beb9703bf145"
      },
      "source": [
        "df2=pd.read_csv(\"Original MY2000-2014 Fuel Consumption Ratings (2-cycle).csv\", skiprows=[i for i in range(14255,14276)])\n",
        "# drop empty columns from the dataframe\n",
        "df2.dropna(how='all', axis=1,inplace=True)\n",
        "#Drop the first row from the dataframe that contain sub-headings\n",
        "df2.drop(index=0, inplace=True)\n",
        "print(\"Shape of the first file:\",df2.shape)\n",
        "print(\"\\n\",df2.head())"
      ],
      "execution_count": null,
      "outputs": [
        {
          "output_type": "stream",
          "name": "stdout",
          "text": [
            "Shape of the first file: (14253, 13)\n",
            "\n",
            "   MODEL   MAKE  MODEL.1 VEHICLE CLASS ENGINE SIZE  CYLINDERS TRANSMISSION  \\\n",
            "1  2000  ACURA    1.6EL       COMPACT         1.6        4.0           A4   \n",
            "2  2000  ACURA    1.6EL       COMPACT         1.6        4.0           M5   \n",
            "3  2000  ACURA    3.2TL      MID-SIZE         3.2        6.0          AS5   \n",
            "4  2000  ACURA    3.5RL      MID-SIZE         3.5        6.0           A4   \n",
            "5  2000  ACURA  INTEGRA    SUBCOMPACT         1.8        4.0           A4   \n",
            "\n",
            "  FUEL FUEL CONSUMPTION Unnamed: 9 Unnamed: 10 Unnamed: 11 CO2 EMISSIONS   \n",
            "1    X              9.2        6.7         8.1          35            186  \n",
            "2    X              8.5        6.5         7.6          37            175  \n",
            "3    Z             12.2        7.4        10.0          28            230  \n",
            "4    Z             13.4        9.2        11.5          25            264  \n",
            "5    X             10.0        7.0         8.6          33            198  \n"
          ]
        },
        {
          "output_type": "stream",
          "name": "stderr",
          "text": [
            "/usr/local/lib/python3.7/dist-packages/IPython/core/interactiveshell.py:2718: DtypeWarning: Columns (0,4,8,9,10,11,12) have mixed types.Specify dtype option on import or set low_memory=False.\n",
            "  interactivity=interactivity, compiler=compiler, result=result)\n"
          ]
        }
      ]
    },
    {
      "cell_type": "code",
      "metadata": {
        "colab": {
          "base_uri": "https://localhost:8080/",
          "height": 300
        },
        "id": "NBUOwcFlYMog",
        "outputId": "5897ad58-0714-4683-ff5b-bf0588fbc885"
      },
      "source": [
        "\n",
        "# Convert the datatype of 'CO2 EMISSIONS' column to float\n",
        "df2[\"CO2 EMISSIONS \"]=df2[\"CO2 EMISSIONS \"].astype('float64')\n",
        "df2.describe()"
      ],
      "execution_count": null,
      "outputs": [
        {
          "output_type": "execute_result",
          "data": {
            "text/html": [
              "<div>\n",
              "<style scoped>\n",
              "    .dataframe tbody tr th:only-of-type {\n",
              "        vertical-align: middle;\n",
              "    }\n",
              "\n",
              "    .dataframe tbody tr th {\n",
              "        vertical-align: top;\n",
              "    }\n",
              "\n",
              "    .dataframe thead th {\n",
              "        text-align: right;\n",
              "    }\n",
              "</style>\n",
              "<table border=\"1\" class=\"dataframe\">\n",
              "  <thead>\n",
              "    <tr style=\"text-align: right;\">\n",
              "      <th></th>\n",
              "      <th>CYLINDERS</th>\n",
              "      <th>CO2 EMISSIONS</th>\n",
              "    </tr>\n",
              "  </thead>\n",
              "  <tbody>\n",
              "    <tr>\n",
              "      <th>count</th>\n",
              "      <td>14253.000000</td>\n",
              "      <td>14253.000000</td>\n",
              "    </tr>\n",
              "    <tr>\n",
              "      <th>mean</th>\n",
              "      <td>5.991230</td>\n",
              "      <td>248.790149</td>\n",
              "    </tr>\n",
              "    <tr>\n",
              "      <th>std</th>\n",
              "      <td>1.774154</td>\n",
              "      <td>59.077190</td>\n",
              "    </tr>\n",
              "    <tr>\n",
              "      <th>min</th>\n",
              "      <td>2.000000</td>\n",
              "      <td>83.000000</td>\n",
              "    </tr>\n",
              "    <tr>\n",
              "      <th>25%</th>\n",
              "      <td>4.000000</td>\n",
              "      <td>209.000000</td>\n",
              "    </tr>\n",
              "    <tr>\n",
              "      <th>50%</th>\n",
              "      <td>6.000000</td>\n",
              "      <td>239.000000</td>\n",
              "    </tr>\n",
              "    <tr>\n",
              "      <th>75%</th>\n",
              "      <td>8.000000</td>\n",
              "      <td>285.000000</td>\n",
              "    </tr>\n",
              "    <tr>\n",
              "      <th>max</th>\n",
              "      <td>16.000000</td>\n",
              "      <td>570.000000</td>\n",
              "    </tr>\n",
              "  </tbody>\n",
              "</table>\n",
              "</div>"
            ],
            "text/plain": [
              "          CYLINDERS  CO2 EMISSIONS \n",
              "count  14253.000000    14253.000000\n",
              "mean       5.991230      248.790149\n",
              "std        1.774154       59.077190\n",
              "min        2.000000       83.000000\n",
              "25%        4.000000      209.000000\n",
              "50%        6.000000      239.000000\n",
              "75%        8.000000      285.000000\n",
              "max       16.000000      570.000000"
            ]
          },
          "metadata": {},
          "execution_count": 5
        }
      ]
    },
    {
      "cell_type": "markdown",
      "metadata": {
        "id": "GE0VceugYqEb"
      },
      "source": [
        "Mean Emmission for year 2000-2014 data is 248.790 grams per kilometer. The average CO2 emissions, based on laboratory tests, of a new car registered in the EU in 2016 was 118.1 grams per kilometre (g/km) and the 2021 target was 95 g/km. Emissions from new vans must fall by more than 11 % to meet the 2020 target (147 g/km). "
      ]
    },
    {
      "cell_type": "markdown",
      "metadata": {
        "id": "iVg-o0rjkAt_"
      },
      "source": [
        "Concatenate both the dataframes"
      ]
    },
    {
      "cell_type": "code",
      "metadata": {
        "colab": {
          "base_uri": "https://localhost:8080/"
        },
        "id": "cLC3b0kJdiEK",
        "outputId": "5928a42f-11d6-4474-da92-ed08ce653b56"
      },
      "source": [
        "#\"stack\" the two DataFrames(files) together\n",
        "combined_df= pd.concat([df1,df2], ignore_index=True)\n",
        "print(\"Combined dataset shape:\",combined_df.shape)\n",
        "print(\"\\nDatatypes of the dataframe:\\n\")\n",
        "print(combined_df.dtypes)"
      ],
      "execution_count": null,
      "outputs": [
        {
          "output_type": "stream",
          "name": "stdout",
          "text": [
            "Combined dataset shape: (17772, 13)\n",
            "\n",
            "Datatypes of the dataframe:\n",
            "\n",
            "MODEL                object\n",
            "MAKE                 object\n",
            "MODEL.1              object\n",
            "VEHICLE CLASS        object\n",
            "ENGINE SIZE          object\n",
            "CYLINDERS           float64\n",
            "TRANSMISSION         object\n",
            "FUEL                 object\n",
            "FUEL CONSUMPTION     object\n",
            "Unnamed: 9           object\n",
            "Unnamed: 10          object\n",
            "Unnamed: 11          object\n",
            "CO2 EMISSIONS       float64\n",
            "dtype: object\n"
          ]
        }
      ]
    },
    {
      "cell_type": "markdown",
      "metadata": {
        "id": "2hzO3oR9KWJ8"
      },
      "source": [
        "Preprocessing"
      ]
    },
    {
      "cell_type": "code",
      "metadata": {
        "id": "P26DgXk53fXv"
      },
      "source": [
        "# Renaming the columns\n",
        "combined_df.rename(columns={'MODEL':'MODEL YEAR'}, inplace=True)\n",
        "combined_df.rename(columns={'MODEL.1':'MODEL'}, inplace=True)\n",
        "combined_df.rename(columns={'CO2 EMISSIONS ':'CO2_EMISSIONS'}, inplace=True)\n",
        "combined_df.rename(columns={'FUEL':'FUEL TYPE'}, inplace=True)\n",
        "combined_df.rename(columns={'FUEL CONSUMPTION':'Consumption_CITY'}, inplace=True)\n",
        "combined_df.rename(columns={'Unnamed: 9':'Consumption_HWY'}, inplace=True)\n",
        "combined_df.rename(columns={'Unnamed: 10':'COMB (L/100 km)'}, inplace=True)\n",
        "combined_df.rename(columns={'Unnamed: 11':'COMB (mpg)'}, inplace=True)\n",
        "combined_df.rename(columns={'Fuel':'Fuel Type'}, inplace=True)"
      ],
      "execution_count": null,
      "outputs": []
    },
    {
      "cell_type": "code",
      "metadata": {
        "colab": {
          "base_uri": "https://localhost:8080/"
        },
        "id": "Hr-plj4U8SUx",
        "outputId": "0499b532-6827-4495-f35a-0a2895869c12"
      },
      "source": [
        "combined_df.columns"
      ],
      "execution_count": null,
      "outputs": [
        {
          "output_type": "execute_result",
          "data": {
            "text/plain": [
              "Index(['MODEL YEAR', 'MAKE', 'MODEL', 'VEHICLE CLASS', 'ENGINE SIZE',\n",
              "       'CYLINDERS', 'TRANSMISSION', 'FUEL TYPE', 'Consumption_CITY',\n",
              "       'Consumption_HWY', 'COMB (L/100 km)', 'COMB (mpg)', 'CO2_EMISSIONS'],\n",
              "      dtype='object')"
            ]
          },
          "metadata": {},
          "execution_count": 8
        }
      ]
    },
    {
      "cell_type": "code",
      "metadata": {
        "colab": {
          "base_uri": "https://localhost:8080/",
          "height": 275
        },
        "id": "e8AP-suXrSrs",
        "outputId": "6042ed78-70d9-4d7c-d149-cefe6624e9aa"
      },
      "source": [
        "# conversions to float\n",
        "\n",
        "combined_df[\"Consumption_CITY\"]=combined_df[\"Consumption_CITY\"].astype('float64')\n",
        "combined_df[\"Consumption_HWY\"]=combined_df[\"Consumption_HWY\"].astype('float64')\n",
        "combined_df[\"COMB (L/100 km)\"]=combined_df[\"COMB (L/100 km)\"].astype('float64')\n",
        "combined_df[\"COMB (mpg)\"]=combined_df[\"COMB (mpg)\"].astype('float64')\n",
        "combined_df[\"CO2_EMISSIONS\"]=combined_df[\"CO2_EMISSIONS\"].astype('float64')\n",
        "combined_df[\"ENGINE SIZE\"]=combined_df[\"ENGINE SIZE\"].astype('float64')\n",
        "combined_df[\"FUEL TYPE\"]=combined_df[\"FUEL TYPE\"].astype('category')\n",
        "combined_df[\"TRANSMISSION\"]=combined_df[\"TRANSMISSION\"].astype('category')\n",
        "#combined_df[\"MODEL\"]=combined_df[\"MODEL\"].astype('category')\n",
        "\n",
        "combined_df.head()\n",
        "#np.empty(combined_df.shape[])\n",
        "#np.savetxt('Combined_dataframe.csv', combined_df, delimiter=',', newline='\\n')"
      ],
      "execution_count": null,
      "outputs": [
        {
          "output_type": "execute_result",
          "data": {
            "text/html": [
              "<div>\n",
              "<style scoped>\n",
              "    .dataframe tbody tr th:only-of-type {\n",
              "        vertical-align: middle;\n",
              "    }\n",
              "\n",
              "    .dataframe tbody tr th {\n",
              "        vertical-align: top;\n",
              "    }\n",
              "\n",
              "    .dataframe thead th {\n",
              "        text-align: right;\n",
              "    }\n",
              "</style>\n",
              "<table border=\"1\" class=\"dataframe\">\n",
              "  <thead>\n",
              "    <tr style=\"text-align: right;\">\n",
              "      <th></th>\n",
              "      <th>MODEL YEAR</th>\n",
              "      <th>MAKE</th>\n",
              "      <th>MODEL</th>\n",
              "      <th>VEHICLE CLASS</th>\n",
              "      <th>ENGINE SIZE</th>\n",
              "      <th>CYLINDERS</th>\n",
              "      <th>TRANSMISSION</th>\n",
              "      <th>FUEL TYPE</th>\n",
              "      <th>Consumption_CITY</th>\n",
              "      <th>Consumption_HWY</th>\n",
              "      <th>COMB (L/100 km)</th>\n",
              "      <th>COMB (mpg)</th>\n",
              "      <th>CO2_EMISSIONS</th>\n",
              "    </tr>\n",
              "  </thead>\n",
              "  <tbody>\n",
              "    <tr>\n",
              "      <th>0</th>\n",
              "      <td>1995</td>\n",
              "      <td>ACURA</td>\n",
              "      <td>INTEGRA</td>\n",
              "      <td>SUBCOMPACT</td>\n",
              "      <td>1.8</td>\n",
              "      <td>4.0</td>\n",
              "      <td>A4</td>\n",
              "      <td>X</td>\n",
              "      <td>10.2</td>\n",
              "      <td>7.0</td>\n",
              "      <td>8.8</td>\n",
              "      <td>32.0</td>\n",
              "      <td>202.0</td>\n",
              "    </tr>\n",
              "    <tr>\n",
              "      <th>1</th>\n",
              "      <td>1995</td>\n",
              "      <td>ACURA</td>\n",
              "      <td>INTEGRA</td>\n",
              "      <td>SUBCOMPACT</td>\n",
              "      <td>1.8</td>\n",
              "      <td>4.0</td>\n",
              "      <td>M5</td>\n",
              "      <td>X</td>\n",
              "      <td>9.6</td>\n",
              "      <td>7.0</td>\n",
              "      <td>8.4</td>\n",
              "      <td>34.0</td>\n",
              "      <td>193.0</td>\n",
              "    </tr>\n",
              "    <tr>\n",
              "      <th>2</th>\n",
              "      <td>1995</td>\n",
              "      <td>ACURA</td>\n",
              "      <td>INTEGRA GS-R</td>\n",
              "      <td>SUBCOMPACT</td>\n",
              "      <td>1.8</td>\n",
              "      <td>4.0</td>\n",
              "      <td>M5</td>\n",
              "      <td>Z</td>\n",
              "      <td>9.4</td>\n",
              "      <td>7.0</td>\n",
              "      <td>8.3</td>\n",
              "      <td>34.0</td>\n",
              "      <td>191.0</td>\n",
              "    </tr>\n",
              "    <tr>\n",
              "      <th>3</th>\n",
              "      <td>1995</td>\n",
              "      <td>ACURA</td>\n",
              "      <td>LEGEND</td>\n",
              "      <td>COMPACT</td>\n",
              "      <td>3.2</td>\n",
              "      <td>6.0</td>\n",
              "      <td>A4</td>\n",
              "      <td>Z</td>\n",
              "      <td>12.6</td>\n",
              "      <td>8.9</td>\n",
              "      <td>10.9</td>\n",
              "      <td>26.0</td>\n",
              "      <td>251.0</td>\n",
              "    </tr>\n",
              "    <tr>\n",
              "      <th>4</th>\n",
              "      <td>1995</td>\n",
              "      <td>ACURA</td>\n",
              "      <td>LEGEND COUPE</td>\n",
              "      <td>COMPACT</td>\n",
              "      <td>3.2</td>\n",
              "      <td>6.0</td>\n",
              "      <td>A4</td>\n",
              "      <td>Z</td>\n",
              "      <td>13.0</td>\n",
              "      <td>9.3</td>\n",
              "      <td>11.3</td>\n",
              "      <td>25.0</td>\n",
              "      <td>260.0</td>\n",
              "    </tr>\n",
              "  </tbody>\n",
              "</table>\n",
              "</div>"
            ],
            "text/plain": [
              "  MODEL YEAR   MAKE         MODEL VEHICLE CLASS  ENGINE SIZE  CYLINDERS  \\\n",
              "0       1995  ACURA       INTEGRA    SUBCOMPACT          1.8        4.0   \n",
              "1       1995  ACURA       INTEGRA    SUBCOMPACT          1.8        4.0   \n",
              "2       1995  ACURA  INTEGRA GS-R    SUBCOMPACT          1.8        4.0   \n",
              "3       1995  ACURA        LEGEND       COMPACT          3.2        6.0   \n",
              "4       1995  ACURA  LEGEND COUPE       COMPACT          3.2        6.0   \n",
              "\n",
              "  TRANSMISSION FUEL TYPE  Consumption_CITY  Consumption_HWY  COMB (L/100 km)  \\\n",
              "0           A4         X              10.2              7.0              8.8   \n",
              "1           M5         X               9.6              7.0              8.4   \n",
              "2           M5         Z               9.4              7.0              8.3   \n",
              "3           A4         Z              12.6              8.9             10.9   \n",
              "4           A4         Z              13.0              9.3             11.3   \n",
              "\n",
              "   COMB (mpg)  CO2_EMISSIONS  \n",
              "0        32.0          202.0  \n",
              "1        34.0          193.0  \n",
              "2        34.0          191.0  \n",
              "3        26.0          251.0  \n",
              "4        25.0          260.0  "
            ]
          },
          "metadata": {},
          "execution_count": 9
        }
      ]
    },
    {
      "cell_type": "markdown",
      "metadata": {
        "id": "D5F6ETjJD2mo"
      },
      "source": [
        "Univariate Analysis"
      ]
    },
    {
      "cell_type": "code",
      "metadata": {
        "colab": {
          "base_uri": "https://localhost:8080/"
        },
        "id": "r6UBecNMESmS",
        "outputId": "fcf35d25-3d81-47a6-9c94-1d4c66ada649"
      },
      "source": [
        "#Check for null values\n",
        "print(combined_df.info())\n",
        "#Extended data dictionary\n",
        "print(\"\\n\",combined_df.describe())\n",
        "combined_df.reset_index(inplace = True, drop=True)"
      ],
      "execution_count": null,
      "outputs": [
        {
          "output_type": "stream",
          "text": [
            "<class 'pandas.core.frame.DataFrame'>\n",
            "RangeIndex: 17772 entries, 0 to 17771\n",
            "Data columns (total 13 columns):\n",
            " #   Column            Non-Null Count  Dtype   \n",
            "---  ------            --------------  -----   \n",
            " 0   MODEL YEAR        17772 non-null  object  \n",
            " 1   MAKE              17772 non-null  object  \n",
            " 2   MODEL             17772 non-null  object  \n",
            " 3   VEHICLE CLASS     17772 non-null  object  \n",
            " 4   ENGINE SIZE       17772 non-null  float64 \n",
            " 5   CYLINDERS         17772 non-null  float64 \n",
            " 6   TRANSMISSION      17772 non-null  category\n",
            " 7   FUEL TYPE         17772 non-null  category\n",
            " 8   Consumption_CITY  17772 non-null  float64 \n",
            " 9   Consumption_HWY   17772 non-null  float64 \n",
            " 10  COMB (L/100 km)   17772 non-null  float64 \n",
            " 11  COMB (mpg)        17772 non-null  float64 \n",
            " 12  CO2_EMISSIONS     17772 non-null  float64 \n",
            "dtypes: category(2), float64(7), object(4)\n",
            "memory usage: 1.5+ MB\n",
            "None\n",
            "\n",
            "         ENGINE SIZE     CYLINDERS  Consumption_CITY  Consumption_HWY  \\\n",
            "count  17772.000000  17772.000000      17772.000000     17772.000000   \n",
            "mean       3.452093      5.949584         12.986434         8.881972   \n",
            "std        1.326771      1.750693          3.484482         2.323022   \n",
            "min        0.800000      2.000000          3.500000         3.200000   \n",
            "25%        2.400000      4.000000         10.600000         7.300000   \n",
            "50%        3.300000      6.000000         12.500000         8.300000   \n",
            "75%        4.300000      8.000000         15.000000        10.300000   \n",
            "max        8.400000     16.000000         30.600000        19.000000   \n",
            "\n",
            "       COMB (L/100 km)    COMB (mpg)  CO2_EMISSIONS  \n",
            "count     17772.000000  17772.000000   17772.000000  \n",
            "mean         11.140429     27.114056     251.357810  \n",
            "std           2.930827      7.297715      60.212599  \n",
            "min           3.600000     11.000000      83.000000  \n",
            "25%           9.200000     22.000000     210.000000  \n",
            "50%          10.600000     27.000000     242.000000  \n",
            "75%          12.900000     31.000000     290.000000  \n",
            "max          24.800000     78.000000     570.000000  \n"
          ],
          "name": "stdout"
        }
      ]
    },
    {
      "cell_type": "markdown",
      "metadata": {
        "id": "xJpXoWwYkh6g"
      },
      "source": [
        "In this exploratory analysis, the interquartile range shows the absence of outliers. City and highway fuel consumption ratings are shown in litres per 100 kilometres (L/100 km) - combined rating (55% city, 45% hwy) is shown in L/100 km. Total average CO2 Emission is 251.36 gm/100 KM."
      ]
    },
    {
      "cell_type": "markdown",
      "metadata": {
        "id": "zf6EFpcdKl9e"
      },
      "source": [
        "Bivariate Analysis"
      ]
    },
    {
      "cell_type": "code",
      "metadata": {
        "colab": {
          "base_uri": "https://localhost:8080/",
          "height": 269
        },
        "id": "7JNPd2KgVTv_",
        "outputId": "2ab148a6-af16-4c12-946c-a45c6ef8a92e"
      },
      "source": [
        "combined_df.corr()"
      ],
      "execution_count": null,
      "outputs": [
        {
          "output_type": "execute_result",
          "data": {
            "text/html": [
              "<div>\n",
              "<style scoped>\n",
              "    .dataframe tbody tr th:only-of-type {\n",
              "        vertical-align: middle;\n",
              "    }\n",
              "\n",
              "    .dataframe tbody tr th {\n",
              "        vertical-align: top;\n",
              "    }\n",
              "\n",
              "    .dataframe thead th {\n",
              "        text-align: right;\n",
              "    }\n",
              "</style>\n",
              "<table border=\"1\" class=\"dataframe\">\n",
              "  <thead>\n",
              "    <tr style=\"text-align: right;\">\n",
              "      <th></th>\n",
              "      <th>ENGINE SIZE</th>\n",
              "      <th>CYLINDERS</th>\n",
              "      <th>Consumption_CITY</th>\n",
              "      <th>Consumption_HWY</th>\n",
              "      <th>COMB (L/100 km)</th>\n",
              "      <th>COMB (mpg)</th>\n",
              "      <th>CO2_EMISSIONS</th>\n",
              "    </tr>\n",
              "  </thead>\n",
              "  <tbody>\n",
              "    <tr>\n",
              "      <th>ENGINE SIZE</th>\n",
              "      <td>1.000000</td>\n",
              "      <td>0.901764</td>\n",
              "      <td>0.822413</td>\n",
              "      <td>0.769961</td>\n",
              "      <td>0.812903</td>\n",
              "      <td>-0.772701</td>\n",
              "      <td>0.829316</td>\n",
              "    </tr>\n",
              "    <tr>\n",
              "      <th>CYLINDERS</th>\n",
              "      <td>0.901764</td>\n",
              "      <td>1.000000</td>\n",
              "      <td>0.785800</td>\n",
              "      <td>0.699951</td>\n",
              "      <td>0.763874</td>\n",
              "      <td>-0.722993</td>\n",
              "      <td>0.787079</td>\n",
              "    </tr>\n",
              "    <tr>\n",
              "      <th>Consumption_CITY</th>\n",
              "      <td>0.822413</td>\n",
              "      <td>0.785800</td>\n",
              "      <td>1.000000</td>\n",
              "      <td>0.953158</td>\n",
              "      <td>0.993998</td>\n",
              "      <td>-0.925755</td>\n",
              "      <td>0.925993</td>\n",
              "    </tr>\n",
              "    <tr>\n",
              "      <th>Consumption_HWY</th>\n",
              "      <td>0.769961</td>\n",
              "      <td>0.699951</td>\n",
              "      <td>0.953158</td>\n",
              "      <td>1.000000</td>\n",
              "      <td>0.979882</td>\n",
              "      <td>-0.890077</td>\n",
              "      <td>0.905464</td>\n",
              "    </tr>\n",
              "    <tr>\n",
              "      <th>COMB (L/100 km)</th>\n",
              "      <td>0.812903</td>\n",
              "      <td>0.763874</td>\n",
              "      <td>0.993998</td>\n",
              "      <td>0.979882</td>\n",
              "      <td>1.000000</td>\n",
              "      <td>-0.923600</td>\n",
              "      <td>0.929130</td>\n",
              "    </tr>\n",
              "    <tr>\n",
              "      <th>COMB (mpg)</th>\n",
              "      <td>-0.772701</td>\n",
              "      <td>-0.722993</td>\n",
              "      <td>-0.925755</td>\n",
              "      <td>-0.890077</td>\n",
              "      <td>-0.923600</td>\n",
              "      <td>1.000000</td>\n",
              "      <td>-0.904579</td>\n",
              "    </tr>\n",
              "    <tr>\n",
              "      <th>CO2_EMISSIONS</th>\n",
              "      <td>0.829316</td>\n",
              "      <td>0.787079</td>\n",
              "      <td>0.925993</td>\n",
              "      <td>0.905464</td>\n",
              "      <td>0.929130</td>\n",
              "      <td>-0.904579</td>\n",
              "      <td>1.000000</td>\n",
              "    </tr>\n",
              "  </tbody>\n",
              "</table>\n",
              "</div>"
            ],
            "text/plain": [
              "                  ENGINE SIZE  CYLINDERS  Consumption_CITY  Consumption_HWY  \\\n",
              "ENGINE SIZE          1.000000   0.901764          0.822413         0.769961   \n",
              "CYLINDERS            0.901764   1.000000          0.785800         0.699951   \n",
              "Consumption_CITY     0.822413   0.785800          1.000000         0.953158   \n",
              "Consumption_HWY      0.769961   0.699951          0.953158         1.000000   \n",
              "COMB (L/100 km)      0.812903   0.763874          0.993998         0.979882   \n",
              "COMB (mpg)          -0.772701  -0.722993         -0.925755        -0.890077   \n",
              "CO2_EMISSIONS        0.829316   0.787079          0.925993         0.905464   \n",
              "\n",
              "                  COMB (L/100 km)  COMB (mpg)  CO2_EMISSIONS  \n",
              "ENGINE SIZE              0.812903   -0.772701       0.829316  \n",
              "CYLINDERS                0.763874   -0.722993       0.787079  \n",
              "Consumption_CITY         0.993998   -0.925755       0.925993  \n",
              "Consumption_HWY          0.979882   -0.890077       0.905464  \n",
              "COMB (L/100 km)          1.000000   -0.923600       0.929130  \n",
              "COMB (mpg)              -0.923600    1.000000      -0.904579  \n",
              "CO2_EMISSIONS            0.929130   -0.904579       1.000000  "
            ]
          },
          "metadata": {},
          "execution_count": 11
        }
      ]
    },
    {
      "cell_type": "code",
      "metadata": {
        "colab": {
          "base_uri": "https://localhost:8080/",
          "height": 425
        },
        "id": "CrU0e4t0Yxc4",
        "outputId": "d9f7880b-548b-4ae4-bd34-8de50b6ae515"
      },
      "source": [
        "plt.figure(figsize=(10,5))\n",
        "sns.heatmap(combined_df.corr(), annot=True, cmap=\"coolwarm\")"
      ],
      "execution_count": null,
      "outputs": [
        {
          "output_type": "execute_result",
          "data": {
            "text/plain": [
              "<matplotlib.axes._subplots.AxesSubplot at 0x7fed216b5590>"
            ]
          },
          "metadata": {},
          "execution_count": 12
        },
        {
          "output_type": "display_data",
          "data": {
            "image/png": "[encoded data removed]",
            "text/plain": [
              "<Figure size 720x360 with 2 Axes>"
            ]
          },
          "metadata": {
            "needs_background": "light"
          }
        }
      ]
    },
    {
      "cell_type": "markdown",
      "metadata": {
        "id": "XWxtAr95lVzG"
      },
      "source": [
        "There is direct corelation between 'CO2 Emission' and 'Combined consumption of fuel at highway and city'."
      ]
    },
    {
      "cell_type": "code",
      "metadata": {
        "colab": {
          "base_uri": "https://localhost:8080/",
          "height": 269
        },
        "id": "An4cAKlPZITZ",
        "outputId": "5cef26a8-eee2-41b3-ed46-1e7beecbe4fb"
      },
      "source": [
        "# To see the pairwise correlation\n",
        "combined_df.corr()"
      ],
      "execution_count": null,
      "outputs": [
        {
          "output_type": "execute_result",
          "data": {
            "text/html": [
              "<div>\n",
              "<style scoped>\n",
              "    .dataframe tbody tr th:only-of-type {\n",
              "        vertical-align: middle;\n",
              "    }\n",
              "\n",
              "    .dataframe tbody tr th {\n",
              "        vertical-align: top;\n",
              "    }\n",
              "\n",
              "    .dataframe thead th {\n",
              "        text-align: right;\n",
              "    }\n",
              "</style>\n",
              "<table border=\"1\" class=\"dataframe\">\n",
              "  <thead>\n",
              "    <tr style=\"text-align: right;\">\n",
              "      <th></th>\n",
              "      <th>ENGINE SIZE</th>\n",
              "      <th>CYLINDERS</th>\n",
              "      <th>Consumption_CITY</th>\n",
              "      <th>Consumption_HWY</th>\n",
              "      <th>COMB (L/100 km)</th>\n",
              "      <th>COMB (mpg)</th>\n",
              "      <th>CO2_EMISSIONS</th>\n",
              "    </tr>\n",
              "  </thead>\n",
              "  <tbody>\n",
              "    <tr>\n",
              "      <th>ENGINE SIZE</th>\n",
              "      <td>1.000000</td>\n",
              "      <td>0.901764</td>\n",
              "      <td>0.822413</td>\n",
              "      <td>0.769961</td>\n",
              "      <td>0.812903</td>\n",
              "      <td>-0.772701</td>\n",
              "      <td>0.829316</td>\n",
              "    </tr>\n",
              "    <tr>\n",
              "      <th>CYLINDERS</th>\n",
              "      <td>0.901764</td>\n",
              "      <td>1.000000</td>\n",
              "      <td>0.785800</td>\n",
              "      <td>0.699951</td>\n",
              "      <td>0.763874</td>\n",
              "      <td>-0.722993</td>\n",
              "      <td>0.787079</td>\n",
              "    </tr>\n",
              "    <tr>\n",
              "      <th>Consumption_CITY</th>\n",
              "      <td>0.822413</td>\n",
              "      <td>0.785800</td>\n",
              "      <td>1.000000</td>\n",
              "      <td>0.953158</td>\n",
              "      <td>0.993998</td>\n",
              "      <td>-0.925755</td>\n",
              "      <td>0.925993</td>\n",
              "    </tr>\n",
              "    <tr>\n",
              "      <th>Consumption_HWY</th>\n",
              "      <td>0.769961</td>\n",
              "      <td>0.699951</td>\n",
              "      <td>0.953158</td>\n",
              "      <td>1.000000</td>\n",
              "      <td>0.979882</td>\n",
              "      <td>-0.890077</td>\n",
              "      <td>0.905464</td>\n",
              "    </tr>\n",
              "    <tr>\n",
              "      <th>COMB (L/100 km)</th>\n",
              "      <td>0.812903</td>\n",
              "      <td>0.763874</td>\n",
              "      <td>0.993998</td>\n",
              "      <td>0.979882</td>\n",
              "      <td>1.000000</td>\n",
              "      <td>-0.923600</td>\n",
              "      <td>0.929130</td>\n",
              "    </tr>\n",
              "    <tr>\n",
              "      <th>COMB (mpg)</th>\n",
              "      <td>-0.772701</td>\n",
              "      <td>-0.722993</td>\n",
              "      <td>-0.925755</td>\n",
              "      <td>-0.890077</td>\n",
              "      <td>-0.923600</td>\n",
              "      <td>1.000000</td>\n",
              "      <td>-0.904579</td>\n",
              "    </tr>\n",
              "    <tr>\n",
              "      <th>CO2_EMISSIONS</th>\n",
              "      <td>0.829316</td>\n",
              "      <td>0.787079</td>\n",
              "      <td>0.925993</td>\n",
              "      <td>0.905464</td>\n",
              "      <td>0.929130</td>\n",
              "      <td>-0.904579</td>\n",
              "      <td>1.000000</td>\n",
              "    </tr>\n",
              "  </tbody>\n",
              "</table>\n",
              "</div>"
            ],
            "text/plain": [
              "                  ENGINE SIZE  CYLINDERS  Consumption_CITY  Consumption_HWY  \\\n",
              "ENGINE SIZE          1.000000   0.901764          0.822413         0.769961   \n",
              "CYLINDERS            0.901764   1.000000          0.785800         0.699951   \n",
              "Consumption_CITY     0.822413   0.785800          1.000000         0.953158   \n",
              "Consumption_HWY      0.769961   0.699951          0.953158         1.000000   \n",
              "COMB (L/100 km)      0.812903   0.763874          0.993998         0.979882   \n",
              "COMB (mpg)          -0.772701  -0.722993         -0.925755        -0.890077   \n",
              "CO2_EMISSIONS        0.829316   0.787079          0.925993         0.905464   \n",
              "\n",
              "                  COMB (L/100 km)  COMB (mpg)  CO2_EMISSIONS  \n",
              "ENGINE SIZE              0.812903   -0.772701       0.829316  \n",
              "CYLINDERS                0.763874   -0.722993       0.787079  \n",
              "Consumption_CITY         0.993998   -0.925755       0.925993  \n",
              "Consumption_HWY          0.979882   -0.890077       0.905464  \n",
              "COMB (L/100 km)          1.000000   -0.923600       0.929130  \n",
              "COMB (mpg)              -0.923600    1.000000      -0.904579  \n",
              "CO2_EMISSIONS            0.929130   -0.904579       1.000000  "
            ]
          },
          "metadata": {},
          "execution_count": 13
        }
      ]
    },
    {
      "cell_type": "markdown",
      "metadata": {
        "id": "A8rSQwViFwhh"
      },
      "source": [
        "The correlation analysis shows that in our dataset, the variables are strongly correlated: corr (CO2 EMISSIONS, Consumption_CITY) = 0.9259; corr (CO2 EMISSIONS, COMB (L/100 km) = 0.9291; corr (CO2 EMISSIONS, Consumption_HWY) = 0.9054; corr (CO2 EMISSIONS, ENGINE SIZE) = 0.829316.\n",
        "The columns that have higher correlation with our independent column(CO2 EMISSIONS) is the Combined Consumption 'COMB(L/100 Km)'. \n"
      ]
    },
    {
      "cell_type": "code",
      "metadata": {
        "colab": {
          "base_uri": "https://localhost:8080/",
          "height": 459
        },
        "id": "hpsXL0EYnjjd",
        "outputId": "cb6e71a0-c5aa-420f-8e3d-aa5a41f22aa1"
      },
      "source": [
        "#Scatterplots\n",
        "sns.jointplot(x=\"CYLINDERS\", y=\"CO2_EMISSIONS\", data=combined_df)"
      ],
      "execution_count": null,
      "outputs": [
        {
          "output_type": "execute_result",
          "data": {
            "text/plain": [
              "<seaborn.axisgrid.JointGrid at 0x7f3bfe9a7290>"
            ]
          },
          "metadata": {},
          "execution_count": 17
        },
        {
          "output_type": "display_data",
          "data": {
            "image/png": "[encoded data removed]",
            "text/plain": [
              "<Figure size 432x432 with 3 Axes>"
            ]
          },
          "metadata": {
            "needs_background": "light"
          }
        }
      ]
    },
    {
      "cell_type": "markdown",
      "metadata": {
        "id": "bjxgZpjhmHL7"
      },
      "source": [
        "The above scatter plot shows that their is some correlation between the number Cylinders and CO2 Emission. But it is not a strong correlation."
      ]
    },
    {
      "cell_type": "code",
      "metadata": {
        "colab": {
          "base_uri": "https://localhost:8080/",
          "height": 459
        },
        "id": "dib20xAsK0FW",
        "outputId": "c36d9fdc-efa0-4bd4-b81f-8785bfa09add"
      },
      "source": [
        "sns.jointplot(x=\"Consumption_CITY\",y=\"CO2_EMISSIONS\", data=combined_df)"
      ],
      "execution_count": null,
      "outputs": [
        {
          "output_type": "execute_result",
          "data": {
            "text/plain": [
              "<seaborn.axisgrid.JointGrid at 0x7f3bfe730f50>"
            ]
          },
          "metadata": {},
          "execution_count": 18
        },
        {
          "output_type": "display_data",
          "data": {
            "image/png": "[encoded data removed]",
            "text/plain": [
              "<Figure size 432x432 with 3 Axes>"
            ]
          },
          "metadata": {
            "needs_background": "light"
          }
        }
      ]
    },
    {
      "cell_type": "markdown",
      "metadata": {
        "id": "Suk05NX9mXgq"
      },
      "source": [
        "This scatter plot shows that their is a positive correlation between fuel consumption in the city and CO2 Emission."
      ]
    },
    {
      "cell_type": "code",
      "metadata": {
        "colab": {
          "base_uri": "https://localhost:8080/",
          "height": 459
        },
        "id": "g3nhKgeFK2uK",
        "outputId": "f890e2d3-823e-4eb6-b09a-b22b3232be29"
      },
      "source": [
        "sns.jointplot(x=\"Consumption_HWY\",y=\"CO2_EMISSIONS\", data=combined_df)"
      ],
      "execution_count": null,
      "outputs": [
        {
          "output_type": "execute_result",
          "data": {
            "text/plain": [
              "<seaborn.axisgrid.JointGrid at 0x7f3bfe43e250>"
            ]
          },
          "metadata": {},
          "execution_count": 19
        },
        {
          "output_type": "display_data",
          "data": {
            "image/png": "[encoded data removed]",
            "text/plain": [
              "<Figure size 432x432 with 3 Axes>"
            ]
          },
          "metadata": {
            "needs_background": "light"
          }
        }
      ]
    },
    {
      "cell_type": "markdown",
      "metadata": {
        "id": "qHlyuaMuKuE_"
      },
      "source": [
        "\"Consumption_HWY\" and \"CO2_EMISSIONS\" shows a very strong positive correlation. "
      ]
    },
    {
      "cell_type": "code",
      "metadata": {
        "colab": {
          "base_uri": "https://localhost:8080/",
          "height": 668
        },
        "id": "yYn4K4nGHVEQ",
        "outputId": "dc386fb9-9896-4668-d341-0e00f4429e44"
      },
      "source": [
        "sns.jointplot(x=\"ENGINE SIZE\",y=\"CO2 EMISSIONS\", data=combined_df)"
      ],
      "execution_count": null,
      "outputs": [
        {
          "output_type": "error",
          "ename": "ValueError",
          "evalue": "ignored",
          "traceback": [
            "\u001b[0;31m---------------------------------------------------------------------------\u001b[0m",
            "\u001b[0;31mValueError\u001b[0m                                Traceback (most recent call last)",
            "\u001b[0;32m<ipython-input-20-06184173b486>\u001b[0m in \u001b[0;36m<module>\u001b[0;34m()\u001b[0m\n\u001b[0;32m----> 1\u001b[0;31m \u001b[0msns\u001b[0m\u001b[0;34m.\u001b[0m\u001b[0mjointplot\u001b[0m\u001b[0;34m(\u001b[0m\u001b[0mx\u001b[0m\u001b[0;34m=\u001b[0m\u001b[0;34m\"ENGINE SIZE\"\u001b[0m\u001b[0;34m,\u001b[0m\u001b[0my\u001b[0m\u001b[0;34m=\u001b[0m\u001b[0;34m\"CO2 EMISSIONS\"\u001b[0m\u001b[0;34m,\u001b[0m \u001b[0mdata\u001b[0m\u001b[0;34m=\u001b[0m\u001b[0mcombined_df\u001b[0m\u001b[0;34m)\u001b[0m\u001b[0;34m\u001b[0m\u001b[0;34m\u001b[0m\u001b[0m\n\u001b[0m",
            "\u001b[0;32m/usr/local/lib/python3.7/dist-packages/seaborn/_decorators.py\u001b[0m in \u001b[0;36minner_f\u001b[0;34m(*args, **kwargs)\u001b[0m\n\u001b[1;32m     44\u001b[0m             )\n\u001b[1;32m     45\u001b[0m         \u001b[0mkwargs\u001b[0m\u001b[0;34m.\u001b[0m\u001b[0mupdate\u001b[0m\u001b[0;34m(\u001b[0m\u001b[0;34m{\u001b[0m\u001b[0mk\u001b[0m\u001b[0;34m:\u001b[0m \u001b[0marg\u001b[0m \u001b[0;32mfor\u001b[0m \u001b[0mk\u001b[0m\u001b[0;34m,\u001b[0m \u001b[0marg\u001b[0m \u001b[0;32min\u001b[0m \u001b[0mzip\u001b[0m\u001b[0;34m(\u001b[0m\u001b[0msig\u001b[0m\u001b[0;34m.\u001b[0m\u001b[0mparameters\u001b[0m\u001b[0;34m,\u001b[0m \u001b[0margs\u001b[0m\u001b[0;34m)\u001b[0m\u001b[0;34m}\u001b[0m\u001b[0;34m)\u001b[0m\u001b[0;34m\u001b[0m\u001b[0;34m\u001b[0m\u001b[0m\n\u001b[0;32m---> 46\u001b[0;31m         \u001b[0;32mreturn\u001b[0m \u001b[0mf\u001b[0m\u001b[0;34m(\u001b[0m\u001b[0;34m**\u001b[0m\u001b[0mkwargs\u001b[0m\u001b[0;34m)\u001b[0m\u001b[0;34m\u001b[0m\u001b[0;34m\u001b[0m\u001b[0m\n\u001b[0m\u001b[1;32m     47\u001b[0m     \u001b[0;32mreturn\u001b[0m \u001b[0minner_f\u001b[0m\u001b[0;34m\u001b[0m\u001b[0;34m\u001b[0m\u001b[0m\n\u001b[1;32m     48\u001b[0m \u001b[0;34m\u001b[0m\u001b[0m\n",
            "\u001b[0;32m/usr/local/lib/python3.7/dist-packages/seaborn/axisgrid.py\u001b[0m in \u001b[0;36mjointplot\u001b[0;34m(x, y, data, kind, color, height, ratio, space, dropna, xlim, ylim, marginal_ticks, joint_kws, marginal_kws, hue, palette, hue_order, hue_norm, **kwargs)\u001b[0m\n\u001b[1;32m   2123\u001b[0m         \u001b[0mpalette\u001b[0m\u001b[0;34m=\u001b[0m\u001b[0mpalette\u001b[0m\u001b[0;34m,\u001b[0m \u001b[0mhue_order\u001b[0m\u001b[0;34m=\u001b[0m\u001b[0mhue_order\u001b[0m\u001b[0;34m,\u001b[0m \u001b[0mhue_norm\u001b[0m\u001b[0;34m=\u001b[0m\u001b[0mhue_norm\u001b[0m\u001b[0;34m,\u001b[0m\u001b[0;34m\u001b[0m\u001b[0;34m\u001b[0m\u001b[0m\n\u001b[1;32m   2124\u001b[0m         \u001b[0mdropna\u001b[0m\u001b[0;34m=\u001b[0m\u001b[0mdropna\u001b[0m\u001b[0;34m,\u001b[0m \u001b[0mheight\u001b[0m\u001b[0;34m=\u001b[0m\u001b[0mheight\u001b[0m\u001b[0;34m,\u001b[0m \u001b[0mratio\u001b[0m\u001b[0;34m=\u001b[0m\u001b[0mratio\u001b[0m\u001b[0;34m,\u001b[0m \u001b[0mspace\u001b[0m\u001b[0;34m=\u001b[0m\u001b[0mspace\u001b[0m\u001b[0;34m,\u001b[0m\u001b[0;34m\u001b[0m\u001b[0;34m\u001b[0m\u001b[0m\n\u001b[0;32m-> 2125\u001b[0;31m         \u001b[0mxlim\u001b[0m\u001b[0;34m=\u001b[0m\u001b[0mxlim\u001b[0m\u001b[0;34m,\u001b[0m \u001b[0mylim\u001b[0m\u001b[0;34m=\u001b[0m\u001b[0mylim\u001b[0m\u001b[0;34m,\u001b[0m \u001b[0mmarginal_ticks\u001b[0m\u001b[0;34m=\u001b[0m\u001b[0mmarginal_ticks\u001b[0m\u001b[0;34m,\u001b[0m\u001b[0;34m\u001b[0m\u001b[0;34m\u001b[0m\u001b[0m\n\u001b[0m\u001b[1;32m   2126\u001b[0m     )\n\u001b[1;32m   2127\u001b[0m \u001b[0;34m\u001b[0m\u001b[0m\n",
            "\u001b[0;32m/usr/local/lib/python3.7/dist-packages/seaborn/_decorators.py\u001b[0m in \u001b[0;36minner_f\u001b[0;34m(*args, **kwargs)\u001b[0m\n\u001b[1;32m     44\u001b[0m             )\n\u001b[1;32m     45\u001b[0m         \u001b[0mkwargs\u001b[0m\u001b[0;34m.\u001b[0m\u001b[0mupdate\u001b[0m\u001b[0;34m(\u001b[0m\u001b[0;34m{\u001b[0m\u001b[0mk\u001b[0m\u001b[0;34m:\u001b[0m \u001b[0marg\u001b[0m \u001b[0;32mfor\u001b[0m \u001b[0mk\u001b[0m\u001b[0;34m,\u001b[0m \u001b[0marg\u001b[0m \u001b[0;32min\u001b[0m \u001b[0mzip\u001b[0m\u001b[0;34m(\u001b[0m\u001b[0msig\u001b[0m\u001b[0;34m.\u001b[0m\u001b[0mparameters\u001b[0m\u001b[0;34m,\u001b[0m \u001b[0margs\u001b[0m\u001b[0;34m)\u001b[0m\u001b[0;34m}\u001b[0m\u001b[0;34m)\u001b[0m\u001b[0;34m\u001b[0m\u001b[0;34m\u001b[0m\u001b[0m\n\u001b[0;32m---> 46\u001b[0;31m         \u001b[0;32mreturn\u001b[0m \u001b[0mf\u001b[0m\u001b[0;34m(\u001b[0m\u001b[0;34m**\u001b[0m\u001b[0mkwargs\u001b[0m\u001b[0;34m)\u001b[0m\u001b[0;34m\u001b[0m\u001b[0;34m\u001b[0m\u001b[0m\n\u001b[0m\u001b[1;32m     47\u001b[0m     \u001b[0;32mreturn\u001b[0m \u001b[0minner_f\u001b[0m\u001b[0;34m\u001b[0m\u001b[0;34m\u001b[0m\u001b[0m\n\u001b[1;32m     48\u001b[0m \u001b[0;34m\u001b[0m\u001b[0m\n",
            "\u001b[0;32m/usr/local/lib/python3.7/dist-packages/seaborn/axisgrid.py\u001b[0m in \u001b[0;36m__init__\u001b[0;34m(self, x, y, data, height, ratio, space, dropna, xlim, ylim, size, marginal_ticks, hue, palette, hue_order, hue_norm)\u001b[0m\n\u001b[1;32m   1628\u001b[0m \u001b[0;34m\u001b[0m\u001b[0m\n\u001b[1;32m   1629\u001b[0m         \u001b[0;31m# Process the input variables\u001b[0m\u001b[0;34m\u001b[0m\u001b[0;34m\u001b[0m\u001b[0;34m\u001b[0m\u001b[0m\n\u001b[0;32m-> 1630\u001b[0;31m         \u001b[0mp\u001b[0m \u001b[0;34m=\u001b[0m \u001b[0mVectorPlotter\u001b[0m\u001b[0;34m(\u001b[0m\u001b[0mdata\u001b[0m\u001b[0;34m=\u001b[0m\u001b[0mdata\u001b[0m\u001b[0;34m,\u001b[0m \u001b[0mvariables\u001b[0m\u001b[0;34m=\u001b[0m\u001b[0mdict\u001b[0m\u001b[0;34m(\u001b[0m\u001b[0mx\u001b[0m\u001b[0;34m=\u001b[0m\u001b[0mx\u001b[0m\u001b[0;34m,\u001b[0m \u001b[0my\u001b[0m\u001b[0;34m=\u001b[0m\u001b[0my\u001b[0m\u001b[0;34m,\u001b[0m \u001b[0mhue\u001b[0m\u001b[0;34m=\u001b[0m\u001b[0mhue\u001b[0m\u001b[0;34m)\u001b[0m\u001b[0;34m)\u001b[0m\u001b[0;34m\u001b[0m\u001b[0;34m\u001b[0m\u001b[0m\n\u001b[0m\u001b[1;32m   1631\u001b[0m         \u001b[0mplot_data\u001b[0m \u001b[0;34m=\u001b[0m \u001b[0mp\u001b[0m\u001b[0;34m.\u001b[0m\u001b[0mplot_data\u001b[0m\u001b[0;34m.\u001b[0m\u001b[0mloc\u001b[0m\u001b[0;34m[\u001b[0m\u001b[0;34m:\u001b[0m\u001b[0;34m,\u001b[0m \u001b[0mp\u001b[0m\u001b[0;34m.\u001b[0m\u001b[0mplot_data\u001b[0m\u001b[0;34m.\u001b[0m\u001b[0mnotna\u001b[0m\u001b[0;34m(\u001b[0m\u001b[0;34m)\u001b[0m\u001b[0;34m.\u001b[0m\u001b[0many\u001b[0m\u001b[0;34m(\u001b[0m\u001b[0;34m)\u001b[0m\u001b[0;34m]\u001b[0m\u001b[0;34m\u001b[0m\u001b[0;34m\u001b[0m\u001b[0m\n\u001b[1;32m   1632\u001b[0m \u001b[0;34m\u001b[0m\u001b[0m\n",
            "\u001b[0;32m/usr/local/lib/python3.7/dist-packages/seaborn/_core.py\u001b[0m in \u001b[0;36m__init__\u001b[0;34m(self, data, variables)\u001b[0m\n\u001b[1;32m    602\u001b[0m     \u001b[0;32mdef\u001b[0m \u001b[0m__init__\u001b[0m\u001b[0;34m(\u001b[0m\u001b[0mself\u001b[0m\u001b[0;34m,\u001b[0m \u001b[0mdata\u001b[0m\u001b[0;34m=\u001b[0m\u001b[0;32mNone\u001b[0m\u001b[0;34m,\u001b[0m \u001b[0mvariables\u001b[0m\u001b[0;34m=\u001b[0m\u001b[0;34m{\u001b[0m\u001b[0;34m}\u001b[0m\u001b[0;34m)\u001b[0m\u001b[0;34m:\u001b[0m\u001b[0;34m\u001b[0m\u001b[0;34m\u001b[0m\u001b[0m\n\u001b[1;32m    603\u001b[0m \u001b[0;34m\u001b[0m\u001b[0m\n\u001b[0;32m--> 604\u001b[0;31m         \u001b[0mself\u001b[0m\u001b[0;34m.\u001b[0m\u001b[0massign_variables\u001b[0m\u001b[0;34m(\u001b[0m\u001b[0mdata\u001b[0m\u001b[0;34m,\u001b[0m \u001b[0mvariables\u001b[0m\u001b[0;34m)\u001b[0m\u001b[0;34m\u001b[0m\u001b[0;34m\u001b[0m\u001b[0m\n\u001b[0m\u001b[1;32m    605\u001b[0m \u001b[0;34m\u001b[0m\u001b[0m\n\u001b[1;32m    606\u001b[0m         \u001b[0;32mfor\u001b[0m \u001b[0mvar\u001b[0m\u001b[0;34m,\u001b[0m \u001b[0mcls\u001b[0m \u001b[0;32min\u001b[0m \u001b[0mself\u001b[0m\u001b[0;34m.\u001b[0m\u001b[0m_semantic_mappings\u001b[0m\u001b[0;34m.\u001b[0m\u001b[0mitems\u001b[0m\u001b[0;34m(\u001b[0m\u001b[0;34m)\u001b[0m\u001b[0;34m:\u001b[0m\u001b[0;34m\u001b[0m\u001b[0;34m\u001b[0m\u001b[0m\n",
            "\u001b[0;32m/usr/local/lib/python3.7/dist-packages/seaborn/_core.py\u001b[0m in \u001b[0;36massign_variables\u001b[0;34m(self, data, variables)\u001b[0m\n\u001b[1;32m    666\u001b[0m             \u001b[0mself\u001b[0m\u001b[0;34m.\u001b[0m\u001b[0minput_format\u001b[0m \u001b[0;34m=\u001b[0m \u001b[0;34m\"long\"\u001b[0m\u001b[0;34m\u001b[0m\u001b[0;34m\u001b[0m\u001b[0m\n\u001b[1;32m    667\u001b[0m             plot_data, variables = self._assign_variables_longform(\n\u001b[0;32m--> 668\u001b[0;31m                 \u001b[0mdata\u001b[0m\u001b[0;34m,\u001b[0m \u001b[0;34m**\u001b[0m\u001b[0mvariables\u001b[0m\u001b[0;34m,\u001b[0m\u001b[0;34m\u001b[0m\u001b[0;34m\u001b[0m\u001b[0m\n\u001b[0m\u001b[1;32m    669\u001b[0m             )\n\u001b[1;32m    670\u001b[0m \u001b[0;34m\u001b[0m\u001b[0m\n",
            "\u001b[0;32m/usr/local/lib/python3.7/dist-packages/seaborn/_core.py\u001b[0m in \u001b[0;36m_assign_variables_longform\u001b[0;34m(self, data, **kwargs)\u001b[0m\n\u001b[1;32m    900\u001b[0m \u001b[0;34m\u001b[0m\u001b[0m\n\u001b[1;32m    901\u001b[0m                 \u001b[0merr\u001b[0m \u001b[0;34m=\u001b[0m \u001b[0;34mf\"Could not interpret value `{val}` for parameter `{key}`\"\u001b[0m\u001b[0;34m\u001b[0m\u001b[0;34m\u001b[0m\u001b[0m\n\u001b[0;32m--> 902\u001b[0;31m                 \u001b[0;32mraise\u001b[0m \u001b[0mValueError\u001b[0m\u001b[0;34m(\u001b[0m\u001b[0merr\u001b[0m\u001b[0;34m)\u001b[0m\u001b[0;34m\u001b[0m\u001b[0;34m\u001b[0m\u001b[0m\n\u001b[0m\u001b[1;32m    903\u001b[0m \u001b[0;34m\u001b[0m\u001b[0m\n\u001b[1;32m    904\u001b[0m             \u001b[0;32melse\u001b[0m\u001b[0;34m:\u001b[0m\u001b[0;34m\u001b[0m\u001b[0;34m\u001b[0m\u001b[0m\n",
            "\u001b[0;31mValueError\u001b[0m: Could not interpret value `CO2 EMISSIONS` for parameter `y`"
          ]
        },
        {
          "output_type": "display_data",
          "data": {
            "image/png": "[encoded data removed]",
            "text/plain": [
              "<Figure size 432x432 with 3 Axes>"
            ]
          },
          "metadata": {
            "needs_background": "light"
          }
        }
      ]
    },
    {
      "cell_type": "code",
      "metadata": {
        "id": "xoJwY44cBA7c"
      },
      "source": [
        "sns.jointplot(x=\"COMB (L/100 km)\",y=\"CO2 EMISSIONS\", data=combined_df)"
      ],
      "execution_count": null,
      "outputs": []
    },
    {
      "cell_type": "markdown",
      "metadata": {
        "id": "qc7PJIn5KUHC"
      },
      "source": [
        "This plot shows a positive correlation but not as strong as \"Consumption_HWY\" and \"CO2 EMISSIONS\"."
      ]
    },
    {
      "cell_type": "code",
      "metadata": {
        "id": "PTXdQbUqWCB2"
      },
      "source": [
        "sns.jointplot(x=\"FUEL TYPE\",y=\"CO2_EMISSIONS\", data=combined_df)"
      ],
      "execution_count": null,
      "outputs": []
    },
    {
      "cell_type": "markdown",
      "metadata": {
        "id": "t55nvJM1WKeb"
      },
      "source": [
        "This graph shows that vehicle that use Fuel Type \"Z\" produces much emmission. Here \"Z\" is Premium Gasoline."
      ]
    },
    {
      "cell_type": "code",
      "metadata": {
        "id": "hlCyH4InWpI5"
      },
      "source": [
        "sns.jointplot(x=\"TRANSMISSION\",y=\"CO2_EMISSIONS\", data=combined_df)"
      ],
      "execution_count": null,
      "outputs": []
    },
    {
      "cell_type": "markdown",
      "metadata": {
        "id": "o7KR9gX5Luvt"
      },
      "source": [
        "There is no correlation between our independent variable \"CO2 EMISSIONS\" and \"TRANSMISSION\"."
      ]
    },
    {
      "cell_type": "code",
      "metadata": {
        "colab": {
          "base_uri": "https://localhost:8080/",
          "height": 271
        },
        "id": "wLa1i3SUQzyW",
        "outputId": "7eb486b8-d56c-4889-fa2d-c478504a9d8c"
      },
      "source": [
        "# Co2 emission on the bases of make of the car\n",
        "f, ax = plt.subplots(figsize=(30,5))\n",
        "x = combined_df.MAKE.value_counts().sort_values()\n",
        "ax = sns.barplot(data=combined_df,x='MAKE',y='CO2_EMISSIONS')\n",
        "plt.title('Vehicle Make and their Co2 emissions')\n",
        "plt.xticks(rotation=35)\n",
        "plt.show()"
      ],
      "execution_count": null,
      "outputs": [
        {
          "output_type": "display_data",
          "data": {
            "image/png": "[encoded data removed]",
            "text/plain": [
              "<Figure size 2160x360 with 1 Axes>"
            ]
          },
          "metadata": {
            "tags": [],
            "needs_background": "light"
          }
        }
      ]
    },
    {
      "cell_type": "markdown",
      "metadata": {
        "id": "pBIEU6Eomx4I"
      },
      "source": [
        "The bar graph shows that Lamborghini produces the higher emmision that any other vehicle. Ferrari and Bentley comes at second and third position respectively in term of producing high amount of carbon footprint. These compnies needs to take some actions to avoid producing so much co2 content in the environment."
      ]
    },
    {
      "cell_type": "code",
      "metadata": {
        "colab": {
          "base_uri": "https://localhost:8080/",
          "height": 539
        },
        "id": "VzzPwq3r_UQM",
        "outputId": "c193e0ee-ca98-4522-cf9e-8df461e5e885"
      },
      "source": [
        "# Top 10 vehicles with highest carbon dioxide emissions\n",
        "High_to_low=(combined_df.sort_values(by='CO2_EMISSIONS',ascending=False)[0:10]).round(1)\n",
        "High_to_low.head(10)"
      ],
      "execution_count": null,
      "outputs": [
        {
          "output_type": "execute_result",
          "data": {
            "text/html": [
              "<div>\n",
              "<style scoped>\n",
              "    .dataframe tbody tr th:only-of-type {\n",
              "        vertical-align: middle;\n",
              "    }\n",
              "\n",
              "    .dataframe tbody tr th {\n",
              "        vertical-align: top;\n",
              "    }\n",
              "\n",
              "    .dataframe thead th {\n",
              "        text-align: right;\n",
              "    }\n",
              "</style>\n",
              "<table border=\"1\" class=\"dataframe\">\n",
              "  <thead>\n",
              "    <tr style=\"text-align: right;\">\n",
              "      <th></th>\n",
              "      <th>MODEL YEAR</th>\n",
              "      <th>MAKE</th>\n",
              "      <th>MODEL</th>\n",
              "      <th>VEHICLE CLASS</th>\n",
              "      <th>ENGINE SIZE</th>\n",
              "      <th>CYLINDERS</th>\n",
              "      <th>TRANSMISSION</th>\n",
              "      <th>FUEL TYPE</th>\n",
              "      <th>Consumption_CITY</th>\n",
              "      <th>Consumption_HWY</th>\n",
              "      <th>COMB (L/100 km)</th>\n",
              "      <th>COMB (mpg)</th>\n",
              "      <th>CO2_EMISSIONS</th>\n",
              "    </tr>\n",
              "  </thead>\n",
              "  <tbody>\n",
              "    <tr>\n",
              "      <th>5832</th>\n",
              "      <td>2003</td>\n",
              "      <td>FERRARI</td>\n",
              "      <td>ENZO</td>\n",
              "      <td>TWO-SEATER</td>\n",
              "      <td>6.0</td>\n",
              "      <td>12.0</td>\n",
              "      <td>AS6</td>\n",
              "      <td>Z</td>\n",
              "      <td>30.6</td>\n",
              "      <td>17.6</td>\n",
              "      <td>24.8</td>\n",
              "      <td>11.0</td>\n",
              "      <td>570.0</td>\n",
              "    </tr>\n",
              "    <tr>\n",
              "      <th>3734</th>\n",
              "      <td>2000</td>\n",
              "      <td>FERRARI</td>\n",
              "      <td>550 MARANELLO</td>\n",
              "      <td>SUBCOMPACT</td>\n",
              "      <td>5.5</td>\n",
              "      <td>12.0</td>\n",
              "      <td>M6</td>\n",
              "      <td>Z</td>\n",
              "      <td>27.7</td>\n",
              "      <td>16.6</td>\n",
              "      <td>22.7</td>\n",
              "      <td>12.0</td>\n",
              "      <td>522.0</td>\n",
              "    </tr>\n",
              "    <tr>\n",
              "      <th>7618</th>\n",
              "      <td>2005</td>\n",
              "      <td>DODGE</td>\n",
              "      <td>RAM SRT-10</td>\n",
              "      <td>PICKUP TRUCK - STANDARD</td>\n",
              "      <td>8.3</td>\n",
              "      <td>10.0</td>\n",
              "      <td>A4</td>\n",
              "      <td>Z</td>\n",
              "      <td>26.1</td>\n",
              "      <td>17.6</td>\n",
              "      <td>22.3</td>\n",
              "      <td>13.0</td>\n",
              "      <td>513.0</td>\n",
              "    </tr>\n",
              "    <tr>\n",
              "      <th>8636</th>\n",
              "      <td>2006</td>\n",
              "      <td>DODGE</td>\n",
              "      <td>RAM SRT-10</td>\n",
              "      <td>PICKUP TRUCK - STANDARD</td>\n",
              "      <td>8.3</td>\n",
              "      <td>10.0</td>\n",
              "      <td>A4</td>\n",
              "      <td>Z</td>\n",
              "      <td>26.1</td>\n",
              "      <td>17.6</td>\n",
              "      <td>22.3</td>\n",
              "      <td>13.0</td>\n",
              "      <td>513.0</td>\n",
              "    </tr>\n",
              "    <tr>\n",
              "      <th>12633</th>\n",
              "      <td>2010</td>\n",
              "      <td>BUGATTI</td>\n",
              "      <td>VEYRON</td>\n",
              "      <td>TWO-SEATER</td>\n",
              "      <td>8.0</td>\n",
              "      <td>16.0</td>\n",
              "      <td>AS7</td>\n",
              "      <td>Z</td>\n",
              "      <td>27.5</td>\n",
              "      <td>15.5</td>\n",
              "      <td>22.1</td>\n",
              "      <td>13.0</td>\n",
              "      <td>508.0</td>\n",
              "    </tr>\n",
              "    <tr>\n",
              "      <th>13083</th>\n",
              "      <td>2010</td>\n",
              "      <td>LAMBORGHINI</td>\n",
              "      <td>MURCIELAGO</td>\n",
              "      <td>TWO-SEATER</td>\n",
              "      <td>6.5</td>\n",
              "      <td>12.0</td>\n",
              "      <td>M6</td>\n",
              "      <td>Z</td>\n",
              "      <td>25.9</td>\n",
              "      <td>15.8</td>\n",
              "      <td>21.3</td>\n",
              "      <td>13.0</td>\n",
              "      <td>490.0</td>\n",
              "    </tr>\n",
              "    <tr>\n",
              "      <th>14715</th>\n",
              "      <td>2012</td>\n",
              "      <td>BUGATTI</td>\n",
              "      <td>VEYRON</td>\n",
              "      <td>TWO-SEATER</td>\n",
              "      <td>8.0</td>\n",
              "      <td>16.0</td>\n",
              "      <td>AS7</td>\n",
              "      <td>Z</td>\n",
              "      <td>26.1</td>\n",
              "      <td>15.5</td>\n",
              "      <td>21.3</td>\n",
              "      <td>13.0</td>\n",
              "      <td>490.0</td>\n",
              "    </tr>\n",
              "    <tr>\n",
              "      <th>3054</th>\n",
              "      <td>1999</td>\n",
              "      <td>FERRARI</td>\n",
              "      <td>550 MARANELLO</td>\n",
              "      <td>TWO-SEATER</td>\n",
              "      <td>5.5</td>\n",
              "      <td>12.0</td>\n",
              "      <td>M6</td>\n",
              "      <td>Z</td>\n",
              "      <td>26.1</td>\n",
              "      <td>15.4</td>\n",
              "      <td>21.3</td>\n",
              "      <td>13.0</td>\n",
              "      <td>490.0</td>\n",
              "    </tr>\n",
              "    <tr>\n",
              "      <th>10943</th>\n",
              "      <td>2008</td>\n",
              "      <td>LAMBORGHINI</td>\n",
              "      <td>MURCIELARGO</td>\n",
              "      <td>TWO-SEATER</td>\n",
              "      <td>6.5</td>\n",
              "      <td>12.0</td>\n",
              "      <td>M6</td>\n",
              "      <td>Z</td>\n",
              "      <td>25.9</td>\n",
              "      <td>15.8</td>\n",
              "      <td>21.3</td>\n",
              "      <td>13.0</td>\n",
              "      <td>490.0</td>\n",
              "    </tr>\n",
              "    <tr>\n",
              "      <th>10945</th>\n",
              "      <td>2008</td>\n",
              "      <td>LAMBORGHINI</td>\n",
              "      <td>MURCIELARGO ROADSTER</td>\n",
              "      <td>TWO-SEATER</td>\n",
              "      <td>6.5</td>\n",
              "      <td>12.0</td>\n",
              "      <td>M6</td>\n",
              "      <td>Z</td>\n",
              "      <td>25.9</td>\n",
              "      <td>15.8</td>\n",
              "      <td>21.3</td>\n",
              "      <td>13.0</td>\n",
              "      <td>490.0</td>\n",
              "    </tr>\n",
              "  </tbody>\n",
              "</table>\n",
              "</div>"
            ],
            "text/plain": [
              "      MODEL YEAR         MAKE                 MODEL            VEHICLE CLASS  \\\n",
              "5832        2003      FERRARI                  ENZO               TWO-SEATER   \n",
              "3734        2000      FERRARI         550 MARANELLO               SUBCOMPACT   \n",
              "7618        2005        DODGE            RAM SRT-10  PICKUP TRUCK - STANDARD   \n",
              "8636        2006        DODGE            RAM SRT-10  PICKUP TRUCK - STANDARD   \n",
              "12633       2010      BUGATTI                VEYRON               TWO-SEATER   \n",
              "13083       2010  LAMBORGHINI            MURCIELAGO               TWO-SEATER   \n",
              "14715       2012      BUGATTI                VEYRON               TWO-SEATER   \n",
              "3054        1999      FERRARI         550 MARANELLO               TWO-SEATER   \n",
              "10943       2008  LAMBORGHINI           MURCIELARGO               TWO-SEATER   \n",
              "10945       2008  LAMBORGHINI  MURCIELARGO ROADSTER               TWO-SEATER   \n",
              "\n",
              "       ENGINE SIZE  CYLINDERS TRANSMISSION FUEL TYPE  Consumption_CITY  \\\n",
              "5832           6.0       12.0          AS6         Z              30.6   \n",
              "3734           5.5       12.0           M6         Z              27.7   \n",
              "7618           8.3       10.0           A4         Z              26.1   \n",
              "8636           8.3       10.0           A4         Z              26.1   \n",
              "12633          8.0       16.0          AS7         Z              27.5   \n",
              "13083          6.5       12.0           M6         Z              25.9   \n",
              "14715          8.0       16.0          AS7         Z              26.1   \n",
              "3054           5.5       12.0           M6         Z              26.1   \n",
              "10943          6.5       12.0           M6         Z              25.9   \n",
              "10945          6.5       12.0           M6         Z              25.9   \n",
              "\n",
              "       Consumption_HWY  COMB (L/100 km)  COMB (mpg)  CO2_EMISSIONS  \n",
              "5832              17.6             24.8        11.0          570.0  \n",
              "3734              16.6             22.7        12.0          522.0  \n",
              "7618              17.6             22.3        13.0          513.0  \n",
              "8636              17.6             22.3        13.0          513.0  \n",
              "12633             15.5             22.1        13.0          508.0  \n",
              "13083             15.8             21.3        13.0          490.0  \n",
              "14715             15.5             21.3        13.0          490.0  \n",
              "3054              15.4             21.3        13.0          490.0  \n",
              "10943             15.8             21.3        13.0          490.0  \n",
              "10945             15.8             21.3        13.0          490.0  "
            ]
          },
          "metadata": {
            "tags": []
          },
          "execution_count": 38
        }
      ]
    },
    {
      "cell_type": "code",
      "metadata": {
        "colab": {
          "base_uri": "https://localhost:8080/",
          "height": 397
        },
        "id": "IO-8R_NzkLPs",
        "outputId": "c03997be-082c-4b9e-a625-ab5d01565fc1"
      },
      "source": [
        "# Top 10 vehicles with lowest carbon dioxide emissions\n",
        "low_to_high=(combined_df.sort_values(by='CO2_EMISSIONS',ascending=True)[0:10]).round(1)\n",
        "low_to_high.head(10)"
      ],
      "execution_count": null,
      "outputs": [
        {
          "output_type": "execute_result",
          "data": {
            "text/html": [
              "<div>\n",
              "<style scoped>\n",
              "    .dataframe tbody tr th:only-of-type {\n",
              "        vertical-align: middle;\n",
              "    }\n",
              "\n",
              "    .dataframe tbody tr th {\n",
              "        vertical-align: top;\n",
              "    }\n",
              "\n",
              "    .dataframe thead th {\n",
              "        text-align: right;\n",
              "    }\n",
              "</style>\n",
              "<table border=\"1\" class=\"dataframe\">\n",
              "  <thead>\n",
              "    <tr style=\"text-align: right;\">\n",
              "      <th></th>\n",
              "      <th>MODEL YEAR</th>\n",
              "      <th>MAKE</th>\n",
              "      <th>MODEL</th>\n",
              "      <th>VEHICLE CLASS</th>\n",
              "      <th>ENGINE SIZE</th>\n",
              "      <th>CYLINDERS</th>\n",
              "      <th>TRANSMISSION</th>\n",
              "      <th>FUEL TYPE</th>\n",
              "      <th>Consumption_CITY</th>\n",
              "      <th>Consumption_HWY</th>\n",
              "      <th>COMB (L/100 km)</th>\n",
              "      <th>COMB (mpg)</th>\n",
              "      <th>CO2_EMISSIONS</th>\n",
              "    </tr>\n",
              "  </thead>\n",
              "  <tbody>\n",
              "    <tr>\n",
              "      <th>5221</th>\n",
              "      <td>2002</td>\n",
              "      <td>HONDA</td>\n",
              "      <td>INSIGHT</td>\n",
              "      <td>TWO-SEATER</td>\n",
              "      <td>1.0</td>\n",
              "      <td>3.0</td>\n",
              "      <td>M5</td>\n",
              "      <td>X</td>\n",
              "      <td>3.9</td>\n",
              "      <td>3.2</td>\n",
              "      <td>3.6</td>\n",
              "      <td>78.0</td>\n",
              "      <td>83.0</td>\n",
              "    </tr>\n",
              "    <tr>\n",
              "      <th>6836</th>\n",
              "      <td>2004</td>\n",
              "      <td>HONDA</td>\n",
              "      <td>INSIGHT</td>\n",
              "      <td>TWO-SEATER</td>\n",
              "      <td>1.0</td>\n",
              "      <td>3.0</td>\n",
              "      <td>M5</td>\n",
              "      <td>X</td>\n",
              "      <td>3.9</td>\n",
              "      <td>3.3</td>\n",
              "      <td>3.6</td>\n",
              "      <td>78.0</td>\n",
              "      <td>83.0</td>\n",
              "    </tr>\n",
              "    <tr>\n",
              "      <th>4501</th>\n",
              "      <td>2001</td>\n",
              "      <td>HONDA</td>\n",
              "      <td>INSIGHT</td>\n",
              "      <td>TWO-SEATER</td>\n",
              "      <td>1.0</td>\n",
              "      <td>3.0</td>\n",
              "      <td>M5</td>\n",
              "      <td>X</td>\n",
              "      <td>3.9</td>\n",
              "      <td>3.2</td>\n",
              "      <td>3.6</td>\n",
              "      <td>78.0</td>\n",
              "      <td>83.0</td>\n",
              "    </tr>\n",
              "    <tr>\n",
              "      <th>3847</th>\n",
              "      <td>2000</td>\n",
              "      <td>HONDA</td>\n",
              "      <td>INSIGHT</td>\n",
              "      <td>SUBCOMPACT</td>\n",
              "      <td>1.0</td>\n",
              "      <td>3.0</td>\n",
              "      <td>M5</td>\n",
              "      <td>X</td>\n",
              "      <td>3.9</td>\n",
              "      <td>3.2</td>\n",
              "      <td>3.6</td>\n",
              "      <td>78.0</td>\n",
              "      <td>83.0</td>\n",
              "    </tr>\n",
              "    <tr>\n",
              "      <th>8776</th>\n",
              "      <td>2006</td>\n",
              "      <td>HONDA</td>\n",
              "      <td>INSIGHT</td>\n",
              "      <td>TWO-SEATER</td>\n",
              "      <td>1.0</td>\n",
              "      <td>3.0</td>\n",
              "      <td>M5</td>\n",
              "      <td>X</td>\n",
              "      <td>3.9</td>\n",
              "      <td>3.3</td>\n",
              "      <td>3.6</td>\n",
              "      <td>78.0</td>\n",
              "      <td>83.0</td>\n",
              "    </tr>\n",
              "    <tr>\n",
              "      <th>7778</th>\n",
              "      <td>2005</td>\n",
              "      <td>HONDA</td>\n",
              "      <td>INSIGHT</td>\n",
              "      <td>TWO-SEATER</td>\n",
              "      <td>1.0</td>\n",
              "      <td>3.0</td>\n",
              "      <td>M5</td>\n",
              "      <td>X</td>\n",
              "      <td>3.9</td>\n",
              "      <td>3.3</td>\n",
              "      <td>3.6</td>\n",
              "      <td>78.0</td>\n",
              "      <td>83.0</td>\n",
              "    </tr>\n",
              "    <tr>\n",
              "      <th>5976</th>\n",
              "      <td>2003</td>\n",
              "      <td>HONDA</td>\n",
              "      <td>INSIGHT</td>\n",
              "      <td>TWO-SEATER</td>\n",
              "      <td>1.0</td>\n",
              "      <td>3.0</td>\n",
              "      <td>M5</td>\n",
              "      <td>X</td>\n",
              "      <td>3.9</td>\n",
              "      <td>3.2</td>\n",
              "      <td>3.6</td>\n",
              "      <td>78.0</td>\n",
              "      <td>83.0</td>\n",
              "    </tr>\n",
              "    <tr>\n",
              "      <th>15603</th>\n",
              "      <td>2012</td>\n",
              "      <td>TOYOTA</td>\n",
              "      <td>PRIUS c</td>\n",
              "      <td>COMPACT</td>\n",
              "      <td>1.5</td>\n",
              "      <td>4.0</td>\n",
              "      <td>AV</td>\n",
              "      <td>X</td>\n",
              "      <td>3.5</td>\n",
              "      <td>4.0</td>\n",
              "      <td>3.7</td>\n",
              "      <td>76.0</td>\n",
              "      <td>85.0</td>\n",
              "    </tr>\n",
              "    <tr>\n",
              "      <th>16662</th>\n",
              "      <td>2013</td>\n",
              "      <td>TOYOTA</td>\n",
              "      <td>PRIUS c</td>\n",
              "      <td>COMPACT</td>\n",
              "      <td>1.5</td>\n",
              "      <td>4.0</td>\n",
              "      <td>AV</td>\n",
              "      <td>X</td>\n",
              "      <td>3.5</td>\n",
              "      <td>4.0</td>\n",
              "      <td>3.7</td>\n",
              "      <td>76.0</td>\n",
              "      <td>85.0</td>\n",
              "    </tr>\n",
              "    <tr>\n",
              "      <th>16661</th>\n",
              "      <td>2013</td>\n",
              "      <td>TOYOTA</td>\n",
              "      <td>PRIUS</td>\n",
              "      <td>MID-SIZE</td>\n",
              "      <td>1.8</td>\n",
              "      <td>4.0</td>\n",
              "      <td>AV</td>\n",
              "      <td>X</td>\n",
              "      <td>3.7</td>\n",
              "      <td>4.0</td>\n",
              "      <td>3.8</td>\n",
              "      <td>74.0</td>\n",
              "      <td>87.0</td>\n",
              "    </tr>\n",
              "  </tbody>\n",
              "</table>\n",
              "</div>"
            ],
            "text/plain": [
              "      MODEL YEAR    MAKE    MODEL VEHICLE CLASS  ENGINE SIZE  CYLINDERS  \\\n",
              "5221        2002   HONDA  INSIGHT    TWO-SEATER          1.0        3.0   \n",
              "6836        2004   HONDA  INSIGHT    TWO-SEATER          1.0        3.0   \n",
              "4501        2001   HONDA  INSIGHT    TWO-SEATER          1.0        3.0   \n",
              "3847        2000   HONDA  INSIGHT    SUBCOMPACT          1.0        3.0   \n",
              "8776        2006   HONDA  INSIGHT    TWO-SEATER          1.0        3.0   \n",
              "7778        2005   HONDA  INSIGHT    TWO-SEATER          1.0        3.0   \n",
              "5976        2003   HONDA  INSIGHT    TWO-SEATER          1.0        3.0   \n",
              "15603       2012  TOYOTA  PRIUS c       COMPACT          1.5        4.0   \n",
              "16662       2013  TOYOTA  PRIUS c       COMPACT          1.5        4.0   \n",
              "16661       2013  TOYOTA    PRIUS      MID-SIZE          1.8        4.0   \n",
              "\n",
              "      TRANSMISSION FUEL TYPE  Consumption_CITY  Consumption_HWY  \\\n",
              "5221            M5         X               3.9              3.2   \n",
              "6836            M5         X               3.9              3.3   \n",
              "4501            M5         X               3.9              3.2   \n",
              "3847            M5         X               3.9              3.2   \n",
              "8776            M5         X               3.9              3.3   \n",
              "7778            M5         X               3.9              3.3   \n",
              "5976            M5         X               3.9              3.2   \n",
              "15603           AV         X               3.5              4.0   \n",
              "16662           AV         X               3.5              4.0   \n",
              "16661           AV         X               3.7              4.0   \n",
              "\n",
              "       COMB (L/100 km)  COMB (mpg)  CO2_EMISSIONS  \n",
              "5221               3.6        78.0           83.0  \n",
              "6836               3.6        78.0           83.0  \n",
              "4501               3.6        78.0           83.0  \n",
              "3847               3.6        78.0           83.0  \n",
              "8776               3.6        78.0           83.0  \n",
              "7778               3.6        78.0           83.0  \n",
              "5976               3.6        78.0           83.0  \n",
              "15603              3.7        76.0           85.0  \n",
              "16662              3.7        76.0           85.0  \n",
              "16661              3.8        74.0           87.0  "
            ]
          },
          "metadata": {
            "tags": []
          },
          "execution_count": 42
        }
      ]
    },
    {
      "cell_type": "code",
      "metadata": {
        "id": "dLdROJm-mH6X",
        "colab": {
          "base_uri": "https://localhost:8080/",
          "height": 399
        },
        "outputId": "ce4618f2-3935-4c9b-83b5-370971c69f6d"
      },
      "source": [
        "# CO2 Emission Per fuel type\n",
        "sns.set()\n",
        "print(\"CO2 Emission Per fuel type\")\n",
        "g = sns.catplot(x =\"FUEL TYPE\", y =\"CO2 EMISSIONS\", data =combined_df , kind = \"bar\", palette=\"icefire\")\n",
        "plt.show()"
      ],
      "execution_count": null,
      "outputs": [
        {
          "output_type": "stream",
          "text": [
            "CO2 Emission Per fuel type\n"
          ],
          "name": "stdout"
        },
        {
          "output_type": "display_data",
          "data": {
            "image/png": "[encoded data removed]",
            "text/plain": [
              "<Figure size 360x360 with 1 Axes>"
            ]
          },
          "metadata": {
            "tags": []
          }
        }
      ]
    },
    {
      "cell_type": "code",
      "metadata": {
        "id": "3EnmRbcmlJvV",
        "colab": {
          "base_uri": "https://localhost:8080/",
          "height": 399
        },
        "outputId": "c2c57a75-f5a6-4719-8d34-09bdc38e0757"
      },
      "source": [
        "# CO2 Emission Per class type\n",
        "sns.set()\n",
        "print(\"CO2 Emission Per class type\")\n",
        "g = sns.catplot(y =\"VEHICLE CLASS\", x =\"CO2 EMISSIONS\", data =combined_df , kind = \"bar\", palette=\"icefire\")\n",
        "plt.show()"
      ],
      "execution_count": null,
      "outputs": [
        {
          "output_type": "stream",
          "text": [
            "CO2 Emission Per class type\n"
          ],
          "name": "stdout"
        },
        {
          "output_type": "display_data",
          "data": {
            "image/png": "[encoded data removed]",
            "text/plain": [
              "<Figure size 360x360 with 1 Axes>"
            ]
          },
          "metadata": {
            "tags": []
          }
        }
      ]
    },
    {
      "cell_type": "code",
      "metadata": {
        "id": "YpcvT9-ghcwa",
        "colab": {
          "base_uri": "https://localhost:8080/",
          "height": 465
        },
        "outputId": "462f859d-9c12-459e-d7d8-c807f8e7e407"
      },
      "source": [
        "plt.figure(figsize = (10,7))\n",
        "sns.countplot(x= combined_df[\"TRANSMISSION\"])"
      ],
      "execution_count": null,
      "outputs": [
        {
          "output_type": "execute_result",
          "data": {
            "text/plain": [
              "<matplotlib.axes._subplots.AxesSubplot at 0x7fa3f7f6a1d0>"
            ]
          },
          "metadata": {
            "tags": []
          },
          "execution_count": 53
        },
        {
          "output_type": "display_data",
          "data": {
            "image/png": "[encoded data removed]",
            "text/plain": [
              "<Figure size 720x504 with 1 Axes>"
            ]
          },
          "metadata": {
            "tags": []
          }
        }
      ]
    },
    {
      "cell_type": "code",
      "metadata": {
        "id": "6BXPG__AoZnf",
        "colab": {
          "base_uri": "https://localhost:8080/",
          "height": 399
        },
        "outputId": "fb702cc1-7ed5-41d2-85a9-17a97d8d5f1e"
      },
      "source": [
        "# CO2 Emission Per Make\n",
        "sns.set()\n",
        "print(\"CO2 Emission Per fuel type\")\n",
        "g = sns.catplot(x =\"MAKE\", y =\"CO2 EMISSIONS\", data =combined_df , kind = \"violin\", palette=\"icefire\")\n",
        "plt.show()"
      ],
      "execution_count": null,
      "outputs": [
        {
          "output_type": "stream",
          "text": [
            "CO2 Emission Per fuel type\n"
          ],
          "name": "stdout"
        },
        {
          "output_type": "display_data",
          "data": {
            "image/png": "[encoded data removed]",
            "text/plain": [
              "<Figure size 360x360 with 1 Axes>"
            ]
          },
          "metadata": {
            "tags": []
          }
        }
      ]
    },
    {
      "cell_type": "code",
      "metadata": {
        "id": "jZRBcnUjnKBi",
        "colab": {
          "base_uri": "https://localhost:8080/",
          "height": 301
        },
        "outputId": "adff49fc-5220-4b54-a839-337d23a09836"
      },
      "source": [
        "# Checking fuel consumption by type\n",
        "sns.set()\n",
        "plt.title(\"The fuel consumption per fuel type\")\n",
        "sns.boxplot(x=\"COMB (L/100 km)\", y = \"FUEL TYPE\", data= combined_df, palette=\"inferno\", sym = \"\")\n",
        "plt.show()"
      ],
      "execution_count": null,
      "outputs": [
        {
          "output_type": "display_data",
          "data": {
            "image/png": "[encoded data removed]",
            "text/plain": [
              "<Figure size 432x288 with 1 Axes>"
            ]
          },
          "metadata": {
            "tags": []
          }
        }
      ]
    },
    {
      "cell_type": "markdown",
      "metadata": {
        "id": "JXt1UTNamgeD"
      },
      "source": [
        "##Prepare data to Split into test and train data"
      ]
    },
    {
      "cell_type": "markdown",
      "metadata": {
        "id": "vZZgv2jHn0Og"
      },
      "source": [
        "Feature Selection"
      ]
    },
    {
      "cell_type": "code",
      "metadata": {
        "id": "k3SZNDopmgrQ",
        "colab": {
          "base_uri": "https://localhost:8080/"
        },
        "outputId": "d38afa12-056f-42ad-984e-850f3c4ca405"
      },
      "source": [
        "# Take the highly correlated fields in X and store the dependent variable in Y.\n",
        "print(combined_df.dtypes)\n",
        "X=combined_df[['ENGINE SIZE', 'CYLINDERS', 'COMB (L/100 km)']]\n",
        "y=combined_df[\"CO2_EMISSIONS\"]\n",
        "#np.loadtxt('Feature_Array_X.csv', X, delimiter=',')\n",
        "#np.loadtxt('Response_Array_y.csv', y, delimiter=',')\n",
        "\n",
        "#X_train = np.loadtxt('Feature_Array_X.csv', X, delimiter=',')\n",
        "\n",
        "#y_target_train = np.loadtxt('Response_Array_y.csv', y, delimiter=',')"
      ],
      "execution_count": null,
      "outputs": [
        {
          "output_type": "stream",
          "name": "stdout",
          "text": [
            "MODEL YEAR            object\n",
            "MAKE                  object\n",
            "MODEL                 object\n",
            "VEHICLE CLASS         object\n",
            "ENGINE SIZE          float64\n",
            "CYLINDERS            float64\n",
            "TRANSMISSION        category\n",
            "FUEL TYPE           category\n",
            "Consumption_CITY     float64\n",
            "Consumption_HWY      float64\n",
            "COMB (L/100 km)      float64\n",
            "COMB (mpg)           float64\n",
            "CO2_EMISSIONS        float64\n",
            "dtype: object\n"
          ]
        }
      ]
    },
    {
      "cell_type": "code",
      "metadata": {
        "colab": {
          "base_uri": "https://localhost:8080/"
        },
        "id": "RpdlDZ2y6lFA",
        "outputId": "1794f18e-53e3-4f21-952a-98bef355817e"
      },
      "source": [
        "#X.columns\n",
        "print(X.shape)\n",
        "print(y.shape)"
      ],
      "execution_count": null,
      "outputs": [
        {
          "output_type": "stream",
          "name": "stdout",
          "text": [
            "(17772, 3)\n",
            "(17772,)\n"
          ]
        }
      ]
    },
    {
      "cell_type": "code",
      "metadata": {
        "colab": {
          "base_uri": "https://localhost:8080/"
        },
        "id": "eLOp3DWH4VFH",
        "outputId": "812d3edf-a3f9-4e35-cfee-6404368cdf80"
      },
      "source": [
        "# To see the unique values in the specific columns\n",
        "for column in X.columns:\n",
        "  uniques = sorted(combined_df[column].unique())\n",
        "  print(column, uniques[:5])\n",
        "  #print('{0:20s} {1:5d}\\t'.format(column, len(uniques)), uniques[:5])"
      ],
      "execution_count": null,
      "outputs": [
        {
          "output_type": "stream",
          "name": "stdout",
          "text": [
            "ENGINE SIZE [0.8, 1.0, 1.2, 1.3, 1.4]\n",
            "CYLINDERS [2.0, 3.0, 4.0, 5.0, 6.0]\n",
            "COMB (L/100 km) [3.6, 3.7, 3.8, 4.1, 4.2]\n"
          ]
        }
      ]
    },
    {
      "cell_type": "markdown",
      "metadata": {
        "id": "0b9_Yy7hBAf0"
      },
      "source": [
        "Split the dataset with 70-30"
      ]
    },
    {
      "cell_type": "code",
      "metadata": {
        "id": "Q0SbDsGZkstb"
      },
      "source": [
        "def split_70(X,y):\n",
        "  X_train, X_test, Y_train,  Y_test= train_test_split(X,y,test_size=0.30,random_state=42)\n",
        "  return X_train, X_test, Y_train,  Y_test\n",
        "def split_90(X,y):\n",
        "   X_train, X_test, Y_train,  Y_test = train_test_split(X,y,test_size=0.10,random_state=42)\n",
        "   X_train, X_val, Y_train, Y_val = train_test_split(X_train, Y_train, test_size=0.25, random_state=1) \n",
        "   return X_train, X_test, Y_train,  Y_test, X_val, Y_val\n",
        "  "
      ],
      "execution_count": null,
      "outputs": []
    },
    {
      "cell_type": "code",
      "metadata": {
        "id": "mXfwemGoA56j"
      },
      "source": [
        "X_train, X_test, Y_train,  Y_test =  split_70(X,y)\n",
        "#X_train, X_test, Y_train,  Y_test =  split_90(X,y)\n",
        "print(\"X_train:\",X_train.shape)\n",
        "print(\"Y_train:\",Y_train.shape)\n",
        "print(\"X_test:\", X_test.shape)\n",
        "print(\"Y_test:\",Y_test.shape)\n",
        "X_train.describe()"
      ],
      "execution_count": null,
      "outputs": []
    },
    {
      "cell_type": "code",
      "metadata": {
        "id": "rKdCxDuLEqrv"
      },
      "source": [
        "from matplotlib import cm\n",
        "colmap= cm.get_cmap(\"gnuplot\")\n",
        "## Scatter plot using the pandas scatter_matrix\n",
        "pd.plotting.scatter_matrix(X_train, c= Y_train, marker='o', figsize=(15,15))"
      ],
      "execution_count": null,
      "outputs": []
    },
    {
      "cell_type": "code",
      "metadata": {
        "colab": {
          "base_uri": "https://localhost:8080/"
        },
        "id": "BXJnLChS99IJ",
        "outputId": "0c45445c-5982-44b9-f430-2046dce54480"
      },
      "source": [
        "from sklearn.feature_selection import VarianceThreshold\n",
        "sel = VarianceThreshold(threshold=(.8 * (1 - .8)))\n",
        "sel.fit_transform(X)"
      ],
      "execution_count": null,
      "outputs": [
        {
          "output_type": "execute_result",
          "data": {
            "text/plain": [
              "array([[ 1.8,  4. ,  8.8],\n",
              "       [ 1.8,  4. ,  8.4],\n",
              "       [ 1.8,  4. ,  8.3],\n",
              "       ...,\n",
              "       [ 3. ,  6. , 10.3],\n",
              "       [ 3.2,  6. ,  9.8],\n",
              "       [ 3.2,  6. , 11.2]])"
            ]
          },
          "metadata": {},
          "execution_count": 27
        }
      ]
    },
    {
      "cell_type": "markdown",
      "metadata": {
        "id": "vpZ87W_z2Zhw"
      },
      "source": [
        "## *Linear Regression:*"
      ]
    },
    {
      "cell_type": "code",
      "metadata": {
        "id": "oFCzY9JbBBfd"
      },
      "source": [
        "def MAPE(Y_actual,Y_Predicted):\n",
        "     mape = np.mean(np.abs((Y_actual - Y_Predicted)/Y_actual))*100\n",
        "     return mape"
      ],
      "execution_count": null,
      "outputs": []
    },
    {
      "cell_type": "markdown",
      "metadata": {
        "id": "3Uyx0powBqFc"
      },
      "source": [
        ""
      ]
    },
    {
      "cell_type": "code",
      "metadata": {
        "id": "WskNEx2Jf3wK"
      },
      "source": [
        " ## Linear regression\n",
        " from sklearn.linear_model import LinearRegression\n",
        " from sklearn.metrics import r2_score\n",
        " from sklearn.metrics import accuracy_score\n",
        " #Defining MAPE function\n",
        " \n",
        " \n",
        " def LR_model(X_train, X_test, Y_train,  Y_test):\n",
        "   len=Y_test.shape[0]\n",
        "   start_time= time.process_time()\n",
        "   lr= LinearRegression()\n",
        "   lr.fit(X_train,Y_train)\n",
        "   y_pred=lr.predict(X_test)\n",
        "   end_time= time.process_time()\n",
        "\n",
        "   print(\"Time taken (in seconds):\",np.round((end_time-start_time),4))\n",
        "   MAE_LR= np.mean(np.abs(Y_test-y_pred))\n",
        "   print(\"Mean absolute error(MAE):\",np.round(MAE_LR,3))\n",
        "   RMSE_LR= np.sqrt(np.mean((Y_test-y_pred)**2))\n",
        "   print(\"RMSE of Linear Model =\",np.round(RMSE_LR,3))\n",
        " \n",
        "   \n",
        " \n",
        "   LR_MAPE= MAPE(Y_test,y_pred)\n",
        "   print(\"MAPE: \",LR_MAPE)\n",
        " \n",
        "   Accuracy_lr=np.round(r2_score(Y_test,y_pred),4)\n",
        "   print(\"Accuracy of Linear Regression Model:{}%\".format(Accuracy_lr*100) )"
      ],
      "execution_count": null,
      "outputs": []
    },
    {
      "cell_type": "markdown",
      "metadata": {
        "id": "pYRNLyv7ECgN"
      },
      "source": [
        "RMSE of linear regression model is 20.45 which is less than the RMSE of baseline line model 59.67. It also gives r2 score of 0.88 which is near 1. Both parameters indicate that Linear model performs great than our baseline model on the data. "
      ]
    },
    {
      "cell_type": "markdown",
      "metadata": {
        "id": "kAXlUhDbDr26"
      },
      "source": [
        "Experiment 1:\n",
        "split 70:30"
      ]
    },
    {
      "cell_type": "code",
      "metadata": {
        "colab": {
          "base_uri": "https://localhost:8080/"
        },
        "id": "tfotFsq6DwG0",
        "outputId": "2ee105dc-3ce8-4846-b352-ec0f8669a7ac"
      },
      "source": [
        "X_train, X_test, Y_train,  Y_test =  split_70(X,y)\n",
        "LR_model(X_train, X_test, Y_train,  Y_test)"
      ],
      "execution_count": null,
      "outputs": [
        {
          "output_type": "stream",
          "name": "stdout",
          "text": [
            "Time taken (in seconds): 0.0048\n",
            "Mean absolute error(MAE): 12.306\n",
            "RMSE of Linear Model = 20.49\n",
            "MAPE:  4.825338796357506\n",
            "Accuracy of Linear Regression Model:88.2%\n"
          ]
        }
      ]
    },
    {
      "cell_type": "markdown",
      "metadata": {
        "id": "wJj1SBj8CY8M"
      },
      "source": [
        "Experiment 2:\n",
        "split 90-10"
      ]
    },
    {
      "cell_type": "code",
      "metadata": {
        "id": "mxSWWOit5wy2"
      },
      "source": [
        "def LR_model(X_train, X_test, Y_train,  Y_test, X_val, Y_val,):\n",
        "   len=Y_test.shape[0]\n",
        "   start_time= time.process_time()\n",
        "   lr= LinearRegression()\n",
        "   lr.fit(X_train,Y_train)\n",
        "   y_pred=lr.predict(X_val)\n",
        "   \n",
        "   MAE_LR= np.mean(np.abs(Y_test-y_pred))\n",
        "   print(\"Mean absolute error(MAE):\",np.round(MAE_LR,3))\n",
        "   RMSE_LR= np.sqrt(np.mean((Y_test-y_pred)**2))\n",
        "   print(\"RMSE of Linear Model =\",np.round(RMSE_LR,3))\n",
        " \n",
        "   \n",
        " \n",
        "   LR_MAPE= MAPE(Y_val,y_pred)\n",
        "   print(\"MAPE: \",LR_MAPE)\n",
        " \n",
        "   Accuracy_lr=np.round(r2_score(Y_val,y_pred),4)\n",
        "   print(\"Accuracy of Linear Regression Model:{}%\".format(Accuracy_lr*100) )\n",
        "   \n",
        "   y_pred=lr.predict(X_test)\n",
        "   \n",
        "   MAE_LR= np.mean(np.abs(Y_test-y_pred))\n",
        "   print(\"Mean absolute error(MAE):\",np.round(MAE_LR,3))\n",
        "   RMSE_LR= np.sqrt(np.mean((Y_test-y_pred)**2))\n",
        "   print(\"RMSE of Linear Model =\",np.round(RMSE_LR,3))\n",
        " \n",
        "   \n",
        " \n",
        "   LR_MAPE= MAPE(Y_test,y_pred)\n",
        "   print(\"MAPE: \",LR_MAPE)\n",
        " \n",
        "   Accuracy_lr=np.round(r2_score(Y_test,y_pred),4)\n",
        "   print(\"Accuracy of Linear Regression Model:{}%\".format(Accuracy_lr*100) )\n",
        "   end_time= time.process_time()\n",
        "\n",
        "   print(\"Time taken (in seconds):\",np.round((end_time-start_time),4))"
      ],
      "execution_count": null,
      "outputs": []
    },
    {
      "cell_type": "code",
      "metadata": {
        "id": "gggPB_qwE2Ai"
      },
      "source": [
        "X_train, X_test, Y_train,  Y_test, X_val,Y_val  =  split_90(X,y)\n",
        "LR_model(X_train, X_test, Y_train,  Y_test, X_val, Y_val)"
      ],
      "execution_count": null,
      "outputs": []
    },
    {
      "cell_type": "markdown",
      "metadata": {
        "id": "rhn0eNkZGCgh"
      },
      "source": [
        "## *Support Vector Regression:*"
      ]
    },
    {
      "cell_type": "code",
      "metadata": {
        "id": "vwFwvXC056Xx"
      },
      "source": [
        "## Support vector regression\n",
        "from sklearn import preprocessing\n",
        "from sklearn import svm"
      ],
      "execution_count": null,
      "outputs": []
    },
    {
      "cell_type": "code",
      "metadata": {
        "id": "M3L4dCP_Ejh0"
      },
      "source": [
        "def SVR_model(X_train, X_test, Y_train,  Y_test):\n",
        "  start_time=time.process_time()\n",
        "  scaler = preprocessing.StandardScaler().fit(X_train)\n",
        "  X_train_transformed = scaler.transform(X_train)\n",
        "  clf = svm.SVR(C=1).fit(X_train, Y_train)\n",
        "  y_pred= clf.predict(X_test)\n",
        "  print(\"Time taken:\",time.process_time()-start_time)\n",
        "  #X_test_transformed = scaler.transform(X_test)\n",
        "  Accuracy_SVR=np.round(clf.score(X_test, Y_test),2)\n",
        "  print(\"Accuracy of Support vector regression is: {}%\".format(Accuracy_SVR*100))\n",
        "  MAE_SVR= np.mean(np.abs(Y_test-y_pred))\n",
        "  print(\"Mean absolute error(MAE):\",np.round(MAE_SVR,3))\n",
        "  RMSE_SVR= np.sqrt(np.mean((Y_test-y_pred)**2))\n",
        "  print(\"RMSE of SVR Model =\",np.round(RMSE_SVR,3))\n",
        "  MAPE_SVR= MAPE(Y_test,y_pred)\n",
        "  print(\"MAPE of SVR model:\",MAPE_SVR)"
      ],
      "execution_count": null,
      "outputs": []
    },
    {
      "cell_type": "markdown",
      "metadata": {
        "id": "e2-oYjlDGDNz"
      },
      "source": [
        "Experiment 1: split 70-30"
      ]
    },
    {
      "cell_type": "code",
      "metadata": {
        "colab": {
          "base_uri": "https://localhost:8080/"
        },
        "id": "qkVQu8bMF36M",
        "outputId": "6a867a07-8407-41ac-fabd-e7158d72911e"
      },
      "source": [
        "X_train, X_test, Y_train,  Y_test =  split_70(X,y)\n",
        "SVR_model(X_train, X_test, Y_train,  Y_test)"
      ],
      "execution_count": null,
      "outputs": [
        {
          "output_type": "stream",
          "text": [
            "Time taken: 11.972992383\n",
            "Accuracy of Support vector regression is: 90.0%\n",
            "Mean absolute error(MAE): 5.33\n",
            "RMSE of SVR Model = 18.487\n",
            "MAPE of SVR model: 2.1138923443071276\n"
          ],
          "name": "stdout"
        }
      ]
    },
    {
      "cell_type": "markdown",
      "metadata": {
        "id": "dNc6QlDpGKEw"
      },
      "source": [
        "Experiment 2: split 90-10"
      ]
    },
    {
      "cell_type": "code",
      "metadata": {
        "colab": {
          "base_uri": "https://localhost:8080/"
        },
        "id": "5wFqtTb0GJgP",
        "outputId": "a9d27961-3977-453d-d524-27cb3bfca873"
      },
      "source": [
        "X_train, X_test, Y_train,  Y_test =  split_90(X,y)\n",
        "SVR_model(X_train, X_test, Y_train,  Y_test)"
      ],
      "execution_count": null,
      "outputs": [
        {
          "output_type": "stream",
          "text": [
            "Time taken: 17.060448457999996\n",
            "Accuracy of Support vector regression is: 90.0%\n",
            "Mean absolute error(MAE): 5.391\n",
            "RMSE of SVR Model = 18.378\n",
            "MAPE of SVR model: 2.0979865960994015\n"
          ],
          "name": "stdout"
        }
      ]
    },
    {
      "cell_type": "markdown",
      "metadata": {
        "id": "DCyyozKIGXUp"
      },
      "source": [
        "## *Decision tree:*"
      ]
    },
    {
      "cell_type": "code",
      "metadata": {
        "id": "7BsdKRf61XC-"
      },
      "source": [
        "#Decision tree training with gini\n",
        "from sklearn.tree import DecisionTreeRegressor\n",
        "#model = DecisionTreeClassifier()\n",
        "def DTGi_model(X_train, X_test, Y_train,  Y_test):\n",
        "  start_time=time.process_time()\n",
        "  model= DecisionTreeRegressor(random_state = 100,max_depth=25, min_samples_leaf=5)\n",
        "  # Fit the model   \n",
        "  model.fit(X_train,Y_train)\n",
        "  y_pred = model.predict(X_test)\n",
        "  \n",
        "  print(\"Time taken:\",np.round((time.process_time()-start_time),3))\n",
        "  # Find the accuracy of the trained model\n",
        "  Acc= model.score(X_test, Y_test)\n",
        "  print(\"Accuracy using Decision Tree Classifier: {}%\".format(Acc*100)) \n",
        "  MAE_DT= np.mean(np.abs(Y_test-y_pred))\n",
        "  print(\"Mean absolute error(MAE):\",np.round(MAE_DT,3))\n",
        "  RMSE_DT= np.sqrt(np.mean((Y_test-y_pred)**2))\n",
        "  print(\"RMSE =\",np.round(RMSE_DT,3))\n",
        "  MAPE_DT= MAPE(Y_test,y_pred)\n",
        "  print(\"MAPE of decesion tree model:\",MAPE_DT)"
      ],
      "execution_count": null,
      "outputs": []
    },
    {
      "cell_type": "markdown",
      "metadata": {
        "id": "An9hS_i1HGqh"
      },
      "source": [
        "Exp 1:"
      ]
    },
    {
      "cell_type": "code",
      "metadata": {
        "colab": {
          "base_uri": "https://localhost:8080/"
        },
        "id": "4-ejtRfkHDo-",
        "outputId": "fa64d1eb-0550-46c4-a38a-66f90c91bf97"
      },
      "source": [
        "X_train, X_test, Y_train,  Y_test =  split_70(X,y)\n",
        "print(X_train.shape)\n",
        "print(Y_train.shape)\n",
        "DTGi_model(X_train, X_test, Y_train,  Y_test)"
      ],
      "execution_count": null,
      "outputs": [
        {
          "output_type": "stream",
          "text": [
            "(12440, 5)\n",
            "(12440,)\n",
            "Time taken: 0.023\n",
            "Accuracy using Decision Tree Classifier: 97.98277616897717%\n",
            "Mean absolute error(MAE): 1.614\n",
            "RMSE = 8.473\n",
            "MAPE of decesion tree model: 0.6243844660518353\n"
          ],
          "name": "stdout"
        }
      ]
    },
    {
      "cell_type": "markdown",
      "metadata": {
        "id": "5BrkV3kNHQfe"
      },
      "source": [
        "Exp 90-10"
      ]
    },
    {
      "cell_type": "code",
      "metadata": {
        "colab": {
          "base_uri": "https://localhost:8080/"
        },
        "id": "7Uh4D09wHQyr",
        "outputId": "756a114b-895a-4bf0-b7a8-d13662ff66d2"
      },
      "source": [
        "X_train, X_test, Y_train,  Y_test =  split_90(X,y)\n",
        "DTGi_model(X_train, X_test, Y_train,  Y_test)"
      ],
      "execution_count": null,
      "outputs": [
        {
          "output_type": "stream",
          "text": [
            "Time taken: 0.027\n",
            "Accuracy using Decision Tree Classifier: 98.33262362912143%\n",
            "Mean absolute error(MAE): 1.437\n",
            "RMSE = 7.592\n",
            "MAPE of decesion tree model: 0.5520625025935678\n"
          ],
          "name": "stdout"
        }
      ]
    },
    {
      "cell_type": "markdown",
      "metadata": {
        "id": "K8pmGUcTGvJs"
      },
      "source": [
        "## *Random Forest Regressor:*"
      ]
    },
    {
      "cell_type": "code",
      "metadata": {
        "id": "x6LarMqfo2Vz"
      },
      "source": [
        "#Random Forest implementation\n",
        "from sklearn.ensemble import RandomForestRegressor\n",
        "def RF_model(X_train, X_test, Y_train,  Y_test):\n",
        "  start_time=time.process_time()\n",
        "  # Create the model with 100 trees\n",
        "  #model = RandomForestRegressor(n_estimators=50,random_state=0)\n",
        "  model = RandomForestRegressor(n_jobs=-1)\n",
        "  # Fit on training data\n",
        "  model.fit(X_train, Y_train)\n",
        "  # y prediction on the test data\n",
        "  y_pred =model.predict(X_test)\n",
        "  #print(y_pred)\n",
        "  print(\"Time taken:\",np.round((time.process_time()-start_time),3))\n",
        "  # Find the accuracy of the trained model\n",
        "  print(\"Accuracy of Random forest: {}%\".format(accuracy_score(Y_test,y_pred)*100))\n",
        "  MAE_RF= np.mean(np.abs(Y_test-y_pred))\n",
        "  print(\"Mean absolute error(MAE):\",np.round(MAE_RF,3))\n",
        "  RMSE_RF= np.sqrt(np.mean((Y_test-y_pred)**2))\n",
        "  print(\"RMSE =\",np.round(RMSE_RF,3))\n",
        "  MAPE_DT= MAPE(Y_test,y_pred)\n",
        "  print(\"MAPE of model:\",MAPE_DT)"
      ],
      "execution_count": null,
      "outputs": []
    },
    {
      "cell_type": "code",
      "metadata": {
        "id": "UbUOQ_2ycBIy"
      },
      "source": [
        "model = RandomForestRegressor(n_jobs=-1)"
      ],
      "execution_count": null,
      "outputs": []
    },
    {
      "cell_type": "code",
      "metadata": {
        "colab": {
          "base_uri": "https://localhost:8080/",
          "height": 313
        },
        "id": "bV9BTdc-b8ta",
        "outputId": "6c688568-4794-4b4e-a3a7-be09a3e7758a"
      },
      "source": [
        "estimators = np.arange(20, 200, 10)\n",
        "scores = []\n",
        "for n in estimators:\n",
        "    model.set_params(n_estimators=n)\n",
        "    model.fit(X_train, Y_train)\n",
        "    scores.append(model.score(X_test, Y_test))\n",
        "plt.title(\"Effect of n_estimators in Random Forest Regressor\")\n",
        "plt.xlabel(\"n_estimator\")\n",
        "plt.ylabel(\"score\")\n",
        "plt.plot(estimators, scores)\n"
      ],
      "execution_count": null,
      "outputs": [
        {
          "output_type": "execute_result",
          "data": {
            "text/plain": [
              "[<matplotlib.lines.Line2D at 0x7ff54f2cd110>]"
            ]
          },
          "metadata": {},
          "execution_count": 39
        },
        {
          "output_type": "display_data",
          "data": {
            "image/png": "[encoded data removed]",
            "text/plain": [
              "<Figure size 432x288 with 1 Axes>"
            ]
          },
          "metadata": {
            "needs_background": "light"
          }
        }
      ]
    },
    {
      "cell_type": "code",
      "metadata": {
        "colab": {
          "base_uri": "https://localhost:8080/",
          "height": 279
        },
        "id": "kFrINXHjmFQK",
        "outputId": "50b10199-4206-44b0-d819-7ac2d7d8da29"
      },
      "source": [
        "y_pred =model.predict(X_test)\n",
        "# Build a plot\n",
        "plt.scatter(y_pred, Y_test)\n",
        "plt.xlabel('Prediction')\n",
        "plt.ylabel('Real value')\n",
        "\n",
        "# Now add the perfect prediction line\n",
        "diagonal = np.linspace(0, np.max(Y_test), 100)\n",
        "plt.plot(diagonal, diagonal, '-r')\n",
        "plt.show()"
      ],
      "execution_count": null,
      "outputs": [
        {
          "output_type": "display_data",
          "data": {
            "image/png": "[encoded data removed]",
            "text/plain": [
              "<Figure size 432x288 with 1 Axes>"
            ]
          },
          "metadata": {
            "needs_background": "light"
          }
        }
      ]
    },
    {
      "cell_type": "code",
      "metadata": {
        "id": "3YrembaHbQS5"
      },
      "source": [
        "scaler = StandardScaler()\n",
        "scaler.fit(X_train)\n",
        "X_train = scaler.transform(X_train)\n",
        "X_test = scaler.transform(X_test)"
      ],
      "execution_count": null,
      "outputs": []
    },
    {
      "cell_type": "code",
      "metadata": {
        "id": "PzpVML51MedZ",
        "colab": {
          "base_uri": "https://localhost:8080/",
          "height": 346
        },
        "outputId": "23768a18-02bd-4b2e-e60f-27e0b6d51748"
      },
      "source": [
        "X_train, X_test, Y_train,  Y_test =  split_70(X,y)\n",
        "RF_model(X_train, X_test, Y_train,  Y_test)"
      ],
      "execution_count": null,
      "outputs": [
        {
          "output_type": "stream",
          "name": "stdout",
          "text": [
            "Time taken: 1.326\n"
          ]
        },
        {
          "output_type": "error",
          "ename": "ValueError",
          "evalue": "ignored",
          "traceback": [
            "\u001b[0;31m---------------------------------------------------------------------------\u001b[0m",
            "\u001b[0;31mValueError\u001b[0m                                Traceback (most recent call last)",
            "\u001b[0;32m<ipython-input-42-661c7c1d1438>\u001b[0m in \u001b[0;36m<module>\u001b[0;34m()\u001b[0m\n\u001b[1;32m      1\u001b[0m \u001b[0mX_train\u001b[0m\u001b[0;34m,\u001b[0m \u001b[0mX_test\u001b[0m\u001b[0;34m,\u001b[0m \u001b[0mY_train\u001b[0m\u001b[0;34m,\u001b[0m  \u001b[0mY_test\u001b[0m \u001b[0;34m=\u001b[0m  \u001b[0msplit_70\u001b[0m\u001b[0;34m(\u001b[0m\u001b[0mX\u001b[0m\u001b[0;34m,\u001b[0m\u001b[0my\u001b[0m\u001b[0;34m)\u001b[0m\u001b[0;34m\u001b[0m\u001b[0;34m\u001b[0m\u001b[0m\n\u001b[0;32m----> 2\u001b[0;31m \u001b[0mRF_model\u001b[0m\u001b[0;34m(\u001b[0m\u001b[0mX_train\u001b[0m\u001b[0;34m,\u001b[0m \u001b[0mX_test\u001b[0m\u001b[0;34m,\u001b[0m \u001b[0mY_train\u001b[0m\u001b[0;34m,\u001b[0m  \u001b[0mY_test\u001b[0m\u001b[0;34m)\u001b[0m\u001b[0;34m\u001b[0m\u001b[0;34m\u001b[0m\u001b[0m\n\u001b[0m",
            "\u001b[0;32m<ipython-input-37-16f8523703b6>\u001b[0m in \u001b[0;36mRF_model\u001b[0;34m(X_train, X_test, Y_train, Y_test)\u001b[0m\n\u001b[1;32m     13\u001b[0m   \u001b[0mprint\u001b[0m\u001b[0;34m(\u001b[0m\u001b[0;34m\"Time taken:\"\u001b[0m\u001b[0;34m,\u001b[0m\u001b[0mnp\u001b[0m\u001b[0;34m.\u001b[0m\u001b[0mround\u001b[0m\u001b[0;34m(\u001b[0m\u001b[0;34m(\u001b[0m\u001b[0mtime\u001b[0m\u001b[0;34m.\u001b[0m\u001b[0mprocess_time\u001b[0m\u001b[0;34m(\u001b[0m\u001b[0;34m)\u001b[0m\u001b[0;34m-\u001b[0m\u001b[0mstart_time\u001b[0m\u001b[0;34m)\u001b[0m\u001b[0;34m,\u001b[0m\u001b[0;36m3\u001b[0m\u001b[0;34m)\u001b[0m\u001b[0;34m)\u001b[0m\u001b[0;34m\u001b[0m\u001b[0;34m\u001b[0m\u001b[0m\n\u001b[1;32m     14\u001b[0m   \u001b[0;31m# Find the accuracy of the trained model\u001b[0m\u001b[0;34m\u001b[0m\u001b[0;34m\u001b[0m\u001b[0;34m\u001b[0m\u001b[0m\n\u001b[0;32m---> 15\u001b[0;31m   \u001b[0mprint\u001b[0m\u001b[0;34m(\u001b[0m\u001b[0;34m\"Accuracy of Random forest: {}%\"\u001b[0m\u001b[0;34m.\u001b[0m\u001b[0mformat\u001b[0m\u001b[0;34m(\u001b[0m\u001b[0maccuracy_score\u001b[0m\u001b[0;34m(\u001b[0m\u001b[0mY_test\u001b[0m\u001b[0;34m,\u001b[0m\u001b[0my_pred\u001b[0m\u001b[0;34m)\u001b[0m\u001b[0;34m*\u001b[0m\u001b[0;36m100\u001b[0m\u001b[0;34m)\u001b[0m\u001b[0;34m)\u001b[0m\u001b[0;34m\u001b[0m\u001b[0;34m\u001b[0m\u001b[0m\n\u001b[0m\u001b[1;32m     16\u001b[0m   \u001b[0mMAE_RF\u001b[0m\u001b[0;34m=\u001b[0m \u001b[0mnp\u001b[0m\u001b[0;34m.\u001b[0m\u001b[0mmean\u001b[0m\u001b[0;34m(\u001b[0m\u001b[0mnp\u001b[0m\u001b[0;34m.\u001b[0m\u001b[0mabs\u001b[0m\u001b[0;34m(\u001b[0m\u001b[0mY_test\u001b[0m\u001b[0;34m-\u001b[0m\u001b[0my_pred\u001b[0m\u001b[0;34m)\u001b[0m\u001b[0;34m)\u001b[0m\u001b[0;34m\u001b[0m\u001b[0;34m\u001b[0m\u001b[0m\n\u001b[1;32m     17\u001b[0m   \u001b[0mprint\u001b[0m\u001b[0;34m(\u001b[0m\u001b[0;34m\"Mean absolute error(MAE):\"\u001b[0m\u001b[0;34m,\u001b[0m\u001b[0mnp\u001b[0m\u001b[0;34m.\u001b[0m\u001b[0mround\u001b[0m\u001b[0;34m(\u001b[0m\u001b[0mMAE_RF\u001b[0m\u001b[0;34m,\u001b[0m\u001b[0;36m3\u001b[0m\u001b[0;34m)\u001b[0m\u001b[0;34m)\u001b[0m\u001b[0;34m\u001b[0m\u001b[0;34m\u001b[0m\u001b[0m\n",
            "\u001b[0;32m/usr/local/lib/python3.7/dist-packages/sklearn/metrics/_classification.py\u001b[0m in \u001b[0;36maccuracy_score\u001b[0;34m(y_true, y_pred, normalize, sample_weight)\u001b[0m\n\u001b[1;32m    183\u001b[0m \u001b[0;34m\u001b[0m\u001b[0m\n\u001b[1;32m    184\u001b[0m     \u001b[0;31m# Compute accuracy for each possible representation\u001b[0m\u001b[0;34m\u001b[0m\u001b[0;34m\u001b[0m\u001b[0;34m\u001b[0m\u001b[0m\n\u001b[0;32m--> 185\u001b[0;31m     \u001b[0my_type\u001b[0m\u001b[0;34m,\u001b[0m \u001b[0my_true\u001b[0m\u001b[0;34m,\u001b[0m \u001b[0my_pred\u001b[0m \u001b[0;34m=\u001b[0m \u001b[0m_check_targets\u001b[0m\u001b[0;34m(\u001b[0m\u001b[0my_true\u001b[0m\u001b[0;34m,\u001b[0m \u001b[0my_pred\u001b[0m\u001b[0;34m)\u001b[0m\u001b[0;34m\u001b[0m\u001b[0;34m\u001b[0m\u001b[0m\n\u001b[0m\u001b[1;32m    186\u001b[0m     \u001b[0mcheck_consistent_length\u001b[0m\u001b[0;34m(\u001b[0m\u001b[0my_true\u001b[0m\u001b[0;34m,\u001b[0m \u001b[0my_pred\u001b[0m\u001b[0;34m,\u001b[0m \u001b[0msample_weight\u001b[0m\u001b[0;34m)\u001b[0m\u001b[0;34m\u001b[0m\u001b[0;34m\u001b[0m\u001b[0m\n\u001b[1;32m    187\u001b[0m     \u001b[0;32mif\u001b[0m \u001b[0my_type\u001b[0m\u001b[0;34m.\u001b[0m\u001b[0mstartswith\u001b[0m\u001b[0;34m(\u001b[0m\u001b[0;34m'multilabel'\u001b[0m\u001b[0;34m)\u001b[0m\u001b[0;34m:\u001b[0m\u001b[0;34m\u001b[0m\u001b[0;34m\u001b[0m\u001b[0m\n",
            "\u001b[0;32m/usr/local/lib/python3.7/dist-packages/sklearn/metrics/_classification.py\u001b[0m in \u001b[0;36m_check_targets\u001b[0;34m(y_true, y_pred)\u001b[0m\n\u001b[1;32m     88\u001b[0m     \u001b[0;32mif\u001b[0m \u001b[0mlen\u001b[0m\u001b[0;34m(\u001b[0m\u001b[0my_type\u001b[0m\u001b[0;34m)\u001b[0m \u001b[0;34m>\u001b[0m \u001b[0;36m1\u001b[0m\u001b[0;34m:\u001b[0m\u001b[0;34m\u001b[0m\u001b[0;34m\u001b[0m\u001b[0m\n\u001b[1;32m     89\u001b[0m         raise ValueError(\"Classification metrics can't handle a mix of {0} \"\n\u001b[0;32m---> 90\u001b[0;31m                          \"and {1} targets\".format(type_true, type_pred))\n\u001b[0m\u001b[1;32m     91\u001b[0m \u001b[0;34m\u001b[0m\u001b[0m\n\u001b[1;32m     92\u001b[0m     \u001b[0;31m# We can't have more than one value on y_type => The set is no more needed\u001b[0m\u001b[0;34m\u001b[0m\u001b[0;34m\u001b[0m\u001b[0;34m\u001b[0m\u001b[0m\n",
            "\u001b[0;31mValueError\u001b[0m: Classification metrics can't handle a mix of multiclass and continuous targets"
          ]
        }
      ]
    },
    {
      "cell_type": "code",
      "metadata": {
        "id": "14pfr4deMkgk"
      },
      "source": [
        "X_train, X_test, Y_train,  Y_test =  split_90(X,y)\n",
        "RF_model(X_train, X_test, Y_train,  Y_test)"
      ],
      "execution_count": null,
      "outputs": []
    },
    {
      "cell_type": "markdown",
      "metadata": {
        "id": "VyoW1QLoAd2M"
      },
      "source": [
        "K-fold Validation "
      ]
    },
    {
      "cell_type": "code",
      "metadata": {
        "colab": {
          "base_uri": "https://localhost:8080/"
        },
        "id": "JKRW88HeAdDM",
        "outputId": "67f5715e-d68c-4d13-c587-295bce9963f2"
      },
      "source": [
        "from sklearn import model_selection\n",
        "from sklearn.model_selection import KFold\n",
        "from sklearn.ensemble import RandomForestRegressor\n",
        "\n",
        "\n",
        "kfold = model_selection.KFold(n_splits=10, random_state=100)\n",
        "model_kfold = RandomForestRegressor()\n",
        "results_kfold = model_selection.cross_val_score(model_kfold, X_train, Y_train, cv=kfold)\n",
        "print(\"Accuracy: %.2f%%\" % (results_kfold.mean()*100.0)) "
      ],
      "execution_count": null,
      "outputs": [
        {
          "output_type": "stream",
          "name": "stderr",
          "text": [
            "/usr/local/lib/python3.7/dist-packages/sklearn/model_selection/_split.py:296: FutureWarning: Setting a random_state has no effect since shuffle is False. This will raise an error in 0.24. You should leave random_state to its default (None), or set shuffle=True.\n",
            "  FutureWarning\n"
          ]
        },
        {
          "output_type": "stream",
          "name": "stdout",
          "text": [
            "Accuracy: 97.66%\n"
          ]
        }
      ]
    },
    {
      "cell_type": "code",
      "metadata": {
        "colab": {
          "base_uri": "https://localhost:8080/"
        },
        "id": "JPSvhVRwB_x1",
        "outputId": "5ad1e601-b4f6-4a91-fcf9-64699a52045b"
      },
      "source": [
        "from sklearn.model_selection import StratifiedKFold\n",
        "skfold = StratifiedKFold(n_splits=3, random_state=100)\n",
        "model_skfold = RandomForestRegressor()\n",
        "results_skfold = model_selection.cross_val_score(model_skfold,X_train, Y_train, cv=skfold)\n",
        "print(\"Accuracy: %.2f%%\" % (results_skfold.mean()*100.0))"
      ],
      "execution_count": null,
      "outputs": [
        {
          "output_type": "stream",
          "name": "stderr",
          "text": [
            "/usr/local/lib/python3.7/dist-packages/sklearn/model_selection/_split.py:296: FutureWarning: Setting a random_state has no effect since shuffle is False. This will raise an error in 0.24. You should leave random_state to its default (None), or set shuffle=True.\n",
            "  FutureWarning\n",
            "/usr/local/lib/python3.7/dist-packages/sklearn/model_selection/_split.py:667: UserWarning: The least populated class in y has only 1 members, which is less than n_splits=3.\n",
            "  % (min_groups, self.n_splits)), UserWarning)\n"
          ]
        },
        {
          "output_type": "stream",
          "name": "stdout",
          "text": [
            "Accuracy: 97.58%\n"
          ]
        }
      ]
    },
    {
      "cell_type": "code",
      "metadata": {
        "id": "sW-BCgQkCaP8"
      },
      "source": [
        "from sklearn.model_selection import LeaveOneOut\n",
        "from sklearn.model_selection import LeavePOut\n",
        "from sklearn.model_selection import ShuffleSplit"
      ],
      "execution_count": null,
      "outputs": []
    },
    {
      "cell_type": "code",
      "metadata": {
        "colab": {
          "base_uri": "https://localhost:8080/"
        },
        "id": "e-vw6HEPDE_n",
        "outputId": "aad90c67-48ae-4899-cc38-67edd61223c3"
      },
      "source": [
        "kfold2 = model_selection.ShuffleSplit(n_splits=15, test_size=0.30, random_state=100)\n",
        "model_shufflecv = RandomForestRegressor()\n",
        "results_4 = model_selection.cross_val_score(model_shufflecv, X_train, Y_train, cv=kfold2)\n",
        "print(\"Accuracy: %.2f%% (%.2f%%)\" % (results_4.mean()*100.0, results_4.std()*100.0))"
      ],
      "execution_count": null,
      "outputs": [
        {
          "output_type": "stream",
          "name": "stdout",
          "text": [
            "Accuracy: 97.63% (0.31%)\n"
          ]
        }
      ]
    },
    {
      "cell_type": "markdown",
      "metadata": {
        "id": "6hadVjV-bXQB"
      },
      "source": [
        "LightGBM"
      ]
    },
    {
      "cell_type": "code",
      "metadata": {
        "colab": {
          "base_uri": "https://localhost:8080/"
        },
        "id": "TsP5p-6TtYOT",
        "outputId": "5d4ef95e-085c-4817-cc95-defd14a553c8"
      },
      "source": [
        "pip install lightgbm"
      ],
      "execution_count": null,
      "outputs": [
        {
          "output_type": "stream",
          "text": [
            "Requirement already satisfied: lightgbm in /usr/local/lib/python3.7/dist-packages (2.2.3)\n",
            "Requirement already satisfied: scipy in /usr/local/lib/python3.7/dist-packages (from lightgbm) (1.4.1)\n",
            "Requirement already satisfied: numpy in /usr/local/lib/python3.7/dist-packages (from lightgbm) (1.19.5)\n",
            "Requirement already satisfied: scikit-learn in /usr/local/lib/python3.7/dist-packages (from lightgbm) (0.22.2.post1)\n",
            "Requirement already satisfied: joblib>=0.11 in /usr/local/lib/python3.7/dist-packages (from scikit-learn->lightgbm) (1.0.1)\n"
          ],
          "name": "stdout"
        }
      ]
    },
    {
      "cell_type": "code",
      "metadata": {
        "id": "gn1yh-xobWHl"
      },
      "source": [
        "import lightgbm as lgb\n",
        "\n"
      ],
      "execution_count": null,
      "outputs": []
    },
    {
      "cell_type": "code",
      "metadata": {
        "id": "1JpDT-NVRmEr"
      },
      "source": [
        "from sklearn import metrics\n",
        "from sklearn.metrics import accuracy_score\n",
        "def  lgb_model(train_data,valid_data):\n",
        "  start_time=time.process_time()\n",
        "  cv_results = lgb.cv(param, train_data, num_boost_round=num_round, nfold=10,verbose_eval=20, early_stopping_rounds=20,stratified=False)\n",
        "  model=lgb.train(param,train_data,len(cv_results['rmse-mean']))\n",
        "  y_pred = model.predict(X_test)\n",
        "  print(\"Time taken:\",np.round((time.process_time()-start_time),3))\n",
        "  print(\"Accuracy of LightGBM is: {}%\".format(metrics.r2_score(Y_test,y_pred)*100))\n",
        "  lgb_rmse=np.sqrt(metrics.mean_squared_error(y_pred, Y_test))\n",
        "  print(\"RMSE for Light GBM is \",lgb_rmse)\n",
        "  MAE_RF= np.mean(np.abs(Y_test-y_pred))\n",
        "  print(\"Mean absolute error(MAE):\",np.round(MAE_RF,3))\n",
        "  RMSE_RF= np.sqrt(np.mean((Y_test-y_pred)**2))\n",
        "  print(\"RMSE =\",np.round(RMSE_RF,3))\n",
        "  MAPE_DT= MAPE(Y_test,y_pred)\n",
        "  print(\"MAPE of model:\",MAPE_DT)\n"
      ],
      "execution_count": null,
      "outputs": []
    },
    {
      "cell_type": "code",
      "metadata": {
        "colab": {
          "base_uri": "https://localhost:8080/"
        },
        "id": "oBBxRFu4vgwb",
        "outputId": "06968fee-ad91-4d8e-c4b5-a9535814ce39"
      },
      "source": [
        "X_train, X_test, Y_train,  Y_test =  split_70(X,y)\n",
        "train_data=lgb.Dataset(X_train,label=Y_train)\n",
        "valid_data=lgb.Dataset(X_test,label=Y_test)\n",
        "param = {'num_leaves':31, 'num_trees':5000,'objective':'regression'}\n",
        "param['metric'] = 'l2_root'\n",
        "num_round=5000\n",
        "lgb_model(train_data,valid_data)"
      ],
      "execution_count": null,
      "outputs": [
        {
          "output_type": "stream",
          "text": [
            "/usr/local/lib/python3.7/dist-packages/lightgbm/engine.py:430: UserWarning: Found `num_trees` in params. Will use it instead of argument\n",
            "  warnings.warn(\"Found `{}` in params. Will use it instead of argument\".format(alias))\n"
          ],
          "name": "stderr"
        },
        {
          "output_type": "stream",
          "text": [
            "[20]\tcv_agg's rmse: 12.9258 + 0.710346\n",
            "[40]\tcv_agg's rmse: 9.47854 + 0.851403\n",
            "[60]\tcv_agg's rmse: 8.83563 + 0.842068\n",
            "[80]\tcv_agg's rmse: 8.57653 + 0.856016\n",
            "[100]\tcv_agg's rmse: 8.40622 + 0.847741\n",
            "[120]\tcv_agg's rmse: 8.27509 + 0.84463\n",
            "[140]\tcv_agg's rmse: 8.14327 + 0.830164\n",
            "[160]\tcv_agg's rmse: 8.02885 + 0.830452\n",
            "[180]\tcv_agg's rmse: 7.95243 + 0.826165\n",
            "[200]\tcv_agg's rmse: 7.87533 + 0.821461\n",
            "[220]\tcv_agg's rmse: 7.79441 + 0.820591\n",
            "[240]\tcv_agg's rmse: 7.72455 + 0.821236\n",
            "[260]\tcv_agg's rmse: 7.67019 + 0.824319\n",
            "[280]\tcv_agg's rmse: 7.59302 + 0.822864\n",
            "[300]\tcv_agg's rmse: 7.54718 + 0.8241\n",
            "[320]\tcv_agg's rmse: 7.49473 + 0.829363\n",
            "[340]\tcv_agg's rmse: 7.44779 + 0.837608\n",
            "[360]\tcv_agg's rmse: 7.40872 + 0.841278\n",
            "[380]\tcv_agg's rmse: 7.36842 + 0.847084\n",
            "[400]\tcv_agg's rmse: 7.33698 + 0.852818\n",
            "[420]\tcv_agg's rmse: 7.31123 + 0.856515\n",
            "[440]\tcv_agg's rmse: 7.28117 + 0.870311\n",
            "[460]\tcv_agg's rmse: 7.24425 + 0.867607\n",
            "[480]\tcv_agg's rmse: 7.21562 + 0.870103\n",
            "[500]\tcv_agg's rmse: 7.1926 + 0.866814\n",
            "[520]\tcv_agg's rmse: 7.17234 + 0.867119\n",
            "[540]\tcv_agg's rmse: 7.14819 + 0.865527\n",
            "[560]\tcv_agg's rmse: 7.13206 + 0.865513\n",
            "[580]\tcv_agg's rmse: 7.10913 + 0.871918\n",
            "[600]\tcv_agg's rmse: 7.0885 + 0.871565\n",
            "[620]\tcv_agg's rmse: 7.07166 + 0.877653\n",
            "[640]\tcv_agg's rmse: 7.05178 + 0.881651\n",
            "[660]\tcv_agg's rmse: 7.03572 + 0.879371\n",
            "[680]\tcv_agg's rmse: 7.02152 + 0.882932\n",
            "[700]\tcv_agg's rmse: 6.99692 + 0.885578\n",
            "[720]\tcv_agg's rmse: 6.98112 + 0.884563\n",
            "[740]\tcv_agg's rmse: 6.9707 + 0.886521\n",
            "[760]\tcv_agg's rmse: 6.95401 + 0.88416\n",
            "[780]\tcv_agg's rmse: 6.94092 + 0.884336\n",
            "[800]\tcv_agg's rmse: 6.92611 + 0.887466\n",
            "[820]\tcv_agg's rmse: 6.91212 + 0.89164\n",
            "[840]\tcv_agg's rmse: 6.89818 + 0.894725\n",
            "[860]\tcv_agg's rmse: 6.88871 + 0.895514\n",
            "[880]\tcv_agg's rmse: 6.88528 + 0.895765\n",
            "[900]\tcv_agg's rmse: 6.87496 + 0.895437\n",
            "[920]\tcv_agg's rmse: 6.86703 + 0.892758\n",
            "[940]\tcv_agg's rmse: 6.85798 + 0.900361\n",
            "[960]\tcv_agg's rmse: 6.84887 + 0.900509\n",
            "[980]\tcv_agg's rmse: 6.84656 + 0.903889\n",
            "[1000]\tcv_agg's rmse: 6.83614 + 0.909239\n",
            "[1020]\tcv_agg's rmse: 6.82957 + 0.910381\n",
            "[1040]\tcv_agg's rmse: 6.82246 + 0.911172\n",
            "[1060]\tcv_agg's rmse: 6.81437 + 0.914101\n",
            "[1080]\tcv_agg's rmse: 6.8089 + 0.91947\n",
            "[1100]\tcv_agg's rmse: 6.79668 + 0.924575\n",
            "[1120]\tcv_agg's rmse: 6.79569 + 0.92539\n",
            "[1140]\tcv_agg's rmse: 6.7886 + 0.92431\n",
            "[1160]\tcv_agg's rmse: 6.78237 + 0.927391\n",
            "[1180]\tcv_agg's rmse: 6.77621 + 0.930007\n",
            "[1200]\tcv_agg's rmse: 6.76707 + 0.936446\n",
            "[1220]\tcv_agg's rmse: 6.7574 + 0.940704\n",
            "[1240]\tcv_agg's rmse: 6.75168 + 0.941893\n",
            "[1260]\tcv_agg's rmse: 6.74267 + 0.943118\n",
            "[1280]\tcv_agg's rmse: 6.73579 + 0.945573\n",
            "[1300]\tcv_agg's rmse: 6.73048 + 0.945297\n",
            "[1320]\tcv_agg's rmse: 6.72537 + 0.95005\n",
            "[1340]\tcv_agg's rmse: 6.71973 + 0.95039\n",
            "[1360]\tcv_agg's rmse: 6.71598 + 0.953504\n",
            "[1380]\tcv_agg's rmse: 6.71384 + 0.955456\n",
            "[1400]\tcv_agg's rmse: 6.71008 + 0.95655\n",
            "[1420]\tcv_agg's rmse: 6.70468 + 0.958666\n",
            "[1440]\tcv_agg's rmse: 6.69917 + 0.956839\n",
            "[1460]\tcv_agg's rmse: 6.69243 + 0.961954\n",
            "[1480]\tcv_agg's rmse: 6.68933 + 0.962721\n",
            "[1500]\tcv_agg's rmse: 6.68557 + 0.963152\n",
            "[1520]\tcv_agg's rmse: 6.68116 + 0.964247\n",
            "[1540]\tcv_agg's rmse: 6.67426 + 0.967375\n",
            "[1560]\tcv_agg's rmse: 6.67182 + 0.969451\n",
            "[1580]\tcv_agg's rmse: 6.66703 + 0.969814\n",
            "[1600]\tcv_agg's rmse: 6.66465 + 0.972095\n",
            "[1620]\tcv_agg's rmse: 6.66177 + 0.973032\n",
            "[1640]\tcv_agg's rmse: 6.66049 + 0.973926\n",
            "[1660]\tcv_agg's rmse: 6.65423 + 0.97707\n",
            "[1680]\tcv_agg's rmse: 6.65202 + 0.97748\n",
            "[1700]\tcv_agg's rmse: 6.64968 + 0.979592\n",
            "[1720]\tcv_agg's rmse: 6.64643 + 0.981553\n",
            "[1740]\tcv_agg's rmse: 6.64626 + 0.983347\n",
            "[1760]\tcv_agg's rmse: 6.64325 + 0.984957\n",
            "[1780]\tcv_agg's rmse: 6.6394 + 0.985281\n",
            "[1800]\tcv_agg's rmse: 6.63866 + 0.988769\n",
            "[1820]\tcv_agg's rmse: 6.63819 + 0.98971\n",
            "[1840]\tcv_agg's rmse: 6.63618 + 0.990367\n",
            "[1860]\tcv_agg's rmse: 6.635 + 0.991697\n",
            "[1880]\tcv_agg's rmse: 6.63272 + 0.991992\n"
          ],
          "name": "stdout"
        },
        {
          "output_type": "stream",
          "text": [
            "/usr/local/lib/python3.7/dist-packages/lightgbm/engine.py:118: UserWarning: Found `num_trees` in params. Will use it instead of argument\n",
            "  warnings.warn(\"Found `{}` in params. Will use it instead of argument\".format(alias))\n"
          ],
          "name": "stderr"
        },
        {
          "output_type": "stream",
          "text": [
            "Time taken: 42.311\n",
            "Accuracy of LightGBM is: 98.9840981133467%\n",
            "RMSE for Light GBM is  6.013237373900342\n",
            "Mean absolute error(MAE): 1.49\n",
            "RMSE = 6.013\n",
            "MAPE of model: 0.5616282313802123\n"
          ],
          "name": "stdout"
        }
      ]
    },
    {
      "cell_type": "code",
      "metadata": {
        "colab": {
          "base_uri": "https://localhost:8080/"
        },
        "id": "bET10hhCvxwY",
        "outputId": "14e87fed-c2fd-4cca-9d0a-45f9e7091078"
      },
      "source": [
        "X_train, X_test, Y_train,  Y_test =  split_90(X,y)\n",
        "train_data=lgb.Dataset(X_train,label=Y_train)\n",
        "valid_data=lgb.Dataset(X_test,label=Y_test)\n",
        "param = {'num_leaves':31, 'num_trees':5000,'objective':'regression'}\n",
        "param['metric'] = 'l2_root'\n",
        "num_round=5000\n",
        "lgb_model(train_data,valid_data)"
      ],
      "execution_count": null,
      "outputs": [
        {
          "output_type": "stream",
          "text": [
            "/usr/local/lib/python3.7/dist-packages/lightgbm/engine.py:430: UserWarning: Found `num_trees` in params. Will use it instead of argument\n",
            "  warnings.warn(\"Found `{}` in params. Will use it instead of argument\".format(alias))\n"
          ],
          "name": "stderr"
        },
        {
          "output_type": "stream",
          "text": [
            "[20]\tcv_agg's rmse: 12.5133 + 0.477826\n",
            "[40]\tcv_agg's rmse: 8.92798 + 0.466853\n",
            "[60]\tcv_agg's rmse: 8.29864 + 0.405254\n",
            "[80]\tcv_agg's rmse: 8.02827 + 0.387696\n",
            "[100]\tcv_agg's rmse: 7.8376 + 0.403222\n",
            "[120]\tcv_agg's rmse: 7.70014 + 0.394074\n",
            "[140]\tcv_agg's rmse: 7.56892 + 0.408212\n",
            "[160]\tcv_agg's rmse: 7.43803 + 0.404954\n",
            "[180]\tcv_agg's rmse: 7.32574 + 0.409747\n",
            "[200]\tcv_agg's rmse: 7.24146 + 0.422969\n",
            "[220]\tcv_agg's rmse: 7.16286 + 0.440958\n",
            "[240]\tcv_agg's rmse: 7.09296 + 0.451234\n",
            "[260]\tcv_agg's rmse: 7.02968 + 0.451508\n",
            "[280]\tcv_agg's rmse: 6.96621 + 0.454284\n",
            "[300]\tcv_agg's rmse: 6.91687 + 0.469\n",
            "[320]\tcv_agg's rmse: 6.86792 + 0.45971\n",
            "[340]\tcv_agg's rmse: 6.82238 + 0.474876\n",
            "[360]\tcv_agg's rmse: 6.78257 + 0.473094\n",
            "[380]\tcv_agg's rmse: 6.73841 + 0.48422\n",
            "[400]\tcv_agg's rmse: 6.70224 + 0.492848\n",
            "[420]\tcv_agg's rmse: 6.66483 + 0.490604\n",
            "[440]\tcv_agg's rmse: 6.63874 + 0.494985\n",
            "[460]\tcv_agg's rmse: 6.61173 + 0.499362\n",
            "[480]\tcv_agg's rmse: 6.58307 + 0.501935\n",
            "[500]\tcv_agg's rmse: 6.55781 + 0.508227\n",
            "[520]\tcv_agg's rmse: 6.53594 + 0.51506\n",
            "[540]\tcv_agg's rmse: 6.51246 + 0.52186\n",
            "[560]\tcv_agg's rmse: 6.491 + 0.523427\n",
            "[580]\tcv_agg's rmse: 6.47381 + 0.528557\n",
            "[600]\tcv_agg's rmse: 6.457 + 0.534137\n",
            "[620]\tcv_agg's rmse: 6.44234 + 0.542257\n",
            "[640]\tcv_agg's rmse: 6.42178 + 0.54743\n",
            "[660]\tcv_agg's rmse: 6.40068 + 0.551344\n",
            "[680]\tcv_agg's rmse: 6.38295 + 0.55982\n",
            "[700]\tcv_agg's rmse: 6.36449 + 0.562478\n",
            "[720]\tcv_agg's rmse: 6.35063 + 0.564871\n",
            "[740]\tcv_agg's rmse: 6.33386 + 0.568549\n",
            "[760]\tcv_agg's rmse: 6.31667 + 0.570916\n",
            "[780]\tcv_agg's rmse: 6.30088 + 0.573595\n",
            "[800]\tcv_agg's rmse: 6.28933 + 0.580372\n",
            "[820]\tcv_agg's rmse: 6.27979 + 0.583744\n",
            "[840]\tcv_agg's rmse: 6.27071 + 0.589488\n",
            "[860]\tcv_agg's rmse: 6.26067 + 0.595257\n",
            "[880]\tcv_agg's rmse: 6.24771 + 0.603397\n",
            "[900]\tcv_agg's rmse: 6.23587 + 0.605712\n",
            "[920]\tcv_agg's rmse: 6.22241 + 0.609708\n",
            "[940]\tcv_agg's rmse: 6.2148 + 0.612736\n",
            "[960]\tcv_agg's rmse: 6.20565 + 0.617836\n",
            "[980]\tcv_agg's rmse: 6.19813 + 0.625405\n",
            "[1000]\tcv_agg's rmse: 6.19126 + 0.63184\n",
            "[1020]\tcv_agg's rmse: 6.18498 + 0.635038\n",
            "[1040]\tcv_agg's rmse: 6.17524 + 0.639236\n",
            "[1060]\tcv_agg's rmse: 6.17051 + 0.645113\n",
            "[1080]\tcv_agg's rmse: 6.1659 + 0.650939\n",
            "[1100]\tcv_agg's rmse: 6.15822 + 0.655659\n",
            "[1120]\tcv_agg's rmse: 6.1487 + 0.660175\n",
            "[1140]\tcv_agg's rmse: 6.14243 + 0.662511\n",
            "[1160]\tcv_agg's rmse: 6.13572 + 0.666681\n",
            "[1180]\tcv_agg's rmse: 6.13033 + 0.671993\n",
            "[1200]\tcv_agg's rmse: 6.12279 + 0.676039\n",
            "[1220]\tcv_agg's rmse: 6.11862 + 0.679272\n",
            "[1240]\tcv_agg's rmse: 6.11572 + 0.681963\n",
            "[1260]\tcv_agg's rmse: 6.1101 + 0.684435\n",
            "[1280]\tcv_agg's rmse: 6.10451 + 0.685315\n",
            "[1300]\tcv_agg's rmse: 6.09917 + 0.688273\n",
            "[1320]\tcv_agg's rmse: 6.09491 + 0.689817\n",
            "[1340]\tcv_agg's rmse: 6.09148 + 0.691396\n",
            "[1360]\tcv_agg's rmse: 6.08899 + 0.693425\n",
            "[1380]\tcv_agg's rmse: 6.08249 + 0.696502\n",
            "[1400]\tcv_agg's rmse: 6.0797 + 0.697622\n",
            "[1420]\tcv_agg's rmse: 6.0772 + 0.700477\n",
            "[1440]\tcv_agg's rmse: 6.07597 + 0.702792\n",
            "[1460]\tcv_agg's rmse: 6.07673 + 0.707303\n"
          ],
          "name": "stdout"
        },
        {
          "output_type": "stream",
          "text": [
            "/usr/local/lib/python3.7/dist-packages/lightgbm/engine.py:118: UserWarning: Found `num_trees` in params. Will use it instead of argument\n",
            "  warnings.warn(\"Found `{}` in params. Will use it instead of argument\".format(alias))\n"
          ],
          "name": "stderr"
        },
        {
          "output_type": "stream",
          "text": [
            "Time taken: 36.71\n",
            "Accuracy of LightGBM is: 99.09522379784109%\n",
            "RMSE for Light GBM is  5.592404160546135\n",
            "Mean absolute error(MAE): 1.297\n",
            "RMSE = 5.592\n",
            "MAPE of model: 0.4844939168108509\n"
          ],
          "name": "stdout"
        }
      ]
    },
    {
      "cell_type": "markdown",
      "metadata": {
        "id": "yfR_FW9XF0Jn"
      },
      "source": [
        "## *Lazy Regressor:*"
      ]
    },
    {
      "cell_type": "code",
      "metadata": {
        "colab": {
          "base_uri": "https://localhost:8080/",
          "height": 1000
        },
        "id": "6I08ud8bGHzJ",
        "outputId": "88c24e90-fd6a-4d02-9e99-a06915e4d065"
      },
      "source": [
        "# install LazyPredict which is an open-source Python library\n",
        "!pip install lazypredict"
      ],
      "execution_count": null,
      "outputs": [
        {
          "output_type": "stream",
          "text": [
            "Collecting lazypredict\n",
            "  Downloading https://files.pythonhosted.org/packages/97/38/cadb2b79268c7f82f6b027bf0b2f68750aafc5c70b6e1bc46b357386e07b/lazypredict-0.2.9-py2.py3-none-any.whl\n",
            "Collecting scipy==1.5.4\n",
            "\u001b[?25l  Downloading https://files.pythonhosted.org/packages/dc/7e/8f6a79b102ca1ea928bae8998b05bf5dc24a90571db13cd119f275ba6252/scipy-1.5.4-cp37-cp37m-manylinux1_x86_64.whl (25.9MB)\n",
            "\u001b[K     |████████████████████████████████| 25.9MB 115kB/s \n",
            "\u001b[?25hCollecting pandas==1.0.5\n",
            "\u001b[?25l  Downloading https://files.pythonhosted.org/packages/af/f3/683bf2547a3eaeec15b39cef86f61e921b3b187f250fcd2b5c5fb4386369/pandas-1.0.5-cp37-cp37m-manylinux1_x86_64.whl (10.1MB)\n",
            "\u001b[K     |████████████████████████████████| 10.1MB 38.7MB/s \n",
            "\u001b[?25hCollecting xgboost==1.1.1\n",
            "\u001b[?25l  Downloading https://files.pythonhosted.org/packages/7c/32/a11befbb003e0e6b7e062a77f010dfcec0ec3589be537b02d2eb2ff93b9a/xgboost-1.1.1-py3-none-manylinux2010_x86_64.whl (127.6MB)\n",
            "\u001b[K     |████████████████████████████████| 127.6MB 83kB/s \n",
            "\u001b[?25hCollecting tqdm==4.56.0\n",
            "\u001b[?25l  Downloading https://files.pythonhosted.org/packages/80/02/8f8880a4fd6625461833abcf679d4c12a44c76f9925f92bf212bb6cefaad/tqdm-4.56.0-py2.py3-none-any.whl (72kB)\n",
            "\u001b[K     |████████████████████████████████| 81kB 7.9MB/s \n",
            "\u001b[?25hCollecting lightgbm==2.3.1\n",
            "\u001b[?25l  Downloading https://files.pythonhosted.org/packages/0b/9d/ddcb2f43aca194987f1a99e27edf41cf9bc39ea750c3371c2a62698c509a/lightgbm-2.3.1-py2.py3-none-manylinux1_x86_64.whl (1.2MB)\n",
            "\u001b[K     |████████████████████████████████| 1.2MB 34.6MB/s \n",
            "\u001b[?25hRequirement already satisfied: click==7.1.2 in /usr/local/lib/python3.7/dist-packages (from lazypredict) (7.1.2)\n",
            "Collecting PyYAML==5.3.1\n",
            "\u001b[?25l  Downloading https://files.pythonhosted.org/packages/64/c2/b80047c7ac2478f9501676c988a5411ed5572f35d1beff9cae07d321512c/PyYAML-5.3.1.tar.gz (269kB)\n",
            "\u001b[K     |████████████████████████████████| 276kB 43.0MB/s \n",
            "\u001b[?25hCollecting scikit-learn==0.23.1\n",
            "\u001b[?25l  Downloading https://files.pythonhosted.org/packages/b8/7e/74e707b66490d4eb05f702966ad0990881127acecf9d5cdcef3c95ec6c16/scikit_learn-0.23.1-cp37-cp37m-manylinux1_x86_64.whl (6.8MB)\n",
            "\u001b[K     |████████████████████████████████| 6.8MB 29.5MB/s \n",
            "\u001b[?25hRequirement already satisfied: six==1.15.0 in /usr/local/lib/python3.7/dist-packages (from lazypredict) (1.15.0)\n",
            "Collecting pytest==5.4.3\n",
            "\u001b[?25l  Downloading https://files.pythonhosted.org/packages/9f/f3/0a83558da436a081344aa6c8b85ea5b5f05071214106036ce341b7769b0b/pytest-5.4.3-py3-none-any.whl (248kB)\n",
            "\u001b[K     |████████████████████████████████| 256kB 51.5MB/s \n",
            "\u001b[?25hCollecting joblib==1.0.0\n",
            "\u001b[?25l  Downloading https://files.pythonhosted.org/packages/34/5b/bd0f0fb5564183884d8e35b81d06d7ec06a20d1a0c8b4c407f1554691dce/joblib-1.0.0-py3-none-any.whl (302kB)\n",
            "\u001b[K     |████████████████████████████████| 307kB 50.6MB/s \n",
            "\u001b[?25hCollecting numpy==1.19.1\n",
            "\u001b[?25l  Downloading https://files.pythonhosted.org/packages/50/8f/29d5688614f9bba59931683d5d353d738d4a3007833219ee19c455732753/numpy-1.19.1-cp37-cp37m-manylinux2010_x86_64.whl (14.5MB)\n",
            "\u001b[K     |████████████████████████████████| 14.5MB 213kB/s \n",
            "\u001b[?25hRequirement already satisfied: python-dateutil>=2.6.1 in /usr/local/lib/python3.7/dist-packages (from pandas==1.0.5->lazypredict) (2.8.1)\n",
            "Requirement already satisfied: pytz>=2017.2 in /usr/local/lib/python3.7/dist-packages (from pandas==1.0.5->lazypredict) (2018.9)\n",
            "Collecting threadpoolctl>=2.0.0\n",
            "  Downloading https://files.pythonhosted.org/packages/f7/12/ec3f2e203afa394a149911729357aa48affc59c20e2c1c8297a60f33f133/threadpoolctl-2.1.0-py3-none-any.whl\n",
            "Requirement already satisfied: packaging in /usr/local/lib/python3.7/dist-packages (from pytest==5.4.3->lazypredict) (20.9)\n",
            "Requirement already satisfied: more-itertools>=4.0.0 in /usr/local/lib/python3.7/dist-packages (from pytest==5.4.3->lazypredict) (8.8.0)\n",
            "Requirement already satisfied: py>=1.5.0 in /usr/local/lib/python3.7/dist-packages (from pytest==5.4.3->lazypredict) (1.10.0)\n",
            "Requirement already satisfied: importlib-metadata>=0.12; python_version < \"3.8\" in /usr/local/lib/python3.7/dist-packages (from pytest==5.4.3->lazypredict) (4.5.0)\n",
            "Requirement already satisfied: attrs>=17.4.0 in /usr/local/lib/python3.7/dist-packages (from pytest==5.4.3->lazypredict) (21.2.0)\n",
            "Collecting pluggy<1.0,>=0.12\n",
            "  Downloading https://files.pythonhosted.org/packages/a0/28/85c7aa31b80d150b772fbe4a229487bc6644da9ccb7e427dd8cc60cb8a62/pluggy-0.13.1-py2.py3-none-any.whl\n",
            "Requirement already satisfied: wcwidth in /usr/local/lib/python3.7/dist-packages (from pytest==5.4.3->lazypredict) (0.2.5)\n",
            "Requirement already satisfied: pyparsing>=2.0.2 in /usr/local/lib/python3.7/dist-packages (from packaging->pytest==5.4.3->lazypredict) (2.4.7)\n",
            "Requirement already satisfied: typing-extensions>=3.6.4; python_version < \"3.8\" in /usr/local/lib/python3.7/dist-packages (from importlib-metadata>=0.12; python_version < \"3.8\"->pytest==5.4.3->lazypredict) (3.7.4.3)\n",
            "Requirement already satisfied: zipp>=0.5 in /usr/local/lib/python3.7/dist-packages (from importlib-metadata>=0.12; python_version < \"3.8\"->pytest==5.4.3->lazypredict) (3.4.1)\n",
            "Building wheels for collected packages: PyYAML\n",
            "  Building wheel for PyYAML (setup.py) ... \u001b[?25l\u001b[?25hdone\n",
            "  Created wheel for PyYAML: filename=PyYAML-5.3.1-cp37-cp37m-linux_x86_64.whl size=44636 sha256=af5848666907eed1241e329dd683acede03bbec4371408f8a4e6b94684f77b30\n",
            "  Stored in directory: /root/.cache/pip/wheels/a7/c1/ea/cf5bd31012e735dc1dfea3131a2d5eae7978b251083d6247bd\n",
            "Successfully built PyYAML\n",
            "\u001b[31mERROR: tensorflow 2.5.0 has requirement numpy~=1.19.2, but you'll have numpy 1.19.1 which is incompatible.\u001b[0m\n",
            "\u001b[31mERROR: google-colab 1.0.0 has requirement pandas~=1.1.0; python_version >= \"3.0\", but you'll have pandas 1.0.5 which is incompatible.\u001b[0m\n",
            "\u001b[31mERROR: datascience 0.10.6 has requirement folium==0.2.1, but you'll have folium 0.8.3 which is incompatible.\u001b[0m\n",
            "\u001b[31mERROR: albumentations 0.1.12 has requirement imgaug<0.2.7,>=0.2.5, but you'll have imgaug 0.2.9 which is incompatible.\u001b[0m\n",
            "Installing collected packages: numpy, scipy, pandas, xgboost, tqdm, joblib, threadpoolctl, scikit-learn, lightgbm, PyYAML, pluggy, pytest, lazypredict\n",
            "  Found existing installation: numpy 1.19.5\n",
            "    Uninstalling numpy-1.19.5:\n",
            "      Successfully uninstalled numpy-1.19.5\n",
            "  Found existing installation: scipy 1.4.1\n",
            "    Uninstalling scipy-1.4.1:\n",
            "      Successfully uninstalled scipy-1.4.1\n",
            "  Found existing installation: pandas 1.1.5\n",
            "    Uninstalling pandas-1.1.5:\n",
            "      Successfully uninstalled pandas-1.1.5\n",
            "  Found existing installation: xgboost 0.90\n",
            "    Uninstalling xgboost-0.90:\n",
            "      Successfully uninstalled xgboost-0.90\n",
            "  Found existing installation: tqdm 4.41.1\n",
            "    Uninstalling tqdm-4.41.1:\n",
            "      Successfully uninstalled tqdm-4.41.1\n",
            "  Found existing installation: joblib 1.0.1\n",
            "    Uninstalling joblib-1.0.1:\n",
            "      Successfully uninstalled joblib-1.0.1\n",
            "  Found existing installation: scikit-learn 0.22.2.post1\n",
            "    Uninstalling scikit-learn-0.22.2.post1:\n",
            "      Successfully uninstalled scikit-learn-0.22.2.post1\n",
            "  Found existing installation: lightgbm 2.2.3\n",
            "    Uninstalling lightgbm-2.2.3:\n",
            "      Successfully uninstalled lightgbm-2.2.3\n",
            "  Found existing installation: PyYAML 3.13\n",
            "    Uninstalling PyYAML-3.13:\n",
            "      Successfully uninstalled PyYAML-3.13\n",
            "  Found existing installation: pluggy 0.7.1\n",
            "    Uninstalling pluggy-0.7.1:\n",
            "      Successfully uninstalled pluggy-0.7.1\n",
            "  Found existing installation: pytest 3.6.4\n",
            "    Uninstalling pytest-3.6.4:\n",
            "      Successfully uninstalled pytest-3.6.4\n",
            "Successfully installed PyYAML-5.3.1 joblib-1.0.0 lazypredict-0.2.9 lightgbm-2.3.1 numpy-1.19.1 pandas-1.0.5 pluggy-0.13.1 pytest-5.4.3 scikit-learn-0.23.1 scipy-1.5.4 threadpoolctl-2.1.0 tqdm-4.56.0 xgboost-1.1.1\n"
          ],
          "name": "stdout"
        },
        {
          "output_type": "display_data",
          "data": {
            "application/vnd.colab-display-data+json": {
              "pip_warning": {
                "packages": [
                  "joblib",
                  "lightgbm",
                  "numpy",
                  "pandas",
                  "scipy",
                  "sklearn"
                ]
              }
            }
          },
          "metadata": {
            "tags": []
          }
        }
      ]
    },
    {
      "cell_type": "code",
      "metadata": {
        "colab": {
          "base_uri": "https://localhost:8080/"
        },
        "id": "dL4cqU4OF4kC",
        "outputId": "a8ecd3e8-90f4-4a4c-abd5-7f7a39058fa5"
      },
      "source": [
        "from lazypredict.Supervised import LazyRegressor\n",
        "reg = LazyRegressor(ignore_warnings=False, custom_metric=None)\n",
        "models, predictions = reg.fit(X_train, X_test, Y_train,  Y_test)"
      ],
      "execution_count": null,
      "outputs": [
        {
          "output_type": "stream",
          "text": [
            "100%|██████████| 42/42 [02:14<00:00,  3.19s/it]\n"
          ],
          "name": "stderr"
        }
      ]
    },
    {
      "cell_type": "code",
      "metadata": {
        "colab": {
          "base_uri": "https://localhost:8080/",
          "height": 1000
        },
        "id": "1qBIlDYUw1i7",
        "outputId": "76afa56e-28bc-45a3-9816-c9a300488556"
      },
      "source": [
        "# The summary of all the models\n",
        "models"
      ],
      "execution_count": null,
      "outputs": [
        {
          "output_type": "execute_result",
          "data": {
            "text/html": [
              "<div>\n",
              "<style scoped>\n",
              "    .dataframe tbody tr th:only-of-type {\n",
              "        vertical-align: middle;\n",
              "    }\n",
              "\n",
              "    .dataframe tbody tr th {\n",
              "        vertical-align: top;\n",
              "    }\n",
              "\n",
              "    .dataframe thead th {\n",
              "        text-align: right;\n",
              "    }\n",
              "</style>\n",
              "<table border=\"1\" class=\"dataframe\">\n",
              "  <thead>\n",
              "    <tr style=\"text-align: right;\">\n",
              "      <th></th>\n",
              "      <th>Adjusted R-Squared</th>\n",
              "      <th>R-Squared</th>\n",
              "      <th>RMSE</th>\n",
              "      <th>Time Taken</th>\n",
              "    </tr>\n",
              "    <tr>\n",
              "      <th>Model</th>\n",
              "      <th></th>\n",
              "      <th></th>\n",
              "      <th></th>\n",
              "      <th></th>\n",
              "    </tr>\n",
              "  </thead>\n",
              "  <tbody>\n",
              "    <tr>\n",
              "      <th>ExtraTreesRegressor</th>\n",
              "      <td>0.99</td>\n",
              "      <td>0.99</td>\n",
              "      <td>5.39</td>\n",
              "      <td>1.02</td>\n",
              "    </tr>\n",
              "    <tr>\n",
              "      <th>RandomForestRegressor</th>\n",
              "      <td>0.99</td>\n",
              "      <td>0.99</td>\n",
              "      <td>6.30</td>\n",
              "      <td>1.50</td>\n",
              "    </tr>\n",
              "    <tr>\n",
              "      <th>XGBRegressor</th>\n",
              "      <td>0.99</td>\n",
              "      <td>0.99</td>\n",
              "      <td>6.41</td>\n",
              "      <td>0.73</td>\n",
              "    </tr>\n",
              "    <tr>\n",
              "      <th>BaggingRegressor</th>\n",
              "      <td>0.99</td>\n",
              "      <td>0.99</td>\n",
              "      <td>6.83</td>\n",
              "      <td>0.18</td>\n",
              "    </tr>\n",
              "    <tr>\n",
              "      <th>DecisionTreeRegressor</th>\n",
              "      <td>0.98</td>\n",
              "      <td>0.98</td>\n",
              "      <td>7.59</td>\n",
              "      <td>0.05</td>\n",
              "    </tr>\n",
              "    <tr>\n",
              "      <th>LGBMRegressor</th>\n",
              "      <td>0.98</td>\n",
              "      <td>0.98</td>\n",
              "      <td>7.82</td>\n",
              "      <td>0.22</td>\n",
              "    </tr>\n",
              "    <tr>\n",
              "      <th>HistGradientBoostingRegressor</th>\n",
              "      <td>0.98</td>\n",
              "      <td>0.98</td>\n",
              "      <td>8.20</td>\n",
              "      <td>0.75</td>\n",
              "    </tr>\n",
              "    <tr>\n",
              "      <th>ExtraTreeRegressor</th>\n",
              "      <td>0.98</td>\n",
              "      <td>0.98</td>\n",
              "      <td>8.41</td>\n",
              "      <td>0.08</td>\n",
              "    </tr>\n",
              "    <tr>\n",
              "      <th>KNeighborsRegressor</th>\n",
              "      <td>0.98</td>\n",
              "      <td>0.98</td>\n",
              "      <td>9.33</td>\n",
              "      <td>0.18</td>\n",
              "    </tr>\n",
              "    <tr>\n",
              "      <th>GradientBoostingRegressor</th>\n",
              "      <td>0.96</td>\n",
              "      <td>0.96</td>\n",
              "      <td>11.19</td>\n",
              "      <td>0.81</td>\n",
              "    </tr>\n",
              "    <tr>\n",
              "      <th>MLPRegressor</th>\n",
              "      <td>0.93</td>\n",
              "      <td>0.93</td>\n",
              "      <td>15.39</td>\n",
              "      <td>12.91</td>\n",
              "    </tr>\n",
              "    <tr>\n",
              "      <th>NuSVR</th>\n",
              "      <td>0.90</td>\n",
              "      <td>0.90</td>\n",
              "      <td>18.51</td>\n",
              "      <td>11.76</td>\n",
              "    </tr>\n",
              "    <tr>\n",
              "      <th>SVR</th>\n",
              "      <td>0.90</td>\n",
              "      <td>0.90</td>\n",
              "      <td>18.52</td>\n",
              "      <td>11.72</td>\n",
              "    </tr>\n",
              "    <tr>\n",
              "      <th>AdaBoostRegressor</th>\n",
              "      <td>0.89</td>\n",
              "      <td>0.89</td>\n",
              "      <td>19.55</td>\n",
              "      <td>0.32</td>\n",
              "    </tr>\n",
              "    <tr>\n",
              "      <th>RidgeCV</th>\n",
              "      <td>0.88</td>\n",
              "      <td>0.88</td>\n",
              "      <td>20.45</td>\n",
              "      <td>0.04</td>\n",
              "    </tr>\n",
              "    <tr>\n",
              "      <th>LinearRegression</th>\n",
              "      <td>0.88</td>\n",
              "      <td>0.88</td>\n",
              "      <td>20.45</td>\n",
              "      <td>0.02</td>\n",
              "    </tr>\n",
              "    <tr>\n",
              "      <th>TransformedTargetRegressor</th>\n",
              "      <td>0.88</td>\n",
              "      <td>0.88</td>\n",
              "      <td>20.45</td>\n",
              "      <td>0.02</td>\n",
              "    </tr>\n",
              "    <tr>\n",
              "      <th>OrthogonalMatchingPursuitCV</th>\n",
              "      <td>0.88</td>\n",
              "      <td>0.88</td>\n",
              "      <td>20.45</td>\n",
              "      <td>0.05</td>\n",
              "    </tr>\n",
              "    <tr>\n",
              "      <th>BayesianRidge</th>\n",
              "      <td>0.88</td>\n",
              "      <td>0.88</td>\n",
              "      <td>20.45</td>\n",
              "      <td>0.03</td>\n",
              "    </tr>\n",
              "    <tr>\n",
              "      <th>Ridge</th>\n",
              "      <td>0.88</td>\n",
              "      <td>0.88</td>\n",
              "      <td>20.45</td>\n",
              "      <td>0.02</td>\n",
              "    </tr>\n",
              "    <tr>\n",
              "      <th>LassoLarsIC</th>\n",
              "      <td>0.88</td>\n",
              "      <td>0.88</td>\n",
              "      <td>20.45</td>\n",
              "      <td>0.03</td>\n",
              "    </tr>\n",
              "    <tr>\n",
              "      <th>LassoLarsCV</th>\n",
              "      <td>0.88</td>\n",
              "      <td>0.88</td>\n",
              "      <td>20.45</td>\n",
              "      <td>0.08</td>\n",
              "    </tr>\n",
              "    <tr>\n",
              "      <th>LassoCV</th>\n",
              "      <td>0.88</td>\n",
              "      <td>0.88</td>\n",
              "      <td>20.47</td>\n",
              "      <td>0.38</td>\n",
              "    </tr>\n",
              "    <tr>\n",
              "      <th>Lasso</th>\n",
              "      <td>0.88</td>\n",
              "      <td>0.88</td>\n",
              "      <td>20.48</td>\n",
              "      <td>0.14</td>\n",
              "    </tr>\n",
              "    <tr>\n",
              "      <th>SGDRegressor</th>\n",
              "      <td>0.88</td>\n",
              "      <td>0.88</td>\n",
              "      <td>20.49</td>\n",
              "      <td>0.05</td>\n",
              "    </tr>\n",
              "    <tr>\n",
              "      <th>ElasticNetCV</th>\n",
              "      <td>0.88</td>\n",
              "      <td>0.88</td>\n",
              "      <td>20.51</td>\n",
              "      <td>0.28</td>\n",
              "    </tr>\n",
              "    <tr>\n",
              "      <th>ElasticNet</th>\n",
              "      <td>0.87</td>\n",
              "      <td>0.87</td>\n",
              "      <td>21.53</td>\n",
              "      <td>0.03</td>\n",
              "    </tr>\n",
              "    <tr>\n",
              "      <th>OrthogonalMatchingPursuit</th>\n",
              "      <td>0.86</td>\n",
              "      <td>0.87</td>\n",
              "      <td>21.91</td>\n",
              "      <td>0.03</td>\n",
              "    </tr>\n",
              "    <tr>\n",
              "      <th>GeneralizedLinearRegressor</th>\n",
              "      <td>0.85</td>\n",
              "      <td>0.85</td>\n",
              "      <td>23.16</td>\n",
              "      <td>0.03</td>\n",
              "    </tr>\n",
              "    <tr>\n",
              "      <th>TweedieRegressor</th>\n",
              "      <td>0.85</td>\n",
              "      <td>0.85</td>\n",
              "      <td>23.16</td>\n",
              "      <td>0.03</td>\n",
              "    </tr>\n",
              "    <tr>\n",
              "      <th>PoissonRegressor</th>\n",
              "      <td>0.83</td>\n",
              "      <td>0.83</td>\n",
              "      <td>24.41</td>\n",
              "      <td>0.08</td>\n",
              "    </tr>\n",
              "    <tr>\n",
              "      <th>GammaRegressor</th>\n",
              "      <td>0.83</td>\n",
              "      <td>0.83</td>\n",
              "      <td>24.72</td>\n",
              "      <td>0.04</td>\n",
              "    </tr>\n",
              "    <tr>\n",
              "      <th>LarsCV</th>\n",
              "      <td>0.82</td>\n",
              "      <td>0.82</td>\n",
              "      <td>25.01</td>\n",
              "      <td>0.06</td>\n",
              "    </tr>\n",
              "    <tr>\n",
              "      <th>RANSACRegressor</th>\n",
              "      <td>0.82</td>\n",
              "      <td>0.82</td>\n",
              "      <td>25.03</td>\n",
              "      <td>0.04</td>\n",
              "    </tr>\n",
              "    <tr>\n",
              "      <th>LinearSVR</th>\n",
              "      <td>0.82</td>\n",
              "      <td>0.82</td>\n",
              "      <td>25.14</td>\n",
              "      <td>0.18</td>\n",
              "    </tr>\n",
              "    <tr>\n",
              "      <th>HuberRegressor</th>\n",
              "      <td>0.82</td>\n",
              "      <td>0.82</td>\n",
              "      <td>25.15</td>\n",
              "      <td>0.35</td>\n",
              "    </tr>\n",
              "    <tr>\n",
              "      <th>PassiveAggressiveRegressor</th>\n",
              "      <td>0.81</td>\n",
              "      <td>0.81</td>\n",
              "      <td>25.68</td>\n",
              "      <td>0.04</td>\n",
              "    </tr>\n",
              "    <tr>\n",
              "      <th>DummyRegressor</th>\n",
              "      <td>-0.00</td>\n",
              "      <td>-0.00</td>\n",
              "      <td>59.68</td>\n",
              "      <td>0.03</td>\n",
              "    </tr>\n",
              "    <tr>\n",
              "      <th>LassoLars</th>\n",
              "      <td>-0.00</td>\n",
              "      <td>-0.00</td>\n",
              "      <td>59.68</td>\n",
              "      <td>0.03</td>\n",
              "    </tr>\n",
              "    <tr>\n",
              "      <th>KernelRidge</th>\n",
              "      <td>-16.96</td>\n",
              "      <td>-16.94</td>\n",
              "      <td>252.68</td>\n",
              "      <td>30.96</td>\n",
              "    </tr>\n",
              "    <tr>\n",
              "      <th>GaussianProcessRegressor</th>\n",
              "      <td>-66.09</td>\n",
              "      <td>-66.03</td>\n",
              "      <td>488.45</td>\n",
              "      <td>58.67</td>\n",
              "    </tr>\n",
              "    <tr>\n",
              "      <th>Lars</th>\n",
              "      <td>-1194.53</td>\n",
              "      <td>-1193.41</td>\n",
              "      <td>2061.86</td>\n",
              "      <td>0.03</td>\n",
              "    </tr>\n",
              "  </tbody>\n",
              "</table>\n",
              "</div>"
            ],
            "text/plain": [
              "                               Adjusted R-Squared  R-Squared    RMSE  \\\n",
              "Model                                                                  \n",
              "ExtraTreesRegressor                          0.99       0.99    5.39   \n",
              "RandomForestRegressor                        0.99       0.99    6.30   \n",
              "XGBRegressor                                 0.99       0.99    6.41   \n",
              "BaggingRegressor                             0.99       0.99    6.83   \n",
              "DecisionTreeRegressor                        0.98       0.98    7.59   \n",
              "LGBMRegressor                                0.98       0.98    7.82   \n",
              "HistGradientBoostingRegressor                0.98       0.98    8.20   \n",
              "ExtraTreeRegressor                           0.98       0.98    8.41   \n",
              "KNeighborsRegressor                          0.98       0.98    9.33   \n",
              "GradientBoostingRegressor                    0.96       0.96   11.19   \n",
              "MLPRegressor                                 0.93       0.93   15.39   \n",
              "NuSVR                                        0.90       0.90   18.51   \n",
              "SVR                                          0.90       0.90   18.52   \n",
              "AdaBoostRegressor                            0.89       0.89   19.55   \n",
              "RidgeCV                                      0.88       0.88   20.45   \n",
              "LinearRegression                             0.88       0.88   20.45   \n",
              "TransformedTargetRegressor                   0.88       0.88   20.45   \n",
              "OrthogonalMatchingPursuitCV                  0.88       0.88   20.45   \n",
              "BayesianRidge                                0.88       0.88   20.45   \n",
              "Ridge                                        0.88       0.88   20.45   \n",
              "LassoLarsIC                                  0.88       0.88   20.45   \n",
              "LassoLarsCV                                  0.88       0.88   20.45   \n",
              "LassoCV                                      0.88       0.88   20.47   \n",
              "Lasso                                        0.88       0.88   20.48   \n",
              "SGDRegressor                                 0.88       0.88   20.49   \n",
              "ElasticNetCV                                 0.88       0.88   20.51   \n",
              "ElasticNet                                   0.87       0.87   21.53   \n",
              "OrthogonalMatchingPursuit                    0.86       0.87   21.91   \n",
              "GeneralizedLinearRegressor                   0.85       0.85   23.16   \n",
              "TweedieRegressor                             0.85       0.85   23.16   \n",
              "PoissonRegressor                             0.83       0.83   24.41   \n",
              "GammaRegressor                               0.83       0.83   24.72   \n",
              "LarsCV                                       0.82       0.82   25.01   \n",
              "RANSACRegressor                              0.82       0.82   25.03   \n",
              "LinearSVR                                    0.82       0.82   25.14   \n",
              "HuberRegressor                               0.82       0.82   25.15   \n",
              "PassiveAggressiveRegressor                   0.81       0.81   25.68   \n",
              "DummyRegressor                              -0.00      -0.00   59.68   \n",
              "LassoLars                                   -0.00      -0.00   59.68   \n",
              "KernelRidge                                -16.96     -16.94  252.68   \n",
              "GaussianProcessRegressor                   -66.09     -66.03  488.45   \n",
              "Lars                                     -1194.53   -1193.41 2061.86   \n",
              "\n",
              "                               Time Taken  \n",
              "Model                                      \n",
              "ExtraTreesRegressor                  1.02  \n",
              "RandomForestRegressor                1.50  \n",
              "XGBRegressor                         0.73  \n",
              "BaggingRegressor                     0.18  \n",
              "DecisionTreeRegressor                0.05  \n",
              "LGBMRegressor                        0.22  \n",
              "HistGradientBoostingRegressor        0.75  \n",
              "ExtraTreeRegressor                   0.08  \n",
              "KNeighborsRegressor                  0.18  \n",
              "GradientBoostingRegressor            0.81  \n",
              "MLPRegressor                        12.91  \n",
              "NuSVR                               11.76  \n",
              "SVR                                 11.72  \n",
              "AdaBoostRegressor                    0.32  \n",
              "RidgeCV                              0.04  \n",
              "LinearRegression                     0.02  \n",
              "TransformedTargetRegressor           0.02  \n",
              "OrthogonalMatchingPursuitCV          0.05  \n",
              "BayesianRidge                        0.03  \n",
              "Ridge                                0.02  \n",
              "LassoLarsIC                          0.03  \n",
              "LassoLarsCV                          0.08  \n",
              "LassoCV                              0.38  \n",
              "Lasso                                0.14  \n",
              "SGDRegressor                         0.05  \n",
              "ElasticNetCV                         0.28  \n",
              "ElasticNet                           0.03  \n",
              "OrthogonalMatchingPursuit            0.03  \n",
              "GeneralizedLinearRegressor           0.03  \n",
              "TweedieRegressor                     0.03  \n",
              "PoissonRegressor                     0.08  \n",
              "GammaRegressor                       0.04  \n",
              "LarsCV                               0.06  \n",
              "RANSACRegressor                      0.04  \n",
              "LinearSVR                            0.18  \n",
              "HuberRegressor                       0.35  \n",
              "PassiveAggressiveRegressor           0.04  \n",
              "DummyRegressor                       0.03  \n",
              "LassoLars                            0.03  \n",
              "KernelRidge                         30.96  \n",
              "GaussianProcessRegressor            58.67  \n",
              "Lars                                 0.03  "
            ]
          },
          "metadata": {
            "tags": []
          },
          "execution_count": 22
        }
      ]
    },
    {
      "cell_type": "markdown",
      "metadata": {
        "id": "eBYPLeyDBymK"
      },
      "source": [
        "## *LSTM Recurrent Model*\n"
      ]
    },
    {
      "cell_type": "code",
      "metadata": {
        "id": "eeX_Lgt_B2MB"
      },
      "source": [
        "from keras.models import Sequential\n",
        "from keras.layers import Dense\n",
        "from keras.layers import LSTM\n",
        "from keras.layers import Dropout\n",
        "import time"
      ],
      "execution_count": null,
      "outputs": []
    },
    {
      "cell_type": "code",
      "metadata": {
        "colab": {
          "base_uri": "https://localhost:8080/"
        },
        "id": "pAuARVNcB8xz",
        "outputId": "1ff3e6bc-e52c-41de-9872-e443af19570e"
      },
      "source": [
        "y=np.array(y)\n",
        "y=y.reshape((17772,1))\n",
        "X=np.array(X)\n",
        "X.shape"
      ],
      "execution_count": null,
      "outputs": [
        {
          "output_type": "execute_result",
          "data": {
            "text/plain": [
              "(17772, 5)"
            ]
          },
          "metadata": {},
          "execution_count": 115
        }
      ]
    },
    {
      "cell_type": "code",
      "metadata": {
        "id": "Z70A9k4eCGaC"
      },
      "source": [
        "from sklearn.preprocessing import MinMaxScaler\n",
        "sc = MinMaxScaler(feature_range = (0, 1))\n",
        "X_scaled = sc.fit_transform(X)\n",
        "Y_scaled = sc.fit_transform(y)"
      ],
      "execution_count": null,
      "outputs": []
    },
    {
      "cell_type": "code",
      "metadata": {
        "id": "fF2GugE_CKDY"
      },
      "source": [
        "X_train, X_test, Y_train,  Y_test =  split_70(X_scaled,Y_scaled)"
      ],
      "execution_count": null,
      "outputs": []
    },
    {
      "cell_type": "code",
      "metadata": {
        "id": "nL58K_-rCjZ1",
        "colab": {
          "base_uri": "https://localhost:8080/"
        },
        "outputId": "d2802d0a-676a-4a40-bc6f-24add994e256"
      },
      "source": [
        "X_train = np.reshape(X_train, (X_train.shape[0], X_train.shape[1], 1))\n",
        "X_test= np.reshape(X_test, (X_test.shape[0], X_test.shape[1], 1))\n",
        "X_train.shape"
      ],
      "execution_count": null,
      "outputs": [
        {
          "output_type": "execute_result",
          "data": {
            "text/plain": [
              "(12440, 5, 1)"
            ]
          },
          "metadata": {},
          "execution_count": 120
        }
      ]
    },
    {
      "cell_type": "code",
      "metadata": {
        "id": "zuB-afIcCpvh"
      },
      "source": [
        "start_time = time.time()\n",
        "regressor = Sequential()\n",
        "\n",
        "regressor.add(LSTM(units = 20, return_sequences = True, input_shape = (X_train.shape[1], 1)))\n",
        "regressor.add(Dropout(0.2))\n",
        "\n",
        "regressor.add(LSTM(units = 20, return_sequences = True))\n",
        "regressor.add(Dropout(0.2))\n",
        "\n",
        "regressor.add(LSTM(units = 10, return_sequences = True))\n",
        "regressor.add(Dropout(0.2))\n",
        "\n",
        "regressor.add(LSTM(units = 50))\n",
        "regressor.add(Dropout(0.2))\n",
        "\n",
        "regressor.add(Dense(units = 1))\n",
        "\n",
        "regressor.compile(optimizer= 'RMSProp', loss = 'mean_squared_error', metrics = ['accuracy'])\n",
        "\n",
        "regressor.fit(X_train, Y_train, epochs = 300, batch_size = 32)"
      ],
      "execution_count": null,
      "outputs": []
    },
    {
      "cell_type": "code",
      "metadata": {
        "colab": {
          "base_uri": "https://localhost:8080/"
        },
        "id": "OBLZxCoOCwGB",
        "outputId": "52d0beef-0758-4a32-85df-a7026d620b7e"
      },
      "source": [
        "#end_time= time.time()\n",
        "y_pred =sc.inverse_transform(regressor.predict(X_test))\n",
        "test_labels=sc.inverse_transform(Y_test)\n",
        "#print(end_time)"
      ],
      "execution_count": null,
      "outputs": [
        {
          "output_type": "stream",
          "text": [
            "1629574960.0070019\n"
          ],
          "name": "stdout"
        }
      ]
    },
    {
      "cell_type": "code",
      "metadata": {
        "colab": {
          "base_uri": "https://localhost:8080/"
        },
        "id": "eJXgdU9DD_He",
        "outputId": "eb1f62f8-3461-487e-edc5-54d987234d88"
      },
      "source": [
        "scores = regressor.evaluate(X_test,Y_test)\n",
        "\n",
        "LSTM_accuracy = scores[1]*100\n",
        "print(LSTM_accuracy)\n"
      ],
      "execution_count": null,
      "outputs": [
        {
          "output_type": "stream",
          "text": [
            "167/167 [==============================] - 2s 4ms/step - loss: 5.1888e-04 - accuracy: 5.6264e-04\n",
            "0.05626406637020409\n"
          ],
          "name": "stdout"
        }
      ]
    },
    {
      "cell_type": "code",
      "metadata": {
        "colab": {
          "base_uri": "https://localhost:8080/"
        },
        "id": "VEoeVz-eDAle",
        "outputId": "12bbde3f-07cf-4832-927d-bdeddd07f6f0"
      },
      "source": [
        "\n",
        "#print(\"Time taken (in seconds):\",np.round((time.time-start_time),4))\n",
        "MAE_LR= np.mean(np.abs(test_labels-y_pred))\n",
        "print(\"Mean absolute error(MAE):\",np.round(MAE_LR,3))\n",
        "RMSE_LR= np.sqrt(np.mean((test_labels-y_pred)**2))\n",
        "print(\"RMSE of LSTM Model =\",np.round(RMSE_LR,3))\n",
        "mape = np.mean(np.abs((test_labels - y_pred)/test_labels))*100\n",
        "print(\"Mape:\",mape)"
      ],
      "execution_count": null,
      "outputs": [
        {
          "output_type": "stream",
          "text": [
            "Mean absolute error(MAE): 0.599\n",
            "RMSE of LSTM Model = 1.445\n",
            "Mape: 0.21804464450423158\n"
          ],
          "name": "stdout"
        }
      ]
    },
    {
      "cell_type": "code",
      "metadata": {
        "colab": {
          "base_uri": "https://localhost:8080/"
        },
        "id": "S65PvZmN_ht-",
        "outputId": "40e6b07b-b015-4b9f-fbf5-31c1d231e429"
      },
      "source": [
        "accuracy= 100-mape\n",
        "print(\"Accuracy of LSTM:\",accuracy)"
      ],
      "execution_count": null,
      "outputs": [
        {
          "output_type": "stream",
          "text": [
            "Accuracy of LSTM: 99.78195535549577\n"
          ],
          "name": "stdout"
        }
      ]
    },
    {
      "cell_type": "code",
      "metadata": {
        "colab": {
          "base_uri": "https://localhost:8080/",
          "height": 295
        },
        "id": "bZedl7CnC9wR",
        "outputId": "f780e365-f8f4-4ecb-ccb7-752af7645749"
      },
      "source": [
        "plt.plot(test_labels[:40,], color = 'black', label = 'Actual Data')\n",
        "plt.plot(y_pred[:40,], color = 'green', label = 'Predicted Data')\n",
        "plt.title('CO2 emission Prediction by LSTM')\n",
        "plt.xlabel('Years')\n",
        "plt.ylabel('CO2 Emission')\n",
        "plt.legend()\n",
        "plt.show()"
      ],
      "execution_count": null,
      "outputs": [
        {
          "output_type": "display_data",
          "data": {
            "image/png": "[encoded data removed]",
            "text/plain": [
              "<Figure size 432x288 with 1 Axes>"
            ]
          },
          "metadata": {
            "needs_background": "light"
          }
        }
      ]
    },
    {
      "cell_type": "markdown",
      "metadata": {
        "id": "1ptdunFXCicn"
      },
      "source": [
        "## *Artificial neural network*"
      ]
    },
    {
      "cell_type": "code",
      "metadata": {
        "colab": {
          "base_uri": "https://localhost:8080/"
        },
        "id": "LJ8D7q8SoJSe",
        "outputId": "dbb2923f-9922-497d-a3af-30d880bb577a"
      },
      "source": [
        "from sklearn.preprocessing import StandardScaler\n",
        "# Convert the X, y into numpy array\n",
        "y=np.array(y)\n",
        "y=y.reshape((17772,1))\n",
        "X=np.array(X)\n",
        "print(X.shape)\n",
        "# Normalize the dataset\n",
        "sc = StandardScaler()\n",
        "X_scaled = sc.fit_transform(X)\n",
        "y_scaled = sc.fit_transform(y)\n",
        "#print(X_train)"
      ],
      "execution_count": null,
      "outputs": [
        {
          "output_type": "stream",
          "text": [
            "(17772, 5)\n"
          ],
          "name": "stdout"
        }
      ]
    },
    {
      "cell_type": "code",
      "metadata": {
        "id": "Zg4dMRdq4v28"
      },
      "source": [
        "#split the X, y into test-train\n",
        "X_train, X_test, Y_train,  Y_test =  split_70(X_scaled,Y_scaled)"
      ],
      "execution_count": null,
      "outputs": []
    },
    {
      "cell_type": "code",
      "metadata": {
        "id": "G4Ahvd8JsOuv"
      },
      "source": [
        "import keras\n",
        "from keras.models import Sequential\n",
        "from keras.layers import Dense"
      ],
      "execution_count": null,
      "outputs": []
    },
    {
      "cell_type": "code",
      "metadata": {
        "colab": {
          "base_uri": "https://localhost:8080/"
        },
        "id": "pxeacpl1sQNb",
        "outputId": "74556dbe-95ab-4cbb-af6f-73e5b619e5bb"
      },
      "source": [
        "# Train on the ANN\n",
        "model= Sequential()\n",
        "model.add(Dense(units = 15, activation = 'relu', input_dim = 5))\n",
        "model.add(Dense(units = 10, kernel_initializer='normal',activation = 'tanh', input_dim = 5))\n",
        "model.add(Dense(1,kernel_initializer='normal'))\n",
        "model.compile(loss='mean_squared_error',optimizer='adam',metrics=['accuracy'])\n",
        "history= model.fit(X_train,Y_train,batch_size=20,epochs=100,verbose=1)\n",
        "#score = model.evaluate(X_test, Y_test)\n",
        "#print(\"Accuracy= \", score[1]*100)\n"
      ],
      "execution_count": null,
      "outputs": [
        {
          "output_type": "stream",
          "text": [
            "Epoch 1/100\n",
            "622/622 [==============================] - 1s 2ms/step - loss: 0.0096 - accuracy: 4.0193e-04\n",
            "Epoch 2/100\n",
            "622/622 [==============================] - 1s 1ms/step - loss: 0.0013 - accuracy: 4.0193e-04\n",
            "Epoch 3/100\n",
            "622/622 [==============================] - 1s 1ms/step - loss: 0.0011 - accuracy: 4.0193e-04\n",
            "Epoch 4/100\n",
            "622/622 [==============================] - 1s 1ms/step - loss: 0.0011 - accuracy: 4.0193e-04\n",
            "Epoch 5/100\n",
            "622/622 [==============================] - 1s 1ms/step - loss: 0.0011 - accuracy: 4.0193e-04\n",
            "Epoch 6/100\n",
            "622/622 [==============================] - 1s 2ms/step - loss: 0.0011 - accuracy: 4.0193e-04\n",
            "Epoch 7/100\n",
            "622/622 [==============================] - 1s 2ms/step - loss: 0.0010 - accuracy: 4.0193e-04\n",
            "Epoch 8/100\n",
            "622/622 [==============================] - 1s 2ms/step - loss: 0.0010 - accuracy: 4.0193e-04\n",
            "Epoch 9/100\n",
            "622/622 [==============================] - 1s 1ms/step - loss: 0.0010 - accuracy: 4.0193e-04\n",
            "Epoch 10/100\n",
            "622/622 [==============================] - 1s 1ms/step - loss: 9.8796e-04 - accuracy: 4.0193e-04\n",
            "Epoch 11/100\n",
            "622/622 [==============================] - 1s 1ms/step - loss: 9.9195e-04 - accuracy: 4.0193e-04\n",
            "Epoch 12/100\n",
            "622/622 [==============================] - 1s 1ms/step - loss: 9.6479e-04 - accuracy: 4.0193e-04\n",
            "Epoch 13/100\n",
            "622/622 [==============================] - 1s 1ms/step - loss: 9.3334e-04 - accuracy: 4.0193e-04\n",
            "Epoch 14/100\n",
            "622/622 [==============================] - 1s 1ms/step - loss: 9.2780e-04 - accuracy: 4.0193e-04\n",
            "Epoch 15/100\n",
            "622/622 [==============================] - 1s 1ms/step - loss: 9.0796e-04 - accuracy: 4.0193e-04\n",
            "Epoch 16/100\n",
            "622/622 [==============================] - 1s 1ms/step - loss: 9.1554e-04 - accuracy: 4.0193e-04\n",
            "Epoch 17/100\n",
            "622/622 [==============================] - 1s 2ms/step - loss: 8.8333e-04 - accuracy: 4.0193e-04\n",
            "Epoch 18/100\n",
            "622/622 [==============================] - 1s 1ms/step - loss: 8.8133e-04 - accuracy: 4.0193e-04\n",
            "Epoch 19/100\n",
            "622/622 [==============================] - 1s 1ms/step - loss: 8.6769e-04 - accuracy: 4.0193e-04\n",
            "Epoch 20/100\n",
            "622/622 [==============================] - 1s 2ms/step - loss: 8.6107e-04 - accuracy: 4.0193e-04\n",
            "Epoch 21/100\n",
            "622/622 [==============================] - 1s 1ms/step - loss: 8.4607e-04 - accuracy: 4.0193e-04\n",
            "Epoch 22/100\n",
            "622/622 [==============================] - 1s 1ms/step - loss: 8.4281e-04 - accuracy: 4.0193e-04\n",
            "Epoch 23/100\n",
            "622/622 [==============================] - 1s 2ms/step - loss: 8.3477e-04 - accuracy: 4.0193e-04\n",
            "Epoch 24/100\n",
            "622/622 [==============================] - 1s 1ms/step - loss: 8.4004e-04 - accuracy: 4.0193e-04\n",
            "Epoch 25/100\n",
            "622/622 [==============================] - 1s 1ms/step - loss: 8.1778e-04 - accuracy: 4.0193e-04\n",
            "Epoch 26/100\n",
            "622/622 [==============================] - 1s 2ms/step - loss: 7.9969e-04 - accuracy: 4.0193e-04\n",
            "Epoch 27/100\n",
            "622/622 [==============================] - 1s 1ms/step - loss: 8.1038e-04 - accuracy: 4.0193e-04\n",
            "Epoch 28/100\n",
            "622/622 [==============================] - 1s 2ms/step - loss: 7.8616e-04 - accuracy: 4.0193e-04\n",
            "Epoch 29/100\n",
            "622/622 [==============================] - 1s 2ms/step - loss: 7.8337e-04 - accuracy: 4.0193e-04\n",
            "Epoch 30/100\n",
            "622/622 [==============================] - 1s 2ms/step - loss: 7.7346e-04 - accuracy: 4.0193e-04\n",
            "Epoch 31/100\n",
            "622/622 [==============================] - 1s 2ms/step - loss: 7.6265e-04 - accuracy: 4.0193e-04\n",
            "Epoch 32/100\n",
            "622/622 [==============================] - 1s 1ms/step - loss: 7.5613e-04 - accuracy: 4.0193e-04\n",
            "Epoch 33/100\n",
            "622/622 [==============================] - 1s 1ms/step - loss: 7.6747e-04 - accuracy: 4.0193e-04\n",
            "Epoch 34/100\n",
            "622/622 [==============================] - 1s 1ms/step - loss: 7.4676e-04 - accuracy: 4.0193e-04\n",
            "Epoch 35/100\n",
            "622/622 [==============================] - 1s 2ms/step - loss: 7.3402e-04 - accuracy: 4.0193e-04\n",
            "Epoch 36/100\n",
            "622/622 [==============================] - 1s 2ms/step - loss: 7.4377e-04 - accuracy: 4.0193e-04\n",
            "Epoch 37/100\n",
            "622/622 [==============================] - 1s 2ms/step - loss: 7.3823e-04 - accuracy: 4.0193e-04\n",
            "Epoch 38/100\n",
            "622/622 [==============================] - 1s 2ms/step - loss: 7.3530e-04 - accuracy: 4.0193e-04\n",
            "Epoch 39/100\n",
            "622/622 [==============================] - 1s 2ms/step - loss: 7.2635e-04 - accuracy: 4.0193e-04\n",
            "Epoch 40/100\n",
            "622/622 [==============================] - 1s 1ms/step - loss: 7.0847e-04 - accuracy: 4.0193e-04\n",
            "Epoch 41/100\n",
            "622/622 [==============================] - 1s 2ms/step - loss: 7.1166e-04 - accuracy: 4.0193e-04\n",
            "Epoch 42/100\n",
            "622/622 [==============================] - 1s 1ms/step - loss: 7.1951e-04 - accuracy: 4.0193e-04\n",
            "Epoch 43/100\n",
            "622/622 [==============================] - 1s 1ms/step - loss: 7.1509e-04 - accuracy: 4.0193e-04\n",
            "Epoch 44/100\n",
            "622/622 [==============================] - 1s 1ms/step - loss: 6.9822e-04 - accuracy: 4.0193e-04\n",
            "Epoch 45/100\n",
            "622/622 [==============================] - 1s 1ms/step - loss: 7.1395e-04 - accuracy: 4.0193e-04\n",
            "Epoch 46/100\n",
            "622/622 [==============================] - 1s 1ms/step - loss: 7.1337e-04 - accuracy: 4.0193e-04\n",
            "Epoch 47/100\n",
            "622/622 [==============================] - 1s 2ms/step - loss: 7.0853e-04 - accuracy: 4.0193e-04\n",
            "Epoch 48/100\n",
            "622/622 [==============================] - 1s 1ms/step - loss: 6.9472e-04 - accuracy: 4.0193e-04\n",
            "Epoch 49/100\n",
            "622/622 [==============================] - 1s 2ms/step - loss: 6.9805e-04 - accuracy: 4.0193e-04\n",
            "Epoch 50/100\n",
            "622/622 [==============================] - 1s 1ms/step - loss: 6.9173e-04 - accuracy: 4.0193e-04\n",
            "Epoch 51/100\n",
            "622/622 [==============================] - 1s 2ms/step - loss: 6.9398e-04 - accuracy: 4.0193e-04\n",
            "Epoch 52/100\n",
            "622/622 [==============================] - 1s 1ms/step - loss: 6.8190e-04 - accuracy: 4.0193e-04\n",
            "Epoch 53/100\n",
            "622/622 [==============================] - 1s 1ms/step - loss: 6.9198e-04 - accuracy: 4.0193e-04\n",
            "Epoch 54/100\n",
            "622/622 [==============================] - 1s 2ms/step - loss: 6.7990e-04 - accuracy: 4.0193e-04\n",
            "Epoch 55/100\n",
            "622/622 [==============================] - 1s 1ms/step - loss: 6.9611e-04 - accuracy: 4.0193e-04\n",
            "Epoch 56/100\n",
            "622/622 [==============================] - 1s 2ms/step - loss: 6.7903e-04 - accuracy: 4.0193e-04\n",
            "Epoch 57/100\n",
            "622/622 [==============================] - 1s 2ms/step - loss: 6.8255e-04 - accuracy: 4.0193e-04\n",
            "Epoch 58/100\n",
            "622/622 [==============================] - 1s 1ms/step - loss: 6.8005e-04 - accuracy: 4.0193e-04\n",
            "Epoch 59/100\n",
            "622/622 [==============================] - 1s 1ms/step - loss: 6.6827e-04 - accuracy: 4.0193e-04\n",
            "Epoch 60/100\n",
            "622/622 [==============================] - 1s 2ms/step - loss: 6.7020e-04 - accuracy: 4.0193e-04\n",
            "Epoch 61/100\n",
            "622/622 [==============================] - 1s 2ms/step - loss: 6.6658e-04 - accuracy: 4.0193e-04\n",
            "Epoch 62/100\n",
            "622/622 [==============================] - 1s 2ms/step - loss: 6.6203e-04 - accuracy: 4.0193e-04\n",
            "Epoch 63/100\n",
            "622/622 [==============================] - 1s 1ms/step - loss: 6.7434e-04 - accuracy: 4.0193e-04\n",
            "Epoch 64/100\n",
            "622/622 [==============================] - 1s 1ms/step - loss: 6.6185e-04 - accuracy: 4.0193e-04\n",
            "Epoch 65/100\n",
            "622/622 [==============================] - 1s 1ms/step - loss: 6.6861e-04 - accuracy: 4.0193e-04\n",
            "Epoch 66/100\n",
            "622/622 [==============================] - 1s 1ms/step - loss: 6.5157e-04 - accuracy: 4.0193e-04\n",
            "Epoch 67/100\n",
            "622/622 [==============================] - 1s 2ms/step - loss: 6.6093e-04 - accuracy: 4.0193e-04\n",
            "Epoch 68/100\n",
            "622/622 [==============================] - 1s 1ms/step - loss: 6.7678e-04 - accuracy: 4.0193e-04\n",
            "Epoch 69/100\n",
            "622/622 [==============================] - 1s 2ms/step - loss: 6.6351e-04 - accuracy: 4.0193e-04\n",
            "Epoch 70/100\n",
            "622/622 [==============================] - 1s 1ms/step - loss: 6.5444e-04 - accuracy: 4.0193e-04\n",
            "Epoch 71/100\n",
            "622/622 [==============================] - 1s 2ms/step - loss: 6.4904e-04 - accuracy: 4.0193e-04\n",
            "Epoch 72/100\n",
            "622/622 [==============================] - 1s 1ms/step - loss: 6.4289e-04 - accuracy: 4.0193e-04\n",
            "Epoch 73/100\n",
            "622/622 [==============================] - 1s 2ms/step - loss: 6.4387e-04 - accuracy: 4.0193e-04\n",
            "Epoch 74/100\n",
            "622/622 [==============================] - 1s 1ms/step - loss: 6.5529e-04 - accuracy: 4.0193e-04\n",
            "Epoch 75/100\n",
            "622/622 [==============================] - 1s 2ms/step - loss: 6.4731e-04 - accuracy: 4.0193e-04\n",
            "Epoch 76/100\n",
            "622/622 [==============================] - 1s 2ms/step - loss: 6.3916e-04 - accuracy: 4.0193e-04\n",
            "Epoch 77/100\n",
            "622/622 [==============================] - 1s 1ms/step - loss: 6.4538e-04 - accuracy: 4.0193e-04\n",
            "Epoch 78/100\n",
            "622/622 [==============================] - 1s 1ms/step - loss: 6.4420e-04 - accuracy: 4.0193e-04\n",
            "Epoch 79/100\n",
            "622/622 [==============================] - 1s 2ms/step - loss: 6.3995e-04 - accuracy: 4.0193e-04\n",
            "Epoch 80/100\n",
            "622/622 [==============================] - 1s 1ms/step - loss: 6.3661e-04 - accuracy: 4.0193e-04\n",
            "Epoch 81/100\n",
            "622/622 [==============================] - 1s 2ms/step - loss: 6.3754e-04 - accuracy: 4.0193e-04\n",
            "Epoch 82/100\n",
            "622/622 [==============================] - 1s 1ms/step - loss: 6.4001e-04 - accuracy: 4.0193e-04\n",
            "Epoch 83/100\n",
            "622/622 [==============================] - 1s 2ms/step - loss: 6.2690e-04 - accuracy: 4.0193e-04\n",
            "Epoch 84/100\n",
            "622/622 [==============================] - 1s 1ms/step - loss: 6.2762e-04 - accuracy: 4.0193e-04\n",
            "Epoch 85/100\n",
            "622/622 [==============================] - 1s 1ms/step - loss: 6.3408e-04 - accuracy: 4.0193e-04\n",
            "Epoch 86/100\n",
            "622/622 [==============================] - 1s 2ms/step - loss: 6.2963e-04 - accuracy: 4.0193e-04\n",
            "Epoch 87/100\n",
            "622/622 [==============================] - 1s 2ms/step - loss: 6.3623e-04 - accuracy: 4.0193e-04\n",
            "Epoch 88/100\n",
            "622/622 [==============================] - 1s 2ms/step - loss: 6.3051e-04 - accuracy: 4.0193e-04\n",
            "Epoch 89/100\n",
            "622/622 [==============================] - 1s 2ms/step - loss: 6.2974e-04 - accuracy: 4.0193e-04\n",
            "Epoch 90/100\n",
            "622/622 [==============================] - 1s 1ms/step - loss: 6.2842e-04 - accuracy: 4.0193e-04\n",
            "Epoch 91/100\n",
            "622/622 [==============================] - 1s 1ms/step - loss: 6.2729e-04 - accuracy: 4.0193e-04\n",
            "Epoch 92/100\n",
            "622/622 [==============================] - 1s 1ms/step - loss: 6.2419e-04 - accuracy: 4.0193e-04\n",
            "Epoch 93/100\n",
            "622/622 [==============================] - 1s 2ms/step - loss: 6.1004e-04 - accuracy: 4.0193e-04\n",
            "Epoch 94/100\n",
            "622/622 [==============================] - 1s 1ms/step - loss: 6.2415e-04 - accuracy: 4.0193e-04\n",
            "Epoch 95/100\n",
            "622/622 [==============================] - 1s 2ms/step - loss: 6.2665e-04 - accuracy: 4.0193e-04\n",
            "Epoch 96/100\n",
            "622/622 [==============================] - 1s 1ms/step - loss: 6.1594e-04 - accuracy: 4.0193e-04\n",
            "Epoch 97/100\n",
            "622/622 [==============================] - 1s 2ms/step - loss: 6.2824e-04 - accuracy: 4.0193e-04\n",
            "Epoch 98/100\n",
            "622/622 [==============================] - 1s 1ms/step - loss: 6.1906e-04 - accuracy: 4.0193e-04\n",
            "Epoch 99/100\n",
            "622/622 [==============================] - 1s 1ms/step - loss: 6.1629e-04 - accuracy: 4.0193e-04\n",
            "Epoch 100/100\n",
            "622/622 [==============================] - 1s 1ms/step - loss: 6.1944e-04 - accuracy: 4.0193e-04\n"
          ],
          "name": "stdout"
        }
      ]
    },
    {
      "cell_type": "code",
      "metadata": {
        "id": "l-44ErzUEeU9",
        "colab": {
          "base_uri": "https://localhost:8080/"
        },
        "outputId": "e12a7534-ad31-4138-e009-4f402ae2e8a9"
      },
      "source": [
        "# Invert the predictions\n",
        "y_pred =sc.inverse_transform(model.predict(X_test))\n",
        "test_labels=sc.inverse_transform(Y_test)\n",
        "#print(\"Time taken (in seconds):\",np.round((time.time-start_time),4))\n",
        "MAE_LR= np.mean(np.abs(test_labels-y_pred))\n",
        "print(\"Mean absolute error(MAE):\",np.round(MAE_LR,3))\n",
        "RMSE_LR= np.sqrt(np.mean((test_labels-y_pred)**2))\n",
        "print(\"RMSE of ANN Model =\",np.round(RMSE_LR,3))\n",
        "mape = np.mean(np.abs((test_labels - y_pred)/test_labels))*100\n",
        "print(\"Mape:\",mape)"
      ],
      "execution_count": null,
      "outputs": [
        {
          "output_type": "stream",
          "text": [
            "Mean absolute error(MAE): 0.575\n",
            "RMSE of ANN Model = 1.43\n",
            "Mape: 0.20886833017436215\n"
          ],
          "name": "stdout"
        }
      ]
    },
    {
      "cell_type": "code",
      "metadata": {
        "colab": {
          "base_uri": "https://localhost:8080/"
        },
        "id": "G1kjXCMaFRxW",
        "outputId": "a6021ecb-b622-49f1-ff94-6ffe8ba96ba7"
      },
      "source": [
        "accuracy=100-mape\n",
        "print(\"Accuracy of ANN: \", accuracy)"
      ],
      "execution_count": null,
      "outputs": [
        {
          "output_type": "stream",
          "text": [
            "Accuracy of ANN:  99.79113166982563\n"
          ],
          "name": "stdout"
        }
      ]
    },
    {
      "cell_type": "code",
      "metadata": {
        "colab": {
          "base_uri": "https://localhost:8080/",
          "height": 295
        },
        "id": "tI0QJmd4EVSg",
        "outputId": "5c6cebed-6a61-41e5-9a17-a773be5837bc"
      },
      "source": [
        "#Plot the results\n",
        "plt.plot(test_labels[:40,], color = 'black', label = 'Actual Data')\n",
        "plt.plot(y_pred[:40,], color = 'green', label = 'Predicted Data')\n",
        "plt.title('CO2 emission Prediction by ANN Model')\n",
        "plt.xlabel('Years')\n",
        "plt.ylabel('CO2 Emission')\n",
        "plt.legend()\n",
        "plt.show()"
      ],
      "execution_count": null,
      "outputs": [
        {
          "output_type": "display_data",
          "data": {
            "image/png": "[encoded data removed]",
            "text/plain": [
              "<Figure size 432x288 with 1 Axes>"
            ]
          },
          "metadata": {
            "needs_background": "light"
          }
        }
      ]
    },
    {
      "cell_type": "code",
      "metadata": {
        "colab": {
          "base_uri": "https://localhost:8080/"
        },
        "id": "tCHfktKYAPt9",
        "outputId": "1777dbb5-ffe8-4402-9f65-1d776db955b2"
      },
      "source": [
        "# Defining a function to find the best parameters for ANN\n",
        "def tuning_ANN(X_train, y_train, X_test, y_test):\n",
        "    \n",
        "    # Defining the list of hyper parameters to try\n",
        "    batch_size_list=[5, 10, 15, 20]\n",
        "    epoch_list  =   [5, 10, 50, 100]\n",
        "    \n",
        "    import pandas as pd\n",
        "    SearchResultsData=pd.DataFrame(columns=['TrialNumber', 'Parameters', 'Accuracy'])\n",
        "    \n",
        "    # initializing the trials\n",
        "    TrialNumber=0\n",
        "    for batch_size_trial in batch_size_list:\n",
        "        for epochs_trial in epoch_list:\n",
        "            TrialNumber+=1\n",
        "            # create ANN model\n",
        "            model = Sequential()\n",
        "            # Defining the first layer of the model\n",
        "            model.add(Dense(units=5, input_dim=X_train.shape[1], kernel_initializer='normal', activation='relu'))\n",
        "\n",
        "            # Defining the Second layer of the model\n",
        "            model.add(Dense(units=5, kernel_initializer='normal', activation='relu'))\n",
        "\n",
        "            # The output neuron is a single fully connected node \n",
        "            # Since we will be predicting a single number\n",
        "            model.add(Dense(1, kernel_initializer='normal'))\n",
        "\n",
        "            # Compiling the model\n",
        "            model.compile(loss='mean_squared_error', optimizer='adam')\n",
        "\n",
        "            # Fitting the ANN to the Training set\n",
        "            model.fit(X_train, y_train ,batch_size = batch_size_trial, epochs = epochs_trial, verbose=0)\n",
        "\n",
        "            MAPE = np.mean(100 * (np.abs(y_test-model.predict(X_test))/y_test))\n",
        "            \n",
        "            # printing the results of the current iteration\n",
        "            print(TrialNumber, 'Parameters:','batch_size:', batch_size_trial,'-', 'epochs:',epochs_trial, 'Accuracy:', 100-MAPE)\n",
        "            \n",
        "            SearchResultsData=SearchResultsData.append(pd.DataFrame(data=[[TrialNumber, str(batch_size_trial)+'-'+str(epochs_trial), 100-MAPE]],\n",
        "                                                                    columns=['TrialNumber', 'Parameters', 'Accuracy'] ))\n",
        "    return(SearchResultsData)\n",
        "\n",
        "\n",
        "######################################################\n",
        "# Calling the function\n",
        "ResultsData=tuning_ANN(X_train, Y_train, X_test, Y_test)"
      ],
      "execution_count": null,
      "outputs": [
        {
          "output_type": "stream",
          "text": [
            "/usr/local/lib/python3.7/dist-packages/ipykernel_launcher.py:34: RuntimeWarning: divide by zero encountered in true_divide\n"
          ],
          "name": "stderr"
        },
        {
          "output_type": "stream",
          "text": [
            "1 Parameters: batch_size: 5 - epochs: 5 Accuracy: -inf\n",
            "2 Parameters: batch_size: 5 - epochs: 10 Accuracy: -inf\n",
            "3 Parameters: batch_size: 5 - epochs: 50 Accuracy: -inf\n",
            "4 Parameters: batch_size: 5 - epochs: 100 Accuracy: -inf\n",
            "5 Parameters: batch_size: 10 - epochs: 5 Accuracy: -inf\n",
            "6 Parameters: batch_size: 10 - epochs: 10 Accuracy: -inf\n",
            "7 Parameters: batch_size: 10 - epochs: 50 Accuracy: -inf\n",
            "8 Parameters: batch_size: 10 - epochs: 100 Accuracy: -inf\n",
            "9 Parameters: batch_size: 15 - epochs: 5 Accuracy: -inf\n",
            "10 Parameters: batch_size: 15 - epochs: 10 Accuracy: -inf\n",
            "11 Parameters: batch_size: 15 - epochs: 50 Accuracy: -inf\n",
            "12 Parameters: batch_size: 15 - epochs: 100 Accuracy: -inf\n",
            "13 Parameters: batch_size: 20 - epochs: 5 Accuracy: -inf\n",
            "14 Parameters: batch_size: 20 - epochs: 10 Accuracy: -inf\n",
            "15 Parameters: batch_size: 20 - epochs: 50 Accuracy: -inf\n",
            "16 Parameters: batch_size: 20 - epochs: 100 Accuracy: -inf\n"
          ],
          "name": "stdout"
        }
      ]
    },
    {
      "cell_type": "code",
      "metadata": {
        "colab": {
          "base_uri": "https://localhost:8080/"
        },
        "id": "HD66S-dnKPAR",
        "outputId": "11bc809b-4199-4d0e-a87c-d77004a28262"
      },
      "source": [
        "# Take the highly correlated fields in X and store the dependent variable in Y.\n",
        "print(combined_df.dtypes)\n",
        "X=combined_df[['ENGINE SIZE', 'CYLINDERS','Consumption_CITY','Consumption_HWY', 'COMB (L/100 km)']]\n",
        "y=combined_df[\"CO2_EMISSIONS\"]"
      ],
      "execution_count": null,
      "outputs": [
        {
          "output_type": "stream",
          "text": [
            "MODEL YEAR            object\n",
            "MAKE                  object\n",
            "MODEL                 object\n",
            "VEHICLE CLASS         object\n",
            "ENGINE SIZE          float64\n",
            "CYLINDERS            float64\n",
            "TRANSMISSION        category\n",
            "FUEL TYPE           category\n",
            "Consumption_CITY     float64\n",
            "Consumption_HWY      float64\n",
            "COMB (L/100 km)      float64\n",
            "COMB (mpg)           float64\n",
            "CO2_EMISSIONS        float64\n",
            "dtype: object\n"
          ],
          "name": "stdout"
        }
      ]
    },
    {
      "cell_type": "code",
      "metadata": {
        "colab": {
          "base_uri": "https://localhost:8080/"
        },
        "id": "vhqe65P0JdDP",
        "outputId": "7d621b13-4926-49ab-804d-11462443fbf2"
      },
      "source": [
        "#ANN\n",
        "# Separate Target Variable and Predictor Variables\n",
        "TargetVariable=['CO2_EMISSIONS']\n",
        "Predictors=['ENGINE SIZE', 'CYLINDERS', 'Consumption_CITY','Consumption_HWY','COMB (L/100 km)']\n",
        " \n",
        "X=combined_df[Predictors].values\n",
        "y=combined_df[TargetVariable].values\n",
        " \n",
        "### Sandardization of data ###\n",
        "from sklearn.preprocessing import StandardScaler\n",
        "PredictorScaler=StandardScaler()\n",
        "TargetVarScaler=StandardScaler()\n",
        " \n",
        "# Storing the fit object for later reference\n",
        "PredictorScalerFit=PredictorScaler.fit(X)\n",
        "TargetVarScalerFit=TargetVarScaler.fit(y)\n",
        " \n",
        "# Generating the standardized values of X and y\n",
        "X=PredictorScalerFit.transform(X)\n",
        "y=TargetVarScalerFit.transform(y)\n",
        " \n",
        "# Split the data into training and testing set\n",
        "from sklearn.model_selection import train_test_split\n",
        "X_train, X_test, y_train, y_test = train_test_split(X, y, test_size=0.3, random_state=42)\n",
        " \n",
        "# Quick sanity check with the shapes of Training and testing datasets\n",
        "print(X_train.shape)\n",
        "print(y_train.shape)\n",
        "print(X_test.shape)\n",
        "print(y_test.shape)\n"
      ],
      "execution_count": null,
      "outputs": [
        {
          "output_type": "stream",
          "text": [
            "(12440, 5)\n",
            "(12440, 1)\n",
            "(5332, 5)\n",
            "(5332, 1)\n"
          ],
          "name": "stdout"
        }
      ]
    },
    {
      "cell_type": "code",
      "metadata": {
        "colab": {
          "base_uri": "https://localhost:8080/"
        },
        "id": "dVyvojHdKqMQ",
        "outputId": "da81338c-2417-4a16-b13e-4dc8cab421da"
      },
      "source": [
        "# importing the libraries\n",
        "from keras.models import Sequential\n",
        "from keras.layers import Dense\n",
        "\n",
        "# create ANN model\n",
        "model = Sequential()\n",
        "\n",
        "# Defining the Input layer and FIRST hidden layer, both are same!\n",
        "model.add(Dense(units=5, input_dim=5, kernel_initializer='normal', activation='relu'))\n",
        "\n",
        "# Defining the Second layer of the model\n",
        "# after the first layer we don't have to specify input_dim as keras configure it automatically\n",
        "model.add(Dense(units=5, kernel_initializer='normal', activation='tanh'))\n",
        "\n",
        "# The output neuron is a single fully connected node \n",
        "# Since we will be predicting a single number\n",
        "model.add(Dense(1, kernel_initializer='normal'))\n",
        "\n",
        "# Compiling the model\n",
        "model.compile(loss='mean_squared_error', optimizer='adam')\n",
        "\n",
        "# Fitting the ANN to the Training set\n",
        "model.fit(X_train, y_train ,batch_size = 20, epochs = 50, verbose=1)"
      ],
      "execution_count": null,
      "outputs": [
        {
          "output_type": "stream",
          "text": [
            "Epoch 1/50\n",
            "622/622 [==============================] - 1s 1ms/step - loss: 0.3212\n",
            "Epoch 2/50\n",
            "622/622 [==============================] - 1s 1ms/step - loss: 0.1062\n",
            "Epoch 3/50\n",
            "622/622 [==============================] - 1s 1ms/step - loss: 0.0982\n",
            "Epoch 4/50\n",
            "622/622 [==============================] - 1s 1ms/step - loss: 0.0972\n",
            "Epoch 5/50\n",
            "622/622 [==============================] - 1s 1ms/step - loss: 0.0968\n",
            "Epoch 6/50\n",
            "622/622 [==============================] - 1s 1ms/step - loss: 0.0959\n",
            "Epoch 7/50\n",
            "622/622 [==============================] - 1s 1ms/step - loss: 0.0957\n",
            "Epoch 8/50\n",
            "622/622 [==============================] - 1s 1ms/step - loss: 0.0949\n",
            "Epoch 9/50\n",
            "622/622 [==============================] - 1s 1ms/step - loss: 0.0948\n",
            "Epoch 10/50\n",
            "622/622 [==============================] - 1s 1ms/step - loss: 0.0946\n",
            "Epoch 11/50\n",
            "622/622 [==============================] - 1s 1ms/step - loss: 0.0943\n",
            "Epoch 12/50\n",
            "622/622 [==============================] - 1s 1ms/step - loss: 0.0942\n",
            "Epoch 13/50\n",
            "622/622 [==============================] - 1s 1ms/step - loss: 0.0938\n",
            "Epoch 14/50\n",
            "622/622 [==============================] - 1s 1ms/step - loss: 0.0933\n",
            "Epoch 15/50\n",
            "622/622 [==============================] - 1s 1ms/step - loss: 0.0926\n",
            "Epoch 16/50\n",
            "622/622 [==============================] - 1s 1ms/step - loss: 0.0924\n",
            "Epoch 17/50\n",
            "622/622 [==============================] - 1s 1ms/step - loss: 0.0923\n",
            "Epoch 18/50\n",
            "622/622 [==============================] - 1s 1ms/step - loss: 0.0916\n",
            "Epoch 19/50\n",
            "622/622 [==============================] - 1s 1ms/step - loss: 0.0914\n",
            "Epoch 20/50\n",
            "622/622 [==============================] - 1s 1ms/step - loss: 0.0909\n",
            "Epoch 21/50\n",
            "622/622 [==============================] - 1s 2ms/step - loss: 0.0900\n",
            "Epoch 22/50\n",
            "622/622 [==============================] - 1s 2ms/step - loss: 0.0888\n",
            "Epoch 23/50\n",
            "622/622 [==============================] - 1s 2ms/step - loss: 0.0869\n",
            "Epoch 24/50\n",
            "622/622 [==============================] - 1s 2ms/step - loss: 0.0848\n",
            "Epoch 25/50\n",
            "622/622 [==============================] - 1s 1ms/step - loss: 0.0824\n",
            "Epoch 26/50\n",
            "622/622 [==============================] - 1s 1ms/step - loss: 0.0805\n",
            "Epoch 27/50\n",
            "622/622 [==============================] - 1s 1ms/step - loss: 0.0793\n",
            "Epoch 28/50\n",
            "622/622 [==============================] - 1s 1ms/step - loss: 0.0775\n",
            "Epoch 29/50\n",
            "622/622 [==============================] - 1s 1ms/step - loss: 0.0752\n",
            "Epoch 30/50\n",
            "622/622 [==============================] - 1s 1ms/step - loss: 0.0732\n",
            "Epoch 31/50\n",
            "622/622 [==============================] - 1s 1ms/step - loss: 0.0705\n",
            "Epoch 32/50\n",
            "622/622 [==============================] - 1s 1ms/step - loss: 0.0677\n",
            "Epoch 33/50\n",
            "622/622 [==============================] - 1s 1ms/step - loss: 0.0652\n",
            "Epoch 34/50\n",
            "622/622 [==============================] - 1s 1ms/step - loss: 0.0628\n",
            "Epoch 35/50\n",
            "622/622 [==============================] - 1s 1ms/step - loss: 0.0618\n",
            "Epoch 36/50\n",
            "622/622 [==============================] - 1s 1ms/step - loss: 0.0610\n",
            "Epoch 37/50\n",
            "622/622 [==============================] - 1s 1ms/step - loss: 0.0601\n",
            "Epoch 38/50\n",
            "622/622 [==============================] - 1s 1ms/step - loss: 0.0597\n",
            "Epoch 39/50\n",
            "622/622 [==============================] - 1s 1ms/step - loss: 0.0588\n",
            "Epoch 40/50\n",
            "622/622 [==============================] - 1s 1ms/step - loss: 0.0578\n",
            "Epoch 41/50\n",
            "622/622 [==============================] - 1s 1ms/step - loss: 0.0572\n",
            "Epoch 42/50\n",
            "622/622 [==============================] - 1s 1ms/step - loss: 0.0567\n",
            "Epoch 43/50\n",
            "622/622 [==============================] - 1s 1ms/step - loss: 0.0563\n",
            "Epoch 44/50\n",
            "622/622 [==============================] - 1s 1ms/step - loss: 0.0556\n",
            "Epoch 45/50\n",
            "622/622 [==============================] - 1s 1ms/step - loss: 0.0554\n",
            "Epoch 46/50\n",
            "622/622 [==============================] - 1s 1ms/step - loss: 0.0554\n",
            "Epoch 47/50\n",
            "622/622 [==============================] - 1s 1ms/step - loss: 0.0550\n",
            "Epoch 48/50\n",
            "622/622 [==============================] - 1s 1ms/step - loss: 0.0552\n",
            "Epoch 49/50\n",
            "622/622 [==============================] - 1s 1ms/step - loss: 0.0548\n",
            "Epoch 50/50\n",
            "622/622 [==============================] - 1s 1ms/step - loss: 0.0550\n"
          ],
          "name": "stdout"
        },
        {
          "output_type": "execute_result",
          "data": {
            "text/plain": [
              "<keras.callbacks.History at 0x7f73df044ad0>"
            ]
          },
          "metadata": {},
          "execution_count": 77
        }
      ]
    },
    {
      "cell_type": "code",
      "metadata": {
        "colab": {
          "base_uri": "https://localhost:8080/"
        },
        "id": "bp_KyxajLSK6",
        "outputId": "923e555b-fba2-4aaf-c35e-54daa160293f"
      },
      "source": [
        "# Defining a function to find the best parameters for ANN\n",
        "def FunctionFindBestParams(X_train, y_train, X_test, y_test):\n",
        "    \n",
        "    # Defining the list of hyper parameters to try\n",
        "    batch_size_list=[5, 10, 15, 20]\n",
        "    epoch_list  =   [5, 10, 50, 100]\n",
        "    \n",
        "    import pandas as pd\n",
        "    SearchResultsData=pd.DataFrame(columns=['TrialNumber', 'Parameters', 'Accuracy'])\n",
        "    \n",
        "    # initializing the trials\n",
        "    TrialNumber=0\n",
        "    for batch_size_trial in batch_size_list:\n",
        "        for epochs_trial in epoch_list:\n",
        "            TrialNumber+=1\n",
        "            # create ANN model\n",
        "            model = Sequential()\n",
        "            # Defining the first layer of the model\n",
        "            model.add(Dense(units=5, input_dim=X_train.shape[1], kernel_initializer='normal', activation='relu'))\n",
        "\n",
        "            # Defining the Second layer of the model\n",
        "            model.add(Dense(units=5, kernel_initializer='normal', activation='relu'))\n",
        "\n",
        "            # The output neuron is a single fully connected node \n",
        "            # Since we will be predicting a single number\n",
        "            model.add(Dense(1, kernel_initializer='normal'))\n",
        "\n",
        "            # Compiling the model\n",
        "            model.compile(loss='mean_squared_error', optimizer='adam')\n",
        "\n",
        "            # Fitting the ANN to the Training set\n",
        "            model.fit(X_train, y_train ,batch_size = batch_size_trial, epochs = epochs_trial, verbose=0)\n",
        "\n",
        "            MAPE = np.mean(100 * (np.abs(y_test-model.predict(X_test))/y_test))\n",
        "            \n",
        "            # printing the results of the current iteration\n",
        "            print(TrialNumber, 'Parameters:','batch_size:', batch_size_trial,'-', 'epochs:',epochs_trial, 'Accuracy:', 100-MAPE)\n",
        "            \n",
        "            SearchResultsData=SearchResultsData.append(pd.DataFrame(data=[[TrialNumber, str(batch_size_trial)+'-'+str(epochs_trial), 100-MAPE]],\n",
        "                                                                    columns=['TrialNumber', 'Parameters', 'Accuracy'] ))\n",
        "    return(SearchResultsData)\n",
        "\n",
        "\n",
        "######################################################\n",
        "# Calling the function\n",
        "ResultsData=FunctionFindBestParams(X_train, y_train, X_test, y_test)"
      ],
      "execution_count": null,
      "outputs": [
        {
          "output_type": "stream",
          "text": [
            "1 Parameters: batch_size: 5 - epochs: 5 Accuracy: 105.82841287803184\n",
            "2 Parameters: batch_size: 5 - epochs: 10 Accuracy: 104.3669470647898\n",
            "3 Parameters: batch_size: 5 - epochs: 50 Accuracy: 109.75553700447595\n",
            "4 Parameters: batch_size: 5 - epochs: 100 Accuracy: 114.72342765243584\n",
            "5 Parameters: batch_size: 10 - epochs: 5 Accuracy: 107.08202887478038\n",
            "6 Parameters: batch_size: 10 - epochs: 10 Accuracy: 103.97201037585155\n",
            "7 Parameters: batch_size: 10 - epochs: 50 Accuracy: 104.82971698295246\n",
            "8 Parameters: batch_size: 10 - epochs: 100 Accuracy: 119.7440128868348\n",
            "9 Parameters: batch_size: 15 - epochs: 5 Accuracy: 108.70013592779277\n",
            "10 Parameters: batch_size: 15 - epochs: 10 Accuracy: 106.33422706382314\n",
            "11 Parameters: batch_size: 15 - epochs: 50 Accuracy: 103.60552041005137\n",
            "12 Parameters: batch_size: 15 - epochs: 100 Accuracy: 105.75608624235919\n",
            "13 Parameters: batch_size: 20 - epochs: 5 Accuracy: 107.5183528969021\n",
            "14 Parameters: batch_size: 20 - epochs: 10 Accuracy: 106.02971496915572\n",
            "15 Parameters: batch_size: 20 - epochs: 50 Accuracy: 107.55896393543223\n",
            "16 Parameters: batch_size: 20 - epochs: 100 Accuracy: 102.68636022840076\n"
          ],
          "name": "stdout"
        }
      ]
    },
    {
      "cell_type": "code",
      "metadata": {
        "id": "qL1WXYePU9CW"
      },
      "source": [
        "############################# new\n",
        "import numpy as np                #for array manipulation\n",
        "import pandas as pd               #data manipulation\n",
        "from sklearn import preprocessing #scaling\n",
        "import keras\n",
        "from keras.layers import Dense    #for Dense layers\n",
        "from keras.layers import BatchNormalization #for batch normalization\n",
        "from keras.layers import Dropout            #for random dropout\n",
        "from keras.models import Sequential #for sequential implementation\n",
        "#from keras.optimizers import Adam   #for adam optimizer\n",
        "from keras import regularizers      #for l2 regularization\n",
        "from keras.wrappers.scikit_learn import KerasRegressor \n",
        "from sklearn.model_selection import RandomizedSearchCV\n",
        "from sklearn.model_selection import KFold \n",
        "from sklearn.model_selection import cross_val_score\n",
        "\n",
        "TargetVariable=['CO2_EMISSIONS']\n",
        "Predictors=['ENGINE SIZE', 'CYLINDERS', 'Consumption_CITY','Consumption_HWY','COMB (L/100 km)']\n",
        " \n",
        "X=combined_df[Predictors].values\n",
        "train_targets=combined_df[TargetVariable].values\n",
        "\n",
        " \n",
        "train_inputs =  preprocessing.scale(X)\n"
      ],
      "execution_count": null,
      "outputs": []
    },
    {
      "cell_type": "code",
      "metadata": {
        "id": "_4UuYYTfVXxv"
      },
      "source": [
        "n_cols = train_inputs.shape[1]\n",
        "input_shape = (n_cols, )\n",
        "# Creates a model given an activation and learning rate\n",
        "def create_model(learning_rate = 0.01, activation = 'relu'):\n",
        "  \n",
        "    # Create an Adam optimizer with the given learning rate\n",
        "    #opt = Adam(lr=learning_rate)\n",
        "  \n",
        "    # Create your binary classification model  \n",
        "    model = Sequential()\n",
        "    model.add(Dense(128, \n",
        "                    activation = activation,\n",
        "                    input_shape = input_shape,\n",
        "                    activity_regularizer = regularizers.l2(1e-5)))\n",
        "    model.add(Dropout(0.50))\n",
        "    model.add(Dense(128,\n",
        "                    activation = activation, \n",
        "                    activity_regularizer = regularizers.l2(1e-5)))\n",
        "    model.add(Dropout(0.50))\n",
        "    model.add(Dense(1, activation = activation))\n",
        "# Compile the model\n",
        "    model.compile(optimizer = 'adam',\n",
        "                  loss = \"mean_absolute_error\",\n",
        "                  metrics=['mse', \"mape\"])\n",
        "    return model"
      ],
      "execution_count": null,
      "outputs": []
    },
    {
      "cell_type": "code",
      "metadata": {
        "colab": {
          "base_uri": "https://localhost:8080/"
        },
        "id": "_BuGeBh7VzK8",
        "outputId": "a1399495-fefd-470d-8f98-8fb95295a25e"
      },
      "source": [
        "# Create a KerasClassifier object\n",
        "model = KerasRegressor(build_fn = create_model,\n",
        "                       verbose = 0)\n",
        "# Define the hyperparameter space\n",
        "params = {'activation': [\"relu\"],\n",
        "          'batch_size': [20], \n",
        "          'epochs': [10, 50, 100],\n",
        "          'learning_rate': [0.01]}\n",
        "# Create a randomize search cv object \n",
        "random_search = RandomizedSearchCV(model,\n",
        "                                   param_distributions = params,\n",
        "                                   cv = KFold(10))\n",
        "random_search_results = random_search.fit(train_inputs, train_targets)"
      ],
      "execution_count": null,
      "outputs": [
        {
          "output_type": "stream",
          "text": [
            "/usr/local/lib/python3.7/dist-packages/sklearn/model_selection/_search.py:281: UserWarning: The total space of parameters 3 is smaller than n_iter=10. Running 3 iterations. For exhaustive searches, use GridSearchCV.\n",
            "  % (grid_size, self.n_iter, grid_size), UserWarning)\n"
          ],
          "name": "stderr"
        }
      ]
    },
    {
      "cell_type": "markdown",
      "metadata": {
        "id": "ASKxbeClLYOa"
      },
      "source": [
        "## *Classification of types of vehicles:*"
      ]
    },
    {
      "cell_type": "code",
      "metadata": {
        "colab": {
          "base_uri": "https://localhost:8080/",
          "height": 300
        },
        "id": "rUpv-y0HCFd2",
        "outputId": "4ac6812b-fa08-40c2-92a6-49e468c8893c"
      },
      "source": [
        "combined_df.describe()"
      ],
      "execution_count": null,
      "outputs": [
        {
          "output_type": "execute_result",
          "data": {
            "text/html": [
              "<div>\n",
              "<style scoped>\n",
              "    .dataframe tbody tr th:only-of-type {\n",
              "        vertical-align: middle;\n",
              "    }\n",
              "\n",
              "    .dataframe tbody tr th {\n",
              "        vertical-align: top;\n",
              "    }\n",
              "\n",
              "    .dataframe thead th {\n",
              "        text-align: right;\n",
              "    }\n",
              "</style>\n",
              "<table border=\"1\" class=\"dataframe\">\n",
              "  <thead>\n",
              "    <tr style=\"text-align: right;\">\n",
              "      <th></th>\n",
              "      <th>ENGINE SIZE</th>\n",
              "      <th>CYLINDERS</th>\n",
              "      <th>Consumption_CITY</th>\n",
              "      <th>Consumption_HWY</th>\n",
              "      <th>COMB (L/100 km)</th>\n",
              "      <th>COMB (mpg)</th>\n",
              "      <th>CO2_EMISSIONS</th>\n",
              "      <th>CO2_levels</th>\n",
              "    </tr>\n",
              "  </thead>\n",
              "  <tbody>\n",
              "    <tr>\n",
              "      <th>count</th>\n",
              "      <td>17772.000000</td>\n",
              "      <td>17772.000000</td>\n",
              "      <td>17772.000000</td>\n",
              "      <td>17772.000000</td>\n",
              "      <td>17772.000000</td>\n",
              "      <td>17772.000000</td>\n",
              "      <td>17772.000000</td>\n",
              "      <td>17772.000000</td>\n",
              "    </tr>\n",
              "    <tr>\n",
              "      <th>mean</th>\n",
              "      <td>3.452093</td>\n",
              "      <td>5.949584</td>\n",
              "      <td>12.986434</td>\n",
              "      <td>8.881972</td>\n",
              "      <td>11.140429</td>\n",
              "      <td>27.114056</td>\n",
              "      <td>251.357810</td>\n",
              "      <td>0.514911</td>\n",
              "    </tr>\n",
              "    <tr>\n",
              "      <th>std</th>\n",
              "      <td>1.326771</td>\n",
              "      <td>1.750693</td>\n",
              "      <td>3.484482</td>\n",
              "      <td>2.323022</td>\n",
              "      <td>2.930827</td>\n",
              "      <td>7.297715</td>\n",
              "      <td>60.212599</td>\n",
              "      <td>0.503717</td>\n",
              "    </tr>\n",
              "    <tr>\n",
              "      <th>min</th>\n",
              "      <td>0.800000</td>\n",
              "      <td>2.000000</td>\n",
              "      <td>3.500000</td>\n",
              "      <td>3.200000</td>\n",
              "      <td>3.600000</td>\n",
              "      <td>11.000000</td>\n",
              "      <td>83.000000</td>\n",
              "      <td>0.000000</td>\n",
              "    </tr>\n",
              "    <tr>\n",
              "      <th>25%</th>\n",
              "      <td>2.400000</td>\n",
              "      <td>4.000000</td>\n",
              "      <td>10.600000</td>\n",
              "      <td>7.300000</td>\n",
              "      <td>9.200000</td>\n",
              "      <td>22.000000</td>\n",
              "      <td>210.000000</td>\n",
              "      <td>0.000000</td>\n",
              "    </tr>\n",
              "    <tr>\n",
              "      <th>50%</th>\n",
              "      <td>3.300000</td>\n",
              "      <td>6.000000</td>\n",
              "      <td>12.500000</td>\n",
              "      <td>8.300000</td>\n",
              "      <td>10.600000</td>\n",
              "      <td>27.000000</td>\n",
              "      <td>242.000000</td>\n",
              "      <td>1.000000</td>\n",
              "    </tr>\n",
              "    <tr>\n",
              "      <th>75%</th>\n",
              "      <td>4.300000</td>\n",
              "      <td>8.000000</td>\n",
              "      <td>15.000000</td>\n",
              "      <td>10.300000</td>\n",
              "      <td>12.900000</td>\n",
              "      <td>31.000000</td>\n",
              "      <td>290.000000</td>\n",
              "      <td>1.000000</td>\n",
              "    </tr>\n",
              "    <tr>\n",
              "      <th>max</th>\n",
              "      <td>8.400000</td>\n",
              "      <td>16.000000</td>\n",
              "      <td>30.600000</td>\n",
              "      <td>19.000000</td>\n",
              "      <td>24.800000</td>\n",
              "      <td>78.000000</td>\n",
              "      <td>570.000000</td>\n",
              "      <td>2.000000</td>\n",
              "    </tr>\n",
              "  </tbody>\n",
              "</table>\n",
              "</div>"
            ],
            "text/plain": [
              "        ENGINE SIZE     CYLINDERS  Consumption_CITY  Consumption_HWY  \\\n",
              "count  17772.000000  17772.000000      17772.000000     17772.000000   \n",
              "mean       3.452093      5.949584         12.986434         8.881972   \n",
              "std        1.326771      1.750693          3.484482         2.323022   \n",
              "min        0.800000      2.000000          3.500000         3.200000   \n",
              "25%        2.400000      4.000000         10.600000         7.300000   \n",
              "50%        3.300000      6.000000         12.500000         8.300000   \n",
              "75%        4.300000      8.000000         15.000000        10.300000   \n",
              "max        8.400000     16.000000         30.600000        19.000000   \n",
              "\n",
              "       COMB (L/100 km)    COMB (mpg)  CO2_EMISSIONS    CO2_levels  \n",
              "count     17772.000000  17772.000000   17772.000000  17772.000000  \n",
              "mean         11.140429     27.114056     251.357810      0.514911  \n",
              "std           2.930827      7.297715      60.212599      0.503717  \n",
              "min           3.600000     11.000000      83.000000      0.000000  \n",
              "25%           9.200000     22.000000     210.000000      0.000000  \n",
              "50%          10.600000     27.000000     242.000000      1.000000  \n",
              "75%          12.900000     31.000000     290.000000      1.000000  \n",
              "max          24.800000     78.000000     570.000000      2.000000  "
            ]
          },
          "metadata": {},
          "execution_count": 126
        }
      ]
    },
    {
      "cell_type": "code",
      "metadata": {
        "colab": {
          "base_uri": "https://localhost:8080/"
        },
        "id": "R0dzltAV5Zmj",
        "outputId": "17cb5125-4e77-4f24-d21c-6e3fa312b4f4"
      },
      "source": [
        "combined_df['CO2_EMISSIONS']"
      ],
      "execution_count": null,
      "outputs": [
        {
          "output_type": "execute_result",
          "data": {
            "text/plain": [
              "0        202.0\n",
              "1        193.0\n",
              "2        191.0\n",
              "3        251.0\n",
              "4        260.0\n",
              "         ...  \n",
              "17767    237.0\n",
              "17768    230.0\n",
              "17769    237.0\n",
              "17770    225.0\n",
              "17771    258.0\n",
              "Name: CO2_EMISSIONS, Length: 17772, dtype: float64"
            ]
          },
          "metadata": {},
          "execution_count": 127
        }
      ]
    },
    {
      "cell_type": "code",
      "metadata": {
        "colab": {
          "base_uri": "https://localhost:8080/"
        },
        "id": "Ul8sXZKI1-92",
        "outputId": "340ddb13-5e23-40c1-f289-8bcb52b2c3eb"
      },
      "source": [
        "#Mapping ranges of CO2 Emission as 0-low emission, 1-medium emission, 2-high emission\n",
        "criteria = [combined_df['CO2_EMISSIONS'].between(83.0, 240.0), combined_df['CO2_EMISSIONS'].between(240.0, 450.0), combined_df['CO2_EMISSIONS'].between(450.0, 570.0)]\n",
        "values = [0,1,2]\n",
        "\n",
        "combined_df['CO2_levels'] = np.select(criteria, values, 0)\n",
        "combined_df['CO2_levels'].unique()\n",
        "y=combined_df['CO2_levels']\n",
        "y=np.array(y)\n",
        "print(y.dtype)\n",
        "print(y)\n",
        "X=combined_df[['ENGINE SIZE', 'CYLINDERS','Consumption_CITY','Consumption_HWY', 'COMB (L/100 km)']]\n"
      ],
      "execution_count": null,
      "outputs": [
        {
          "output_type": "stream",
          "text": [
            "int64\n",
            "[0 0 0 ... 0 0 1]\n"
          ],
          "name": "stdout"
        }
      ]
    },
    {
      "cell_type": "code",
      "metadata": {
        "colab": {
          "base_uri": "https://localhost:8080/"
        },
        "id": "WP592uSFeHUa",
        "outputId": "36e3a8d9-3766-436b-a965-7c9e0d422e3b"
      },
      "source": [
        "X_train, X_test, y_train, y_test  = train_test_split(X, y, test_size=0.30, random_state=42)\n",
        "print(X_train.shape)\n",
        "\n",
        "#X_train = np.reshape(X_train, (1,-1))\n",
        "#X_test= np.reshape(X_test, (X_test.shape[0], 1))"
      ],
      "execution_count": null,
      "outputs": [
        {
          "output_type": "stream",
          "text": [
            "(12440, 5)\n"
          ],
          "name": "stdout"
        }
      ]
    },
    {
      "cell_type": "code",
      "metadata": {
        "colab": {
          "base_uri": "https://localhost:8080/"
        },
        "id": "h09JeDZXUSkY",
        "outputId": "258981e5-9b7e-4ac4-f437-dd30a4dd21f5"
      },
      "source": [
        "# retrieve unique clusters\n",
        "clusters = unique(yhat)\n",
        "print(clusters)\n",
        "# create scatter plot for samples from each cluster\n",
        "for cluster in clusters:\n",
        "\t# get row indexes for samples with this cluster\n",
        "\trow_ix = where(yhat == cluster)\n",
        "print(row_ix)\n",
        "\t# create scatter of these samples\n",
        "#pyplot.scatter(X[row_ix, 0], X[row_ix, 1])\n",
        "# show the plot\n",
        "pyplot.show()"
      ],
      "execution_count": null,
      "outputs": [
        {
          "output_type": "stream",
          "text": [
            "[0 1 2]\n",
            "(array([   1,    3,    7, ..., 5321, 5327, 5330]),)\n"
          ],
          "name": "stdout"
        }
      ]
    },
    {
      "cell_type": "code",
      "metadata": {
        "id": "f85Hf5oabBcq"
      },
      "source": [
        ""
      ],
      "execution_count": null,
      "outputs": []
    },
    {
      "cell_type": "code",
      "metadata": {
        "colab": {
          "base_uri": "https://localhost:8080/",
          "height": 854
        },
        "id": "3lLJAbznaY60",
        "outputId": "1779563d-56fa-4e7c-b452-953ccdef313a"
      },
      "source": [
        "from sklearn.ensemble import RandomForestClassifier\n",
        "from sklearn.metrics import confusion_matrix\n",
        "from sklearn.model_selection import GridSearchCV\n",
        "from pandas.plotting import register_matplotlib_converters\n",
        "\n",
        "max_depth=[2, 8, 16]\n",
        "n_estimators = [64, 128, 256]\n",
        "param_grid = dict(max_depth=max_depth, n_estimators=n_estimators)\n",
        "\n",
        "# Build the grid search\n",
        "dfrst = RandomForestClassifier(n_estimators=n_estimators, max_depth=max_depth)\n",
        "grid = GridSearchCV(estimator=dfrst, param_grid=param_grid, cv = 5)\n",
        "grid_results = grid.fit(X_train, y_train)\n",
        "\n",
        "\n",
        "# Summarize the results in a readable format\n",
        "print(\"Best: {0}, using {1}\".format(grid_results.cv_results_['mean_test_score'], grid_results.best_params_))\n",
        "results_df = pd.DataFrame(grid_results.cv_results_)\n",
        "results_df"
      ],
      "execution_count": null,
      "outputs": [
        {
          "output_type": "stream",
          "text": [
            "Best: [0.98376206 0.98376206 0.98376206 0.99180064 0.99099678 0.99099678\n",
            " 0.99606109 0.99638264 0.99654341], using {'max_depth': 16, 'n_estimators': 256}\n"
          ],
          "name": "stdout"
        },
        {
          "output_type": "execute_result",
          "data": {
            "text/html": [
              "<div>\n",
              "<style scoped>\n",
              "    .dataframe tbody tr th:only-of-type {\n",
              "        vertical-align: middle;\n",
              "    }\n",
              "\n",
              "    .dataframe tbody tr th {\n",
              "        vertical-align: top;\n",
              "    }\n",
              "\n",
              "    .dataframe thead th {\n",
              "        text-align: right;\n",
              "    }\n",
              "</style>\n",
              "<table border=\"1\" class=\"dataframe\">\n",
              "  <thead>\n",
              "    <tr style=\"text-align: right;\">\n",
              "      <th></th>\n",
              "      <th>mean_fit_time</th>\n",
              "      <th>std_fit_time</th>\n",
              "      <th>mean_score_time</th>\n",
              "      <th>std_score_time</th>\n",
              "      <th>param_max_depth</th>\n",
              "      <th>param_n_estimators</th>\n",
              "      <th>params</th>\n",
              "      <th>split0_test_score</th>\n",
              "      <th>split1_test_score</th>\n",
              "      <th>split2_test_score</th>\n",
              "      <th>split3_test_score</th>\n",
              "      <th>split4_test_score</th>\n",
              "      <th>mean_test_score</th>\n",
              "      <th>std_test_score</th>\n",
              "      <th>rank_test_score</th>\n",
              "    </tr>\n",
              "  </thead>\n",
              "  <tbody>\n",
              "    <tr>\n",
              "      <th>0</th>\n",
              "      <td>0.228272</td>\n",
              "      <td>0.010832</td>\n",
              "      <td>0.015329</td>\n",
              "      <td>0.000351</td>\n",
              "      <td>2</td>\n",
              "      <td>64</td>\n",
              "      <td>{'max_depth': 2, 'n_estimators': 64}</td>\n",
              "      <td>0.984325</td>\n",
              "      <td>0.986736</td>\n",
              "      <td>0.982717</td>\n",
              "      <td>0.981913</td>\n",
              "      <td>0.983119</td>\n",
              "      <td>0.983762</td>\n",
              "      <td>0.001679</td>\n",
              "      <td>7</td>\n",
              "    </tr>\n",
              "    <tr>\n",
              "      <th>1</th>\n",
              "      <td>0.443422</td>\n",
              "      <td>0.009038</td>\n",
              "      <td>0.029759</td>\n",
              "      <td>0.002793</td>\n",
              "      <td>2</td>\n",
              "      <td>128</td>\n",
              "      <td>{'max_depth': 2, 'n_estimators': 128}</td>\n",
              "      <td>0.984325</td>\n",
              "      <td>0.986736</td>\n",
              "      <td>0.982717</td>\n",
              "      <td>0.981913</td>\n",
              "      <td>0.983119</td>\n",
              "      <td>0.983762</td>\n",
              "      <td>0.001679</td>\n",
              "      <td>7</td>\n",
              "    </tr>\n",
              "    <tr>\n",
              "      <th>2</th>\n",
              "      <td>0.875695</td>\n",
              "      <td>0.006840</td>\n",
              "      <td>0.055407</td>\n",
              "      <td>0.001045</td>\n",
              "      <td>2</td>\n",
              "      <td>256</td>\n",
              "      <td>{'max_depth': 2, 'n_estimators': 256}</td>\n",
              "      <td>0.984325</td>\n",
              "      <td>0.986736</td>\n",
              "      <td>0.982717</td>\n",
              "      <td>0.981913</td>\n",
              "      <td>0.983119</td>\n",
              "      <td>0.983762</td>\n",
              "      <td>0.001679</td>\n",
              "      <td>7</td>\n",
              "    </tr>\n",
              "    <tr>\n",
              "      <th>3</th>\n",
              "      <td>0.334967</td>\n",
              "      <td>0.006685</td>\n",
              "      <td>0.019406</td>\n",
              "      <td>0.000485</td>\n",
              "      <td>8</td>\n",
              "      <td>64</td>\n",
              "      <td>{'max_depth': 8, 'n_estimators': 64}</td>\n",
              "      <td>0.988746</td>\n",
              "      <td>0.995177</td>\n",
              "      <td>0.992363</td>\n",
              "      <td>0.990354</td>\n",
              "      <td>0.992363</td>\n",
              "      <td>0.991801</td>\n",
              "      <td>0.002166</td>\n",
              "      <td>4</td>\n",
              "    </tr>\n",
              "    <tr>\n",
              "      <th>4</th>\n",
              "      <td>0.661306</td>\n",
              "      <td>0.005956</td>\n",
              "      <td>0.038047</td>\n",
              "      <td>0.002402</td>\n",
              "      <td>8</td>\n",
              "      <td>128</td>\n",
              "      <td>{'max_depth': 8, 'n_estimators': 128}</td>\n",
              "      <td>0.990354</td>\n",
              "      <td>0.993569</td>\n",
              "      <td>0.990354</td>\n",
              "      <td>0.990756</td>\n",
              "      <td>0.989952</td>\n",
              "      <td>0.990997</td>\n",
              "      <td>0.001311</td>\n",
              "      <td>5</td>\n",
              "    </tr>\n",
              "    <tr>\n",
              "      <th>5</th>\n",
              "      <td>1.345434</td>\n",
              "      <td>0.016937</td>\n",
              "      <td>0.073883</td>\n",
              "      <td>0.001602</td>\n",
              "      <td>8</td>\n",
              "      <td>256</td>\n",
              "      <td>{'max_depth': 8, 'n_estimators': 256}</td>\n",
              "      <td>0.989550</td>\n",
              "      <td>0.995579</td>\n",
              "      <td>0.989550</td>\n",
              "      <td>0.989952</td>\n",
              "      <td>0.990354</td>\n",
              "      <td>0.990997</td>\n",
              "      <td>0.002310</td>\n",
              "      <td>5</td>\n",
              "    </tr>\n",
              "    <tr>\n",
              "      <th>6</th>\n",
              "      <td>0.342224</td>\n",
              "      <td>0.005994</td>\n",
              "      <td>0.020447</td>\n",
              "      <td>0.000884</td>\n",
              "      <td>16</td>\n",
              "      <td>64</td>\n",
              "      <td>{'max_depth': 16, 'n_estimators': 64}</td>\n",
              "      <td>0.992765</td>\n",
              "      <td>0.997186</td>\n",
              "      <td>0.995177</td>\n",
              "      <td>0.998392</td>\n",
              "      <td>0.996785</td>\n",
              "      <td>0.996061</td>\n",
              "      <td>0.001943</td>\n",
              "      <td>3</td>\n",
              "    </tr>\n",
              "    <tr>\n",
              "      <th>7</th>\n",
              "      <td>0.694672</td>\n",
              "      <td>0.018374</td>\n",
              "      <td>0.038238</td>\n",
              "      <td>0.000824</td>\n",
              "      <td>16</td>\n",
              "      <td>128</td>\n",
              "      <td>{'max_depth': 16, 'n_estimators': 128}</td>\n",
              "      <td>0.993971</td>\n",
              "      <td>0.997588</td>\n",
              "      <td>0.995177</td>\n",
              "      <td>0.998392</td>\n",
              "      <td>0.996785</td>\n",
              "      <td>0.996383</td>\n",
              "      <td>0.001608</td>\n",
              "      <td>2</td>\n",
              "    </tr>\n",
              "    <tr>\n",
              "      <th>8</th>\n",
              "      <td>1.363836</td>\n",
              "      <td>0.017886</td>\n",
              "      <td>0.077087</td>\n",
              "      <td>0.002528</td>\n",
              "      <td>16</td>\n",
              "      <td>256</td>\n",
              "      <td>{'max_depth': 16, 'n_estimators': 256}</td>\n",
              "      <td>0.993971</td>\n",
              "      <td>0.997588</td>\n",
              "      <td>0.995981</td>\n",
              "      <td>0.998392</td>\n",
              "      <td>0.996785</td>\n",
              "      <td>0.996543</td>\n",
              "      <td>0.001517</td>\n",
              "      <td>1</td>\n",
              "    </tr>\n",
              "  </tbody>\n",
              "</table>\n",
              "</div>"
            ],
            "text/plain": [
              "   mean_fit_time  std_fit_time  mean_score_time  std_score_time  \\\n",
              "0       0.228272      0.010832         0.015329        0.000351   \n",
              "1       0.443422      0.009038         0.029759        0.002793   \n",
              "2       0.875695      0.006840         0.055407        0.001045   \n",
              "3       0.334967      0.006685         0.019406        0.000485   \n",
              "4       0.661306      0.005956         0.038047        0.002402   \n",
              "5       1.345434      0.016937         0.073883        0.001602   \n",
              "6       0.342224      0.005994         0.020447        0.000884   \n",
              "7       0.694672      0.018374         0.038238        0.000824   \n",
              "8       1.363836      0.017886         0.077087        0.002528   \n",
              "\n",
              "  param_max_depth param_n_estimators                                  params  \\\n",
              "0               2                 64    {'max_depth': 2, 'n_estimators': 64}   \n",
              "1               2                128   {'max_depth': 2, 'n_estimators': 128}   \n",
              "2               2                256   {'max_depth': 2, 'n_estimators': 256}   \n",
              "3               8                 64    {'max_depth': 8, 'n_estimators': 64}   \n",
              "4               8                128   {'max_depth': 8, 'n_estimators': 128}   \n",
              "5               8                256   {'max_depth': 8, 'n_estimators': 256}   \n",
              "6              16                 64   {'max_depth': 16, 'n_estimators': 64}   \n",
              "7              16                128  {'max_depth': 16, 'n_estimators': 128}   \n",
              "8              16                256  {'max_depth': 16, 'n_estimators': 256}   \n",
              "\n",
              "   split0_test_score  split1_test_score  split2_test_score  split3_test_score  \\\n",
              "0           0.984325           0.986736           0.982717           0.981913   \n",
              "1           0.984325           0.986736           0.982717           0.981913   \n",
              "2           0.984325           0.986736           0.982717           0.981913   \n",
              "3           0.988746           0.995177           0.992363           0.990354   \n",
              "4           0.990354           0.993569           0.990354           0.990756   \n",
              "5           0.989550           0.995579           0.989550           0.989952   \n",
              "6           0.992765           0.997186           0.995177           0.998392   \n",
              "7           0.993971           0.997588           0.995177           0.998392   \n",
              "8           0.993971           0.997588           0.995981           0.998392   \n",
              "\n",
              "   split4_test_score  mean_test_score  std_test_score  rank_test_score  \n",
              "0           0.983119         0.983762        0.001679                7  \n",
              "1           0.983119         0.983762        0.001679                7  \n",
              "2           0.983119         0.983762        0.001679                7  \n",
              "3           0.992363         0.991801        0.002166                4  \n",
              "4           0.989952         0.990997        0.001311                5  \n",
              "5           0.990354         0.990997        0.002310                5  \n",
              "6           0.996785         0.996061        0.001943                3  \n",
              "7           0.996785         0.996383        0.001608                2  \n",
              "8           0.996785         0.996543        0.001517                1  "
            ]
          },
          "metadata": {},
          "execution_count": 151
        }
      ]
    },
    {
      "cell_type": "code",
      "metadata": {
        "id": "NSJPV2N0bBOI"
      },
      "source": [
        ""
      ],
      "execution_count": null,
      "outputs": []
    },
    {
      "cell_type": "code",
      "metadata": {
        "colab": {
          "base_uri": "https://localhost:8080/",
          "height": 295
        },
        "id": "pb8Pa-F358v2",
        "outputId": "c40e208a-2ad4-4cd5-eaf8-49926ea2bf87"
      },
      "source": [
        "combined_df.head()"
      ],
      "execution_count": null,
      "outputs": [
        {
          "output_type": "execute_result",
          "data": {
            "text/html": [
              "<div>\n",
              "<style scoped>\n",
              "    .dataframe tbody tr th:only-of-type {\n",
              "        vertical-align: middle;\n",
              "    }\n",
              "\n",
              "    .dataframe tbody tr th {\n",
              "        vertical-align: top;\n",
              "    }\n",
              "\n",
              "    .dataframe thead th {\n",
              "        text-align: right;\n",
              "    }\n",
              "</style>\n",
              "<table border=\"1\" class=\"dataframe\">\n",
              "  <thead>\n",
              "    <tr style=\"text-align: right;\">\n",
              "      <th></th>\n",
              "      <th>MODEL YEAR</th>\n",
              "      <th>MAKE</th>\n",
              "      <th>MODEL</th>\n",
              "      <th>VEHICLE CLASS</th>\n",
              "      <th>ENGINE SIZE</th>\n",
              "      <th>CYLINDERS</th>\n",
              "      <th>TRANSMISSION</th>\n",
              "      <th>FUEL TYPE</th>\n",
              "      <th>Consumption_CITY</th>\n",
              "      <th>Consumption_HWY</th>\n",
              "      <th>COMB (L/100 km)</th>\n",
              "      <th>COMB (mpg)</th>\n",
              "      <th>CO2_EMISSIONS</th>\n",
              "      <th>CO2_levels</th>\n",
              "    </tr>\n",
              "  </thead>\n",
              "  <tbody>\n",
              "    <tr>\n",
              "      <th>0</th>\n",
              "      <td>1995</td>\n",
              "      <td>ACURA</td>\n",
              "      <td>INTEGRA</td>\n",
              "      <td>SUBCOMPACT</td>\n",
              "      <td>1.8</td>\n",
              "      <td>4.0</td>\n",
              "      <td>A4</td>\n",
              "      <td>X</td>\n",
              "      <td>10.2</td>\n",
              "      <td>7.0</td>\n",
              "      <td>8.8</td>\n",
              "      <td>32.0</td>\n",
              "      <td>202.0</td>\n",
              "      <td>0</td>\n",
              "    </tr>\n",
              "    <tr>\n",
              "      <th>1</th>\n",
              "      <td>1995</td>\n",
              "      <td>ACURA</td>\n",
              "      <td>INTEGRA</td>\n",
              "      <td>SUBCOMPACT</td>\n",
              "      <td>1.8</td>\n",
              "      <td>4.0</td>\n",
              "      <td>M5</td>\n",
              "      <td>X</td>\n",
              "      <td>9.6</td>\n",
              "      <td>7.0</td>\n",
              "      <td>8.4</td>\n",
              "      <td>34.0</td>\n",
              "      <td>193.0</td>\n",
              "      <td>0</td>\n",
              "    </tr>\n",
              "    <tr>\n",
              "      <th>2</th>\n",
              "      <td>1995</td>\n",
              "      <td>ACURA</td>\n",
              "      <td>INTEGRA GS-R</td>\n",
              "      <td>SUBCOMPACT</td>\n",
              "      <td>1.8</td>\n",
              "      <td>4.0</td>\n",
              "      <td>M5</td>\n",
              "      <td>Z</td>\n",
              "      <td>9.4</td>\n",
              "      <td>7.0</td>\n",
              "      <td>8.3</td>\n",
              "      <td>34.0</td>\n",
              "      <td>191.0</td>\n",
              "      <td>0</td>\n",
              "    </tr>\n",
              "    <tr>\n",
              "      <th>3</th>\n",
              "      <td>1995</td>\n",
              "      <td>ACURA</td>\n",
              "      <td>LEGEND</td>\n",
              "      <td>COMPACT</td>\n",
              "      <td>3.2</td>\n",
              "      <td>6.0</td>\n",
              "      <td>A4</td>\n",
              "      <td>Z</td>\n",
              "      <td>12.6</td>\n",
              "      <td>8.9</td>\n",
              "      <td>10.9</td>\n",
              "      <td>26.0</td>\n",
              "      <td>251.0</td>\n",
              "      <td>1</td>\n",
              "    </tr>\n",
              "    <tr>\n",
              "      <th>4</th>\n",
              "      <td>1995</td>\n",
              "      <td>ACURA</td>\n",
              "      <td>LEGEND COUPE</td>\n",
              "      <td>COMPACT</td>\n",
              "      <td>3.2</td>\n",
              "      <td>6.0</td>\n",
              "      <td>A4</td>\n",
              "      <td>Z</td>\n",
              "      <td>13.0</td>\n",
              "      <td>9.3</td>\n",
              "      <td>11.3</td>\n",
              "      <td>25.0</td>\n",
              "      <td>260.0</td>\n",
              "      <td>1</td>\n",
              "    </tr>\n",
              "  </tbody>\n",
              "</table>\n",
              "</div>"
            ],
            "text/plain": [
              "  MODEL YEAR   MAKE         MODEL VEHICLE CLASS  ENGINE SIZE  CYLINDERS  \\\n",
              "0       1995  ACURA       INTEGRA    SUBCOMPACT          1.8        4.0   \n",
              "1       1995  ACURA       INTEGRA    SUBCOMPACT          1.8        4.0   \n",
              "2       1995  ACURA  INTEGRA GS-R    SUBCOMPACT          1.8        4.0   \n",
              "3       1995  ACURA        LEGEND       COMPACT          3.2        6.0   \n",
              "4       1995  ACURA  LEGEND COUPE       COMPACT          3.2        6.0   \n",
              "\n",
              "  TRANSMISSION FUEL TYPE  Consumption_CITY  Consumption_HWY  COMB (L/100 km)  \\\n",
              "0           A4         X              10.2              7.0              8.8   \n",
              "1           M5         X               9.6              7.0              8.4   \n",
              "2           M5         Z               9.4              7.0              8.3   \n",
              "3           A4         Z              12.6              8.9             10.9   \n",
              "4           A4         Z              13.0              9.3             11.3   \n",
              "\n",
              "   COMB (mpg)  CO2_EMISSIONS  CO2_levels  \n",
              "0        32.0          202.0           0  \n",
              "1        34.0          193.0           0  \n",
              "2        34.0          191.0           0  \n",
              "3        26.0          251.0           1  \n",
              "4        25.0          260.0           1  "
            ]
          },
          "metadata": {
            "tags": []
          },
          "execution_count": 25
        }
      ]
    },
    {
      "cell_type": "code",
      "metadata": {
        "colab": {
          "base_uri": "https://localhost:8080/",
          "height": 347
        },
        "id": "ICm8t5Pnbi0q",
        "outputId": "a794038c-bcff-4bb6-a2f4-72820887dc03"
      },
      "source": [
        "combined_df[combined_df[\"CO2_EMISSIONS\"] >= 500]"
      ],
      "execution_count": null,
      "outputs": [
        {
          "output_type": "execute_result",
          "data": {
            "text/html": [
              "<div>\n",
              "<style scoped>\n",
              "    .dataframe tbody tr th:only-of-type {\n",
              "        vertical-align: middle;\n",
              "    }\n",
              "\n",
              "    .dataframe tbody tr th {\n",
              "        vertical-align: top;\n",
              "    }\n",
              "\n",
              "    .dataframe thead th {\n",
              "        text-align: right;\n",
              "    }\n",
              "</style>\n",
              "<table border=\"1\" class=\"dataframe\">\n",
              "  <thead>\n",
              "    <tr style=\"text-align: right;\">\n",
              "      <th></th>\n",
              "      <th>MODEL YEAR</th>\n",
              "      <th>MAKE</th>\n",
              "      <th>MODEL</th>\n",
              "      <th>VEHICLE CLASS</th>\n",
              "      <th>ENGINE SIZE</th>\n",
              "      <th>CYLINDERS</th>\n",
              "      <th>TRANSMISSION</th>\n",
              "      <th>FUEL TYPE</th>\n",
              "      <th>Consumption_CITY</th>\n",
              "      <th>Consumption_HWY</th>\n",
              "      <th>COMB (L/100 km)</th>\n",
              "      <th>COMB (mpg)</th>\n",
              "      <th>CO2_EMISSIONS</th>\n",
              "      <th>CO2_levels</th>\n",
              "    </tr>\n",
              "  </thead>\n",
              "  <tbody>\n",
              "    <tr>\n",
              "      <th>3734</th>\n",
              "      <td>2000</td>\n",
              "      <td>FERRARI</td>\n",
              "      <td>550 MARANELLO</td>\n",
              "      <td>SUBCOMPACT</td>\n",
              "      <td>5.5</td>\n",
              "      <td>12.0</td>\n",
              "      <td>M6</td>\n",
              "      <td>Z</td>\n",
              "      <td>27.7</td>\n",
              "      <td>16.6</td>\n",
              "      <td>22.7</td>\n",
              "      <td>12.0</td>\n",
              "      <td>522.0</td>\n",
              "      <td>2</td>\n",
              "    </tr>\n",
              "    <tr>\n",
              "      <th>5832</th>\n",
              "      <td>2003</td>\n",
              "      <td>FERRARI</td>\n",
              "      <td>ENZO</td>\n",
              "      <td>TWO-SEATER</td>\n",
              "      <td>6.0</td>\n",
              "      <td>12.0</td>\n",
              "      <td>AS6</td>\n",
              "      <td>Z</td>\n",
              "      <td>30.6</td>\n",
              "      <td>17.6</td>\n",
              "      <td>24.8</td>\n",
              "      <td>11.0</td>\n",
              "      <td>570.0</td>\n",
              "      <td>2</td>\n",
              "    </tr>\n",
              "    <tr>\n",
              "      <th>7618</th>\n",
              "      <td>2005</td>\n",
              "      <td>DODGE</td>\n",
              "      <td>RAM SRT-10</td>\n",
              "      <td>PICKUP TRUCK - STANDARD</td>\n",
              "      <td>8.3</td>\n",
              "      <td>10.0</td>\n",
              "      <td>A4</td>\n",
              "      <td>Z</td>\n",
              "      <td>26.1</td>\n",
              "      <td>17.6</td>\n",
              "      <td>22.3</td>\n",
              "      <td>13.0</td>\n",
              "      <td>513.0</td>\n",
              "      <td>2</td>\n",
              "    </tr>\n",
              "    <tr>\n",
              "      <th>8636</th>\n",
              "      <td>2006</td>\n",
              "      <td>DODGE</td>\n",
              "      <td>RAM SRT-10</td>\n",
              "      <td>PICKUP TRUCK - STANDARD</td>\n",
              "      <td>8.3</td>\n",
              "      <td>10.0</td>\n",
              "      <td>A4</td>\n",
              "      <td>Z</td>\n",
              "      <td>26.1</td>\n",
              "      <td>17.6</td>\n",
              "      <td>22.3</td>\n",
              "      <td>13.0</td>\n",
              "      <td>513.0</td>\n",
              "      <td>2</td>\n",
              "    </tr>\n",
              "    <tr>\n",
              "      <th>12633</th>\n",
              "      <td>2010</td>\n",
              "      <td>BUGATTI</td>\n",
              "      <td>VEYRON</td>\n",
              "      <td>TWO-SEATER</td>\n",
              "      <td>8.0</td>\n",
              "      <td>16.0</td>\n",
              "      <td>AS7</td>\n",
              "      <td>Z</td>\n",
              "      <td>27.5</td>\n",
              "      <td>15.5</td>\n",
              "      <td>22.1</td>\n",
              "      <td>13.0</td>\n",
              "      <td>508.0</td>\n",
              "      <td>2</td>\n",
              "    </tr>\n",
              "  </tbody>\n",
              "</table>\n",
              "</div>"
            ],
            "text/plain": [
              "      MODEL YEAR     MAKE          MODEL            VEHICLE CLASS  \\\n",
              "3734        2000  FERRARI  550 MARANELLO               SUBCOMPACT   \n",
              "5832        2003  FERRARI           ENZO               TWO-SEATER   \n",
              "7618        2005    DODGE     RAM SRT-10  PICKUP TRUCK - STANDARD   \n",
              "8636        2006    DODGE     RAM SRT-10  PICKUP TRUCK - STANDARD   \n",
              "12633       2010  BUGATTI         VEYRON               TWO-SEATER   \n",
              "\n",
              "       ENGINE SIZE  CYLINDERS TRANSMISSION FUEL TYPE  Consumption_CITY  \\\n",
              "3734           5.5       12.0           M6         Z              27.7   \n",
              "5832           6.0       12.0          AS6         Z              30.6   \n",
              "7618           8.3       10.0           A4         Z              26.1   \n",
              "8636           8.3       10.0           A4         Z              26.1   \n",
              "12633          8.0       16.0          AS7         Z              27.5   \n",
              "\n",
              "       Consumption_HWY  COMB (L/100 km)  COMB (mpg)  CO2_EMISSIONS  CO2_levels  \n",
              "3734              16.6             22.7        12.0          522.0           2  \n",
              "5832              17.6             24.8        11.0          570.0           2  \n",
              "7618              17.6             22.3        13.0          513.0           2  \n",
              "8636              17.6             22.3        13.0          513.0           2  \n",
              "12633             15.5             22.1        13.0          508.0           2  "
            ]
          },
          "metadata": {
            "tags": []
          },
          "execution_count": 43
        }
      ]
    }
  ]
}